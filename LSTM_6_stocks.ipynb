{
  "cells": [
    {
      "cell_type": "markdown",
      "metadata": {
        "id": "8GaP9jxzhN9D"
      },
      "source": [
        "# **Packages needed**"
      ]
    },
    {
      "cell_type": "code",
      "execution_count": 1,
      "metadata": {
        "id": "mJevNczahMDw"
      },
      "outputs": [],
      "source": [
        "import yfinance as yf\n",
        "import pandas as pd\n",
        "import numpy as np\n",
        "import ta\n",
        "from sklearn.preprocessing import MinMaxScaler\n",
        "from sklearn.metrics import mean_squared_error, mean_absolute_percentage_error\n",
        "from tensorflow.keras.models import Sequential\n",
        "from tensorflow.keras.layers import LSTM, Dense\n",
        "from tensorflow.keras.callbacks import EarlyStopping\n",
        "import matplotlib.pyplot as plt"
      ]
    },
    {
      "cell_type": "markdown",
      "metadata": {
        "id": "ZnoVf9LqhT_S"
      },
      "source": [
        "# **Data needed**"
      ]
    },
    {
      "cell_type": "code",
      "execution_count": 2,
      "metadata": {
        "colab": {
          "base_uri": "https://localhost:8080/"
        },
        "id": "IqEFDUdb9PUJ",
        "outputId": "9c2bdf51-5c78-481f-c93c-a30028c680aa"
      },
      "outputs": [
        {
          "name": "stdout",
          "output_type": "stream",
          "text": [
            "         Date   High    Low   Open  Close   Volume\n",
            "0  06/03/2025  17.45  17.10  17.20  17.45  1853100\n",
            "1  05/03/2025  17.40  17.10  17.40  17.10  1613700\n",
            "2  04/03/2025  17.50  17.15  17.50  17.35  1950000\n",
            "3  03/03/2025  17.75  17.40  17.60  17.50  1797400\n",
            "4  28/02/2025  17.85  17.55  17.65  17.60  2224500\n",
            "         Date  High   Low  Open  Close  Volume\n",
            "0  06/03/2025  7.94  7.94  7.94   7.94       0\n",
            "1  05/03/2025  7.96  7.80  7.96   7.94     400\n",
            "2  04/03/2025  8.15  7.85  8.15   7.85     800\n",
            "3  03/03/2025  7.80  7.68  7.80   7.68     300\n",
            "4  28/02/2025  7.68  7.60  7.67   7.60     800\n",
            "         Date  High   Low  Open  Close   Volume\n",
            "0  06/03/2025  51.7  50.0  51.2   50.7  3492300\n",
            "1  05/03/2025  52.8  51.0  52.0   51.0  2064800\n",
            "2  04/03/2025  52.4  51.5  52.4   52.1  2057600\n",
            "3  03/03/2025  53.1  51.5  53.1   52.2  4080100\n",
            "4  28/02/2025  53.7  52.3  52.8   53.2  2077900\n",
            "         Date  High   Low  Open  Close  Volume\n",
            "0  06/03/2025  58.2  57.3  58.0   58.0  304000\n",
            "1  05/03/2025  58.5  57.5  58.5   58.0  261500\n",
            "2  04/03/2025  58.5  57.6  58.5   58.3  443700\n",
            "3  03/03/2025  58.9  58.2  58.7   58.5  428400\n",
            "4  28/02/2025  58.5  57.9  58.3   58.5  146500\n",
            "         Date   High    Low   Open  Close  Volume\n",
            "0  06/03/2025  21.20  20.80  21.10  20.80  360200\n",
            "1  05/03/2025  21.20  20.45  20.50  21.10  846800\n",
            "2  04/03/2025  20.55  20.30  20.40  20.50  379200\n",
            "3  03/03/2025  20.45  20.20  20.40  20.40  361400\n",
            "4  28/02/2025  20.85  20.40  20.65  20.55  316800\n",
            "         Date   High    Low   Open  Close   Volume\n",
            "0  06/03/2025  26.25  26.00  26.05  26.10  1271700\n",
            "1  05/03/2025  26.35  26.00  26.30  26.00  2037600\n",
            "2  04/03/2025  26.75  26.25  26.70  26.30  2564200\n",
            "3  03/03/2025  26.85  26.60  26.80  26.65  1659800\n",
            "4  28/02/2025  27.15  26.45  26.45  26.70  4052000\n"
          ]
        }
      ],
      "source": [
        "anv_df = pd.read_csv('anv_df.csv')\n",
        "dat_df = pd.read_csv('dat_df.csv')\n",
        "hah_df = pd.read_csv('hah_df.csv')\n",
        "kdc_df = pd.read_csv('kdc_df.csv')\n",
        "naf_df = pd.read_csv('naf_df.csv')\n",
        "pvt_df = pd.read_csv('pvt_df.csv')\n",
        "\n",
        "# View the first few ones\n",
        "print(anv_df.head())\n",
        "print(dat_df.head())\n",
        "print(hah_df.head())\n",
        "print(kdc_df.head())\n",
        "print(naf_df.head())\n",
        "print(pvt_df.head())"
      ]
    },
    {
      "cell_type": "code",
      "execution_count": 3,
      "metadata": {
        "colab": {
          "base_uri": "https://localhost:8080/"
        },
        "id": "SFxse0srLT9A",
        "outputId": "06de13ff-b80c-4a9c-b3c1-bd42aefeda2b"
      },
      "outputs": [
        {
          "name": "stdout",
          "output_type": "stream",
          "text": [
            "<class 'pandas.core.frame.DataFrame'>\n",
            "RangeIndex: 1500 entries, 0 to 1499\n",
            "Data columns (total 6 columns):\n",
            " #   Column  Non-Null Count  Dtype  \n",
            "---  ------  --------------  -----  \n",
            " 0   Date    1500 non-null   object \n",
            " 1   High    1500 non-null   float64\n",
            " 2   Low     1500 non-null   float64\n",
            " 3   Open    1500 non-null   float64\n",
            " 4   Close   1500 non-null   float64\n",
            " 5   Volume  1500 non-null   int64  \n",
            "dtypes: float64(4), int64(1), object(1)\n",
            "memory usage: 70.4+ KB\n",
            "None\n",
            "<class 'pandas.core.frame.DataFrame'>\n",
            "RangeIndex: 1500 entries, 0 to 1499\n",
            "Data columns (total 6 columns):\n",
            " #   Column  Non-Null Count  Dtype  \n",
            "---  ------  --------------  -----  \n",
            " 0   Date    1500 non-null   object \n",
            " 1   High    1500 non-null   float64\n",
            " 2   Low     1500 non-null   float64\n",
            " 3   Open    1500 non-null   float64\n",
            " 4   Close   1500 non-null   float64\n",
            " 5   Volume  1500 non-null   int64  \n",
            "dtypes: float64(4), int64(1), object(1)\n",
            "memory usage: 70.4+ KB\n",
            "None\n",
            "<class 'pandas.core.frame.DataFrame'>\n",
            "RangeIndex: 1500 entries, 0 to 1499\n",
            "Data columns (total 6 columns):\n",
            " #   Column  Non-Null Count  Dtype  \n",
            "---  ------  --------------  -----  \n",
            " 0   Date    1500 non-null   object \n",
            " 1   High    1500 non-null   float64\n",
            " 2   Low     1500 non-null   float64\n",
            " 3   Open    1500 non-null   float64\n",
            " 4   Close   1500 non-null   float64\n",
            " 5   Volume  1500 non-null   int64  \n",
            "dtypes: float64(4), int64(1), object(1)\n",
            "memory usage: 70.4+ KB\n",
            "None\n",
            "<class 'pandas.core.frame.DataFrame'>\n",
            "RangeIndex: 1500 entries, 0 to 1499\n",
            "Data columns (total 6 columns):\n",
            " #   Column  Non-Null Count  Dtype  \n",
            "---  ------  --------------  -----  \n",
            " 0   Date    1500 non-null   object \n",
            " 1   High    1500 non-null   float64\n",
            " 2   Low     1500 non-null   float64\n",
            " 3   Open    1500 non-null   float64\n",
            " 4   Close   1500 non-null   float64\n",
            " 5   Volume  1500 non-null   int64  \n",
            "dtypes: float64(4), int64(1), object(1)\n",
            "memory usage: 70.4+ KB\n",
            "None\n",
            "<class 'pandas.core.frame.DataFrame'>\n",
            "RangeIndex: 1500 entries, 0 to 1499\n",
            "Data columns (total 6 columns):\n",
            " #   Column  Non-Null Count  Dtype  \n",
            "---  ------  --------------  -----  \n",
            " 0   Date    1500 non-null   object \n",
            " 1   High    1500 non-null   float64\n",
            " 2   Low     1500 non-null   float64\n",
            " 3   Open    1500 non-null   float64\n",
            " 4   Close   1500 non-null   float64\n",
            " 5   Volume  1500 non-null   int64  \n",
            "dtypes: float64(4), int64(1), object(1)\n",
            "memory usage: 70.4+ KB\n",
            "None\n",
            "<class 'pandas.core.frame.DataFrame'>\n",
            "RangeIndex: 1500 entries, 0 to 1499\n",
            "Data columns (total 6 columns):\n",
            " #   Column  Non-Null Count  Dtype  \n",
            "---  ------  --------------  -----  \n",
            " 0   Date    1500 non-null   object \n",
            " 1   High    1500 non-null   float64\n",
            " 2   Low     1500 non-null   float64\n",
            " 3   Open    1500 non-null   float64\n",
            " 4   Close   1500 non-null   float64\n",
            " 5   Volume  1500 non-null   int64  \n",
            "dtypes: float64(4), int64(1), object(1)\n",
            "memory usage: 70.4+ KB\n",
            "None\n"
          ]
        }
      ],
      "source": [
        "# View basic information\n",
        "print(anv_df.info())\n",
        "print(dat_df.info())\n",
        "print(hah_df.info())\n",
        "print(kdc_df.info())\n",
        "print(naf_df.info())\n",
        "print(pvt_df.info())"
      ]
    },
    {
      "cell_type": "code",
      "execution_count": 4,
      "metadata": {
        "colab": {
          "base_uri": "https://localhost:8080/",
          "height": 434
        },
        "id": "3sxepfNGLXVx",
        "outputId": "5fdc0474-52df-4863-91a8-e3d3ed9d53fa"
      },
      "outputs": [
        {
          "data": {
            "application/vnd.microsoft.datawrangler.viewer.v0+json": {
              "columns": [
                {
                  "name": "index",
                  "rawType": "int64",
                  "type": "integer"
                },
                {
                  "name": "Date",
                  "rawType": "datetime64[ns]",
                  "type": "datetime"
                },
                {
                  "name": "High",
                  "rawType": "float64",
                  "type": "float"
                },
                {
                  "name": "Low",
                  "rawType": "float64",
                  "type": "float"
                },
                {
                  "name": "Open",
                  "rawType": "float64",
                  "type": "float"
                },
                {
                  "name": "Close",
                  "rawType": "float64",
                  "type": "float"
                },
                {
                  "name": "Volume",
                  "rawType": "int64",
                  "type": "integer"
                }
              ],
              "conversionMethod": "pd.DataFrame",
              "ref": "dec5cf8e-aec5-4692-923d-d19882928039",
              "rows": [
                [
                  "0",
                  "2025-03-06 00:00:00",
                  "17.45",
                  "17.1",
                  "17.2",
                  "17.45",
                  "1853100"
                ],
                [
                  "1",
                  "2025-03-05 00:00:00",
                  "17.4",
                  "17.1",
                  "17.4",
                  "17.1",
                  "1613700"
                ],
                [
                  "2",
                  "2025-03-04 00:00:00",
                  "17.5",
                  "17.15",
                  "17.5",
                  "17.35",
                  "1950000"
                ],
                [
                  "3",
                  "2025-03-03 00:00:00",
                  "17.75",
                  "17.4",
                  "17.6",
                  "17.5",
                  "1797400"
                ],
                [
                  "4",
                  "2025-02-28 00:00:00",
                  "17.85",
                  "17.55",
                  "17.65",
                  "17.6",
                  "2224500"
                ]
              ],
              "shape": {
                "columns": 6,
                "rows": 5
              }
            },
            "text/html": [
              "<div>\n",
              "<style scoped>\n",
              "    .dataframe tbody tr th:only-of-type {\n",
              "        vertical-align: middle;\n",
              "    }\n",
              "\n",
              "    .dataframe tbody tr th {\n",
              "        vertical-align: top;\n",
              "    }\n",
              "\n",
              "    .dataframe thead th {\n",
              "        text-align: right;\n",
              "    }\n",
              "</style>\n",
              "<table border=\"1\" class=\"dataframe\">\n",
              "  <thead>\n",
              "    <tr style=\"text-align: right;\">\n",
              "      <th></th>\n",
              "      <th>Date</th>\n",
              "      <th>High</th>\n",
              "      <th>Low</th>\n",
              "      <th>Open</th>\n",
              "      <th>Close</th>\n",
              "      <th>Volume</th>\n",
              "    </tr>\n",
              "  </thead>\n",
              "  <tbody>\n",
              "    <tr>\n",
              "      <th>0</th>\n",
              "      <td>2025-03-06</td>\n",
              "      <td>17.45</td>\n",
              "      <td>17.10</td>\n",
              "      <td>17.20</td>\n",
              "      <td>17.45</td>\n",
              "      <td>1853100</td>\n",
              "    </tr>\n",
              "    <tr>\n",
              "      <th>1</th>\n",
              "      <td>2025-03-05</td>\n",
              "      <td>17.40</td>\n",
              "      <td>17.10</td>\n",
              "      <td>17.40</td>\n",
              "      <td>17.10</td>\n",
              "      <td>1613700</td>\n",
              "    </tr>\n",
              "    <tr>\n",
              "      <th>2</th>\n",
              "      <td>2025-03-04</td>\n",
              "      <td>17.50</td>\n",
              "      <td>17.15</td>\n",
              "      <td>17.50</td>\n",
              "      <td>17.35</td>\n",
              "      <td>1950000</td>\n",
              "    </tr>\n",
              "    <tr>\n",
              "      <th>3</th>\n",
              "      <td>2025-03-03</td>\n",
              "      <td>17.75</td>\n",
              "      <td>17.40</td>\n",
              "      <td>17.60</td>\n",
              "      <td>17.50</td>\n",
              "      <td>1797400</td>\n",
              "    </tr>\n",
              "    <tr>\n",
              "      <th>4</th>\n",
              "      <td>2025-02-28</td>\n",
              "      <td>17.85</td>\n",
              "      <td>17.55</td>\n",
              "      <td>17.65</td>\n",
              "      <td>17.60</td>\n",
              "      <td>2224500</td>\n",
              "    </tr>\n",
              "  </tbody>\n",
              "</table>\n",
              "</div>"
            ],
            "text/plain": [
              "        Date   High    Low   Open  Close   Volume\n",
              "0 2025-03-06  17.45  17.10  17.20  17.45  1853100\n",
              "1 2025-03-05  17.40  17.10  17.40  17.10  1613700\n",
              "2 2025-03-04  17.50  17.15  17.50  17.35  1950000\n",
              "3 2025-03-03  17.75  17.40  17.60  17.50  1797400\n",
              "4 2025-02-28  17.85  17.55  17.65  17.60  2224500"
            ]
          },
          "execution_count": 4,
          "metadata": {},
          "output_type": "execute_result"
        }
      ],
      "source": [
        "# Change all to datetimelike\n",
        "anv_df['Date'] = pd.to_datetime(anv_df['Date'], dayfirst=True)\n",
        "dat_df['Date'] = pd.to_datetime(dat_df['Date'], dayfirst=True)\n",
        "hah_df['Date'] = pd.to_datetime(hah_df['Date'], dayfirst=True)\n",
        "kdc_df['Date'] = pd.to_datetime(kdc_df['Date'], dayfirst=True)\n",
        "naf_df['Date'] = pd.to_datetime(naf_df['Date'], dayfirst=True)\n",
        "pvt_df['Date'] = pd.to_datetime(pvt_df['Date'], dayfirst=True)\n",
        "\n",
        "# View one of them to recheck\n",
        "anv_df.head()"
      ]
    },
    {
      "cell_type": "code",
      "execution_count": 5,
      "metadata": {
        "colab": {
          "base_uri": "https://localhost:8080/",
          "height": 206
        },
        "id": "NWZf26vUpxTp",
        "outputId": "c06b7f0f-99b8-4aa7-c68d-7ff7c486233b"
      },
      "outputs": [
        {
          "data": {
            "application/vnd.microsoft.datawrangler.viewer.v0+json": {
              "columns": [
                {
                  "name": "index",
                  "rawType": "int64",
                  "type": "integer"
                },
                {
                  "name": "Date",
                  "rawType": "datetime64[ns]",
                  "type": "datetime"
                },
                {
                  "name": "High",
                  "rawType": "float64",
                  "type": "float"
                },
                {
                  "name": "Low",
                  "rawType": "float64",
                  "type": "float"
                },
                {
                  "name": "Open",
                  "rawType": "float64",
                  "type": "float"
                },
                {
                  "name": "Close",
                  "rawType": "float64",
                  "type": "float"
                },
                {
                  "name": "Volume",
                  "rawType": "int64",
                  "type": "integer"
                }
              ],
              "conversionMethod": "pd.DataFrame",
              "ref": "7323d170-f329-4f06-8d8a-8bbbcfcd7393",
              "rows": [
                [
                  "1499",
                  "2019-03-05 00:00:00",
                  "29.2",
                  "28.7",
                  "29.0",
                  "28.7",
                  "657010"
                ],
                [
                  "1498",
                  "2019-03-06 00:00:00",
                  "29.15",
                  "28.6",
                  "28.9",
                  "28.95",
                  "301010"
                ],
                [
                  "1497",
                  "2019-03-07 00:00:00",
                  "29.1",
                  "28.85",
                  "29.0",
                  "28.95",
                  "420000"
                ],
                [
                  "1496",
                  "2019-03-08 00:00:00",
                  "28.8",
                  "28.15",
                  "28.65",
                  "28.2",
                  "350260"
                ],
                [
                  "1495",
                  "2019-03-11 00:00:00",
                  "28.3",
                  "27.9",
                  "28.2",
                  "28.05",
                  "342230"
                ]
              ],
              "shape": {
                "columns": 6,
                "rows": 5
              }
            },
            "text/html": [
              "<div>\n",
              "<style scoped>\n",
              "    .dataframe tbody tr th:only-of-type {\n",
              "        vertical-align: middle;\n",
              "    }\n",
              "\n",
              "    .dataframe tbody tr th {\n",
              "        vertical-align: top;\n",
              "    }\n",
              "\n",
              "    .dataframe thead th {\n",
              "        text-align: right;\n",
              "    }\n",
              "</style>\n",
              "<table border=\"1\" class=\"dataframe\">\n",
              "  <thead>\n",
              "    <tr style=\"text-align: right;\">\n",
              "      <th></th>\n",
              "      <th>Date</th>\n",
              "      <th>High</th>\n",
              "      <th>Low</th>\n",
              "      <th>Open</th>\n",
              "      <th>Close</th>\n",
              "      <th>Volume</th>\n",
              "    </tr>\n",
              "  </thead>\n",
              "  <tbody>\n",
              "    <tr>\n",
              "      <th>1499</th>\n",
              "      <td>2019-03-05</td>\n",
              "      <td>29.20</td>\n",
              "      <td>28.70</td>\n",
              "      <td>29.00</td>\n",
              "      <td>28.70</td>\n",
              "      <td>657010</td>\n",
              "    </tr>\n",
              "    <tr>\n",
              "      <th>1498</th>\n",
              "      <td>2019-03-06</td>\n",
              "      <td>29.15</td>\n",
              "      <td>28.60</td>\n",
              "      <td>28.90</td>\n",
              "      <td>28.95</td>\n",
              "      <td>301010</td>\n",
              "    </tr>\n",
              "    <tr>\n",
              "      <th>1497</th>\n",
              "      <td>2019-03-07</td>\n",
              "      <td>29.10</td>\n",
              "      <td>28.85</td>\n",
              "      <td>29.00</td>\n",
              "      <td>28.95</td>\n",
              "      <td>420000</td>\n",
              "    </tr>\n",
              "    <tr>\n",
              "      <th>1496</th>\n",
              "      <td>2019-03-08</td>\n",
              "      <td>28.80</td>\n",
              "      <td>28.15</td>\n",
              "      <td>28.65</td>\n",
              "      <td>28.20</td>\n",
              "      <td>350260</td>\n",
              "    </tr>\n",
              "    <tr>\n",
              "      <th>1495</th>\n",
              "      <td>2019-03-11</td>\n",
              "      <td>28.30</td>\n",
              "      <td>27.90</td>\n",
              "      <td>28.20</td>\n",
              "      <td>28.05</td>\n",
              "      <td>342230</td>\n",
              "    </tr>\n",
              "  </tbody>\n",
              "</table>\n",
              "</div>"
            ],
            "text/plain": [
              "           Date   High    Low   Open  Close  Volume\n",
              "1499 2019-03-05  29.20  28.70  29.00  28.70  657010\n",
              "1498 2019-03-06  29.15  28.60  28.90  28.95  301010\n",
              "1497 2019-03-07  29.10  28.85  29.00  28.95  420000\n",
              "1496 2019-03-08  28.80  28.15  28.65  28.20  350260\n",
              "1495 2019-03-11  28.30  27.90  28.20  28.05  342230"
            ]
          },
          "execution_count": 5,
          "metadata": {},
          "output_type": "execute_result"
        }
      ],
      "source": [
        "# Reverse the datasets\n",
        "anv_df = anv_df.iloc[::-1]\n",
        "dat_df = dat_df.iloc[::-1]\n",
        "hah_df = hah_df.iloc[::-1]\n",
        "kdc_df = kdc_df.iloc[::-1]\n",
        "naf_df = naf_df.iloc[::-1]\n",
        "pvt_df = pvt_df.iloc[::-1]\n",
        "\n",
        "# View one of them to recheck\n",
        "anv_df.head()"
      ]
    },
    {
      "cell_type": "markdown",
      "metadata": {
        "id": "LmPJ09QdracD"
      },
      "source": [
        "## **Technical indicators**"
      ]
    },
    {
      "cell_type": "code",
      "execution_count": 6,
      "metadata": {
        "colab": {
          "base_uri": "https://localhost:8080/",
          "height": 206
        },
        "id": "4pE_Wi_3L5Rf",
        "outputId": "b1dcfb19-a198-4c7e-e003-828808158b09"
      },
      "outputs": [
        {
          "data": {
            "application/vnd.microsoft.datawrangler.viewer.v0+json": {
              "columns": [
                {
                  "name": "index",
                  "rawType": "int64",
                  "type": "integer"
                },
                {
                  "name": "Date",
                  "rawType": "datetime64[ns]",
                  "type": "datetime"
                },
                {
                  "name": "High",
                  "rawType": "float64",
                  "type": "float"
                },
                {
                  "name": "Low",
                  "rawType": "float64",
                  "type": "float"
                },
                {
                  "name": "Open",
                  "rawType": "float64",
                  "type": "float"
                },
                {
                  "name": "Close",
                  "rawType": "float64",
                  "type": "float"
                },
                {
                  "name": "Volume",
                  "rawType": "int64",
                  "type": "integer"
                },
                {
                  "name": "SMA_200",
                  "rawType": "float64",
                  "type": "float"
                }
              ],
              "conversionMethod": "pd.DataFrame",
              "ref": "2480a5e0-544e-4cf6-9424-a44e6d1d6309",
              "rows": [
                [
                  "1300",
                  "2019-12-16 00:00:00",
                  "23.2",
                  "22.2",
                  "23.2",
                  "22.2",
                  "282750",
                  "26.372249999999998"
                ],
                [
                  "1299",
                  "2019-12-17 00:00:00",
                  "22.65",
                  "22.1",
                  "22.2",
                  "22.4",
                  "238560",
                  "26.340750000000003"
                ],
                [
                  "1298",
                  "2019-12-18 00:00:00",
                  "22.5",
                  "22.2",
                  "22.4",
                  "22.4",
                  "155610",
                  "26.308000000000003"
                ],
                [
                  "1297",
                  "2019-12-19 00:00:00",
                  "22.4",
                  "22.0",
                  "22.3",
                  "22.0",
                  "184540",
                  "26.273249999999997"
                ],
                [
                  "1296",
                  "2019-12-20 00:00:00",
                  "22.4",
                  "22.0",
                  "22.0",
                  "22.1",
                  "182860",
                  "26.24275"
                ]
              ],
              "shape": {
                "columns": 7,
                "rows": 5
              }
            },
            "text/html": [
              "<div>\n",
              "<style scoped>\n",
              "    .dataframe tbody tr th:only-of-type {\n",
              "        vertical-align: middle;\n",
              "    }\n",
              "\n",
              "    .dataframe tbody tr th {\n",
              "        vertical-align: top;\n",
              "    }\n",
              "\n",
              "    .dataframe thead th {\n",
              "        text-align: right;\n",
              "    }\n",
              "</style>\n",
              "<table border=\"1\" class=\"dataframe\">\n",
              "  <thead>\n",
              "    <tr style=\"text-align: right;\">\n",
              "      <th></th>\n",
              "      <th>Date</th>\n",
              "      <th>High</th>\n",
              "      <th>Low</th>\n",
              "      <th>Open</th>\n",
              "      <th>Close</th>\n",
              "      <th>Volume</th>\n",
              "      <th>SMA_200</th>\n",
              "    </tr>\n",
              "  </thead>\n",
              "  <tbody>\n",
              "    <tr>\n",
              "      <th>1300</th>\n",
              "      <td>2019-12-16</td>\n",
              "      <td>23.20</td>\n",
              "      <td>22.2</td>\n",
              "      <td>23.2</td>\n",
              "      <td>22.2</td>\n",
              "      <td>282750</td>\n",
              "      <td>26.37225</td>\n",
              "    </tr>\n",
              "    <tr>\n",
              "      <th>1299</th>\n",
              "      <td>2019-12-17</td>\n",
              "      <td>22.65</td>\n",
              "      <td>22.1</td>\n",
              "      <td>22.2</td>\n",
              "      <td>22.4</td>\n",
              "      <td>238560</td>\n",
              "      <td>26.34075</td>\n",
              "    </tr>\n",
              "    <tr>\n",
              "      <th>1298</th>\n",
              "      <td>2019-12-18</td>\n",
              "      <td>22.50</td>\n",
              "      <td>22.2</td>\n",
              "      <td>22.4</td>\n",
              "      <td>22.4</td>\n",
              "      <td>155610</td>\n",
              "      <td>26.30800</td>\n",
              "    </tr>\n",
              "    <tr>\n",
              "      <th>1297</th>\n",
              "      <td>2019-12-19</td>\n",
              "      <td>22.40</td>\n",
              "      <td>22.0</td>\n",
              "      <td>22.3</td>\n",
              "      <td>22.0</td>\n",
              "      <td>184540</td>\n",
              "      <td>26.27325</td>\n",
              "    </tr>\n",
              "    <tr>\n",
              "      <th>1296</th>\n",
              "      <td>2019-12-20</td>\n",
              "      <td>22.40</td>\n",
              "      <td>22.0</td>\n",
              "      <td>22.0</td>\n",
              "      <td>22.1</td>\n",
              "      <td>182860</td>\n",
              "      <td>26.24275</td>\n",
              "    </tr>\n",
              "  </tbody>\n",
              "</table>\n",
              "</div>"
            ],
            "text/plain": [
              "           Date   High   Low  Open  Close  Volume   SMA_200\n",
              "1300 2019-12-16  23.20  22.2  23.2   22.2  282750  26.37225\n",
              "1299 2019-12-17  22.65  22.1  22.2   22.4  238560  26.34075\n",
              "1298 2019-12-18  22.50  22.2  22.4   22.4  155610  26.30800\n",
              "1297 2019-12-19  22.40  22.0  22.3   22.0  184540  26.27325\n",
              "1296 2019-12-20  22.40  22.0  22.0   22.1  182860  26.24275"
            ]
          },
          "execution_count": 6,
          "metadata": {},
          "output_type": "execute_result"
        }
      ],
      "source": [
        "# Calculate simple moving average\n",
        "anv_df['SMA_200'] = anv_df['Close'].rolling(window = 200).mean()\n",
        "dat_df['SMA_200'] = dat_df['Close'].rolling(window = 200).mean()\n",
        "hah_df['SMA_200'] = hah_df['Close'].rolling(window = 200).mean()\n",
        "kdc_df['SMA_200'] = kdc_df['Close'].rolling(window = 200).mean()\n",
        "naf_df['SMA_200'] = naf_df['Close'].rolling(window = 200).mean()\n",
        "pvt_df['SMA_200'] = pvt_df['Close'].rolling(window = 200).mean()\n",
        "\n",
        "# Drop all empty rows\n",
        "anv_df.dropna(inplace = True)\n",
        "dat_df.dropna(inplace = True)\n",
        "hah_df.dropna(inplace = True)\n",
        "kdc_df.dropna(inplace = True)\n",
        "naf_df.dropna(inplace = True)\n",
        "pvt_df.dropna(inplace = True)\n",
        "\n",
        "# View one to check\n",
        "anv_df.head()"
      ]
    },
    {
      "cell_type": "code",
      "execution_count": 7,
      "metadata": {
        "colab": {
          "base_uri": "https://localhost:8080/",
          "height": 206
        },
        "id": "ei4985bGtDNR",
        "outputId": "fa65a191-e6fa-4d55-f1f8-53ad4d5449b5"
      },
      "outputs": [
        {
          "data": {
            "application/vnd.microsoft.datawrangler.viewer.v0+json": {
              "columns": [
                {
                  "name": "index",
                  "rawType": "int64",
                  "type": "integer"
                },
                {
                  "name": "Date",
                  "rawType": "datetime64[ns]",
                  "type": "datetime"
                },
                {
                  "name": "High",
                  "rawType": "float64",
                  "type": "float"
                },
                {
                  "name": "Low",
                  "rawType": "float64",
                  "type": "float"
                },
                {
                  "name": "Open",
                  "rawType": "float64",
                  "type": "float"
                },
                {
                  "name": "Close",
                  "rawType": "float64",
                  "type": "float"
                },
                {
                  "name": "Volume",
                  "rawType": "int64",
                  "type": "integer"
                },
                {
                  "name": "SMA_200",
                  "rawType": "float64",
                  "type": "float"
                },
                {
                  "name": "RSI",
                  "rawType": "float64",
                  "type": "float"
                }
              ],
              "conversionMethod": "pd.DataFrame",
              "ref": "19fabaab-2475-461c-8037-de610ab0f149",
              "rows": [
                [
                  "1300",
                  "2019-12-16 00:00:00",
                  "23.2",
                  "22.2",
                  "23.2",
                  "22.2",
                  "282750",
                  "26.372249999999998",
                  null
                ],
                [
                  "1299",
                  "2019-12-17 00:00:00",
                  "22.65",
                  "22.1",
                  "22.2",
                  "22.4",
                  "238560",
                  "26.340750000000003",
                  null
                ],
                [
                  "1298",
                  "2019-12-18 00:00:00",
                  "22.5",
                  "22.2",
                  "22.4",
                  "22.4",
                  "155610",
                  "26.308000000000003",
                  null
                ],
                [
                  "1297",
                  "2019-12-19 00:00:00",
                  "22.4",
                  "22.0",
                  "22.3",
                  "22.0",
                  "184540",
                  "26.273249999999997",
                  null
                ],
                [
                  "1296",
                  "2019-12-20 00:00:00",
                  "22.4",
                  "22.0",
                  "22.0",
                  "22.1",
                  "182860",
                  "26.24275",
                  null
                ]
              ],
              "shape": {
                "columns": 8,
                "rows": 5
              }
            },
            "text/html": [
              "<div>\n",
              "<style scoped>\n",
              "    .dataframe tbody tr th:only-of-type {\n",
              "        vertical-align: middle;\n",
              "    }\n",
              "\n",
              "    .dataframe tbody tr th {\n",
              "        vertical-align: top;\n",
              "    }\n",
              "\n",
              "    .dataframe thead th {\n",
              "        text-align: right;\n",
              "    }\n",
              "</style>\n",
              "<table border=\"1\" class=\"dataframe\">\n",
              "  <thead>\n",
              "    <tr style=\"text-align: right;\">\n",
              "      <th></th>\n",
              "      <th>Date</th>\n",
              "      <th>High</th>\n",
              "      <th>Low</th>\n",
              "      <th>Open</th>\n",
              "      <th>Close</th>\n",
              "      <th>Volume</th>\n",
              "      <th>SMA_200</th>\n",
              "      <th>RSI</th>\n",
              "    </tr>\n",
              "  </thead>\n",
              "  <tbody>\n",
              "    <tr>\n",
              "      <th>1300</th>\n",
              "      <td>2019-12-16</td>\n",
              "      <td>23.20</td>\n",
              "      <td>22.2</td>\n",
              "      <td>23.2</td>\n",
              "      <td>22.2</td>\n",
              "      <td>282750</td>\n",
              "      <td>26.37225</td>\n",
              "      <td>NaN</td>\n",
              "    </tr>\n",
              "    <tr>\n",
              "      <th>1299</th>\n",
              "      <td>2019-12-17</td>\n",
              "      <td>22.65</td>\n",
              "      <td>22.1</td>\n",
              "      <td>22.2</td>\n",
              "      <td>22.4</td>\n",
              "      <td>238560</td>\n",
              "      <td>26.34075</td>\n",
              "      <td>NaN</td>\n",
              "    </tr>\n",
              "    <tr>\n",
              "      <th>1298</th>\n",
              "      <td>2019-12-18</td>\n",
              "      <td>22.50</td>\n",
              "      <td>22.2</td>\n",
              "      <td>22.4</td>\n",
              "      <td>22.4</td>\n",
              "      <td>155610</td>\n",
              "      <td>26.30800</td>\n",
              "      <td>NaN</td>\n",
              "    </tr>\n",
              "    <tr>\n",
              "      <th>1297</th>\n",
              "      <td>2019-12-19</td>\n",
              "      <td>22.40</td>\n",
              "      <td>22.0</td>\n",
              "      <td>22.3</td>\n",
              "      <td>22.0</td>\n",
              "      <td>184540</td>\n",
              "      <td>26.27325</td>\n",
              "      <td>NaN</td>\n",
              "    </tr>\n",
              "    <tr>\n",
              "      <th>1296</th>\n",
              "      <td>2019-12-20</td>\n",
              "      <td>22.40</td>\n",
              "      <td>22.0</td>\n",
              "      <td>22.0</td>\n",
              "      <td>22.1</td>\n",
              "      <td>182860</td>\n",
              "      <td>26.24275</td>\n",
              "      <td>NaN</td>\n",
              "    </tr>\n",
              "  </tbody>\n",
              "</table>\n",
              "</div>"
            ],
            "text/plain": [
              "           Date   High   Low  Open  Close  Volume   SMA_200  RSI\n",
              "1300 2019-12-16  23.20  22.2  23.2   22.2  282750  26.37225  NaN\n",
              "1299 2019-12-17  22.65  22.1  22.2   22.4  238560  26.34075  NaN\n",
              "1298 2019-12-18  22.50  22.2  22.4   22.4  155610  26.30800  NaN\n",
              "1297 2019-12-19  22.40  22.0  22.3   22.0  184540  26.27325  NaN\n",
              "1296 2019-12-20  22.40  22.0  22.0   22.1  182860  26.24275  NaN"
            ]
          },
          "execution_count": 7,
          "metadata": {},
          "output_type": "execute_result"
        }
      ],
      "source": [
        "# Calculate RSI\n",
        "anv_df['RSI'] = ta.momentum.RSIIndicator(anv_df['Close'].squeeze(), window = 14).rsi()\n",
        "dat_df['RSI'] = ta.momentum.RSIIndicator(dat_df['Close'].squeeze(), window = 14).rsi()\n",
        "hah_df['RSI'] = ta.momentum.RSIIndicator(hah_df['Close'].squeeze(), window = 14).rsi()\n",
        "kdc_df['RSI'] = ta.momentum.RSIIndicator(kdc_df['Close'].squeeze(), window = 14).rsi()\n",
        "naf_df['RSI'] = ta.momentum.RSIIndicator(naf_df['Close'].squeeze(), window = 14).rsi()\n",
        "pvt_df['RSI'] = ta.momentum.RSIIndicator(pvt_df['Close'].squeeze(), window = 14).rsi()\n",
        "\n",
        "# View one to check\n",
        "anv_df.head()"
      ]
    },
    {
      "cell_type": "code",
      "execution_count": 8,
      "metadata": {
        "colab": {
          "base_uri": "https://localhost:8080/",
          "height": 206
        },
        "id": "dNUb_s9Xuayz",
        "outputId": "cc06af37-148f-484b-9f8f-c1f8baa1e9b2"
      },
      "outputs": [
        {
          "data": {
            "application/vnd.microsoft.datawrangler.viewer.v0+json": {
              "columns": [
                {
                  "name": "index",
                  "rawType": "int64",
                  "type": "integer"
                },
                {
                  "name": "Date",
                  "rawType": "datetime64[ns]",
                  "type": "datetime"
                },
                {
                  "name": "High",
                  "rawType": "float64",
                  "type": "float"
                },
                {
                  "name": "Low",
                  "rawType": "float64",
                  "type": "float"
                },
                {
                  "name": "Open",
                  "rawType": "float64",
                  "type": "float"
                },
                {
                  "name": "Close",
                  "rawType": "float64",
                  "type": "float"
                },
                {
                  "name": "Volume",
                  "rawType": "int64",
                  "type": "integer"
                },
                {
                  "name": "SMA_200",
                  "rawType": "float64",
                  "type": "float"
                },
                {
                  "name": "RSI",
                  "rawType": "float64",
                  "type": "float"
                },
                {
                  "name": "STOCH",
                  "rawType": "float64",
                  "type": "float"
                }
              ],
              "conversionMethod": "pd.DataFrame",
              "ref": "5b40a643-12e4-4534-aef0-0fe97954ba57",
              "rows": [
                [
                  "1300",
                  "2019-12-16 00:00:00",
                  "23.2",
                  "22.2",
                  "23.2",
                  "22.2",
                  "282750",
                  "26.372249999999998",
                  null,
                  null
                ],
                [
                  "1299",
                  "2019-12-17 00:00:00",
                  "22.65",
                  "22.1",
                  "22.2",
                  "22.4",
                  "238560",
                  "26.340750000000003",
                  null,
                  null
                ],
                [
                  "1298",
                  "2019-12-18 00:00:00",
                  "22.5",
                  "22.2",
                  "22.4",
                  "22.4",
                  "155610",
                  "26.308000000000003",
                  null,
                  null
                ],
                [
                  "1297",
                  "2019-12-19 00:00:00",
                  "22.4",
                  "22.0",
                  "22.3",
                  "22.0",
                  "184540",
                  "26.273249999999997",
                  null,
                  null
                ],
                [
                  "1296",
                  "2019-12-20 00:00:00",
                  "22.4",
                  "22.0",
                  "22.0",
                  "22.1",
                  "182860",
                  "26.24275",
                  null,
                  null
                ]
              ],
              "shape": {
                "columns": 9,
                "rows": 5
              }
            },
            "text/html": [
              "<div>\n",
              "<style scoped>\n",
              "    .dataframe tbody tr th:only-of-type {\n",
              "        vertical-align: middle;\n",
              "    }\n",
              "\n",
              "    .dataframe tbody tr th {\n",
              "        vertical-align: top;\n",
              "    }\n",
              "\n",
              "    .dataframe thead th {\n",
              "        text-align: right;\n",
              "    }\n",
              "</style>\n",
              "<table border=\"1\" class=\"dataframe\">\n",
              "  <thead>\n",
              "    <tr style=\"text-align: right;\">\n",
              "      <th></th>\n",
              "      <th>Date</th>\n",
              "      <th>High</th>\n",
              "      <th>Low</th>\n",
              "      <th>Open</th>\n",
              "      <th>Close</th>\n",
              "      <th>Volume</th>\n",
              "      <th>SMA_200</th>\n",
              "      <th>RSI</th>\n",
              "      <th>STOCH</th>\n",
              "    </tr>\n",
              "  </thead>\n",
              "  <tbody>\n",
              "    <tr>\n",
              "      <th>1300</th>\n",
              "      <td>2019-12-16</td>\n",
              "      <td>23.20</td>\n",
              "      <td>22.2</td>\n",
              "      <td>23.2</td>\n",
              "      <td>22.2</td>\n",
              "      <td>282750</td>\n",
              "      <td>26.37225</td>\n",
              "      <td>NaN</td>\n",
              "      <td>NaN</td>\n",
              "    </tr>\n",
              "    <tr>\n",
              "      <th>1299</th>\n",
              "      <td>2019-12-17</td>\n",
              "      <td>22.65</td>\n",
              "      <td>22.1</td>\n",
              "      <td>22.2</td>\n",
              "      <td>22.4</td>\n",
              "      <td>238560</td>\n",
              "      <td>26.34075</td>\n",
              "      <td>NaN</td>\n",
              "      <td>NaN</td>\n",
              "    </tr>\n",
              "    <tr>\n",
              "      <th>1298</th>\n",
              "      <td>2019-12-18</td>\n",
              "      <td>22.50</td>\n",
              "      <td>22.2</td>\n",
              "      <td>22.4</td>\n",
              "      <td>22.4</td>\n",
              "      <td>155610</td>\n",
              "      <td>26.30800</td>\n",
              "      <td>NaN</td>\n",
              "      <td>NaN</td>\n",
              "    </tr>\n",
              "    <tr>\n",
              "      <th>1297</th>\n",
              "      <td>2019-12-19</td>\n",
              "      <td>22.40</td>\n",
              "      <td>22.0</td>\n",
              "      <td>22.3</td>\n",
              "      <td>22.0</td>\n",
              "      <td>184540</td>\n",
              "      <td>26.27325</td>\n",
              "      <td>NaN</td>\n",
              "      <td>NaN</td>\n",
              "    </tr>\n",
              "    <tr>\n",
              "      <th>1296</th>\n",
              "      <td>2019-12-20</td>\n",
              "      <td>22.40</td>\n",
              "      <td>22.0</td>\n",
              "      <td>22.0</td>\n",
              "      <td>22.1</td>\n",
              "      <td>182860</td>\n",
              "      <td>26.24275</td>\n",
              "      <td>NaN</td>\n",
              "      <td>NaN</td>\n",
              "    </tr>\n",
              "  </tbody>\n",
              "</table>\n",
              "</div>"
            ],
            "text/plain": [
              "           Date   High   Low  Open  Close  Volume   SMA_200  RSI  STOCH\n",
              "1300 2019-12-16  23.20  22.2  23.2   22.2  282750  26.37225  NaN    NaN\n",
              "1299 2019-12-17  22.65  22.1  22.2   22.4  238560  26.34075  NaN    NaN\n",
              "1298 2019-12-18  22.50  22.2  22.4   22.4  155610  26.30800  NaN    NaN\n",
              "1297 2019-12-19  22.40  22.0  22.3   22.0  184540  26.27325  NaN    NaN\n",
              "1296 2019-12-20  22.40  22.0  22.0   22.1  182860  26.24275  NaN    NaN"
            ]
          },
          "execution_count": 8,
          "metadata": {},
          "output_type": "execute_result"
        }
      ],
      "source": [
        "# Calculate stochastic oscillator\n",
        "anv_df['STOCH'] = ta.momentum.StochasticOscillator(high = anv_df['High'], low = anv_df['Low'], close = anv_df['Close'], window = 14).stoch()\n",
        "dat_df['STOCH'] = ta.momentum.StochasticOscillator(high = dat_df['High'], low = dat_df['Low'], close = dat_df['Close'], window = 14).stoch()\n",
        "hah_df['STOCH'] = ta.momentum.StochasticOscillator(high = hah_df['High'], low = hah_df['Low'], close = hah_df['Close'], window = 14).stoch()\n",
        "kdc_df['STOCH'] = ta.momentum.StochasticOscillator(high = kdc_df['High'], low = kdc_df['Low'], close = kdc_df['Close'], window = 14).stoch()\n",
        "naf_df['STOCH'] = ta.momentum.StochasticOscillator(high = naf_df['High'], low = naf_df['Low'], close = naf_df['Close'], window = 14).stoch()\n",
        "pvt_df['STOCH'] = ta.momentum.StochasticOscillator(high = pvt_df['High'], low = pvt_df['Low'], close = pvt_df['Close'], window = 14).stoch()\n",
        "\n",
        "# View one to see\n",
        "anv_df.head()"
      ]
    },
    {
      "cell_type": "code",
      "execution_count": 9,
      "metadata": {
        "colab": {
          "base_uri": "https://localhost:8080/",
          "height": 237
        },
        "id": "sbsq3wl4u-PX",
        "outputId": "d72bf3eb-3524-4faf-c1a9-87eb1219d245"
      },
      "outputs": [
        {
          "data": {
            "application/vnd.microsoft.datawrangler.viewer.v0+json": {
              "columns": [
                {
                  "name": "Date",
                  "rawType": "datetime64[ns]",
                  "type": "datetime"
                },
                {
                  "name": "High",
                  "rawType": "float64",
                  "type": "float"
                },
                {
                  "name": "Low",
                  "rawType": "float64",
                  "type": "float"
                },
                {
                  "name": "Open",
                  "rawType": "float64",
                  "type": "float"
                },
                {
                  "name": "Close",
                  "rawType": "float64",
                  "type": "float"
                },
                {
                  "name": "Volume",
                  "rawType": "int64",
                  "type": "integer"
                },
                {
                  "name": "SMA_200",
                  "rawType": "float64",
                  "type": "float"
                },
                {
                  "name": "RSI",
                  "rawType": "float64",
                  "type": "float"
                },
                {
                  "name": "STOCH",
                  "rawType": "float64",
                  "type": "float"
                }
              ],
              "conversionMethod": "pd.DataFrame",
              "ref": "b3dd1f20-5b16-4187-b239-9233942cf4b6",
              "rows": [
                [
                  "2020-01-22 00:00:00",
                  "22.3",
                  "22.0",
                  "22.05",
                  "22.3",
                  "136750",
                  "25.77025",
                  "51.42622771703288",
                  "58.82352941176473"
                ],
                [
                  "2020-01-30 00:00:00",
                  "21.8",
                  "20.75",
                  "21.7",
                  "20.75",
                  "367640",
                  "25.735",
                  "34.952327922738164",
                  "0.0"
                ],
                [
                  "2020-01-31 00:00:00",
                  "20.5",
                  "19.3",
                  "20.2",
                  "19.3",
                  "227110",
                  "25.698500000000003",
                  "26.424483836245443",
                  "0.0"
                ],
                [
                  "2020-02-03 00:00:00",
                  "17.95",
                  "17.95",
                  "17.95",
                  "17.95",
                  "101040",
                  "25.653250000000003",
                  "21.23075728509413",
                  "0.0"
                ],
                [
                  "2020-02-04 00:00:00",
                  "17.5",
                  "16.7",
                  "16.7",
                  "17.15",
                  "837110",
                  "25.605999999999998",
                  "18.864515471525195",
                  "7.627118644067782"
                ]
              ],
              "shape": {
                "columns": 8,
                "rows": 5
              }
            },
            "text/html": [
              "<div>\n",
              "<style scoped>\n",
              "    .dataframe tbody tr th:only-of-type {\n",
              "        vertical-align: middle;\n",
              "    }\n",
              "\n",
              "    .dataframe tbody tr th {\n",
              "        vertical-align: top;\n",
              "    }\n",
              "\n",
              "    .dataframe thead th {\n",
              "        text-align: right;\n",
              "    }\n",
              "</style>\n",
              "<table border=\"1\" class=\"dataframe\">\n",
              "  <thead>\n",
              "    <tr style=\"text-align: right;\">\n",
              "      <th></th>\n",
              "      <th>High</th>\n",
              "      <th>Low</th>\n",
              "      <th>Open</th>\n",
              "      <th>Close</th>\n",
              "      <th>Volume</th>\n",
              "      <th>SMA_200</th>\n",
              "      <th>RSI</th>\n",
              "      <th>STOCH</th>\n",
              "    </tr>\n",
              "    <tr>\n",
              "      <th>Date</th>\n",
              "      <th></th>\n",
              "      <th></th>\n",
              "      <th></th>\n",
              "      <th></th>\n",
              "      <th></th>\n",
              "      <th></th>\n",
              "      <th></th>\n",
              "      <th></th>\n",
              "    </tr>\n",
              "  </thead>\n",
              "  <tbody>\n",
              "    <tr>\n",
              "      <th>2020-01-22</th>\n",
              "      <td>22.30</td>\n",
              "      <td>22.00</td>\n",
              "      <td>22.05</td>\n",
              "      <td>22.30</td>\n",
              "      <td>136750</td>\n",
              "      <td>25.77025</td>\n",
              "      <td>51.426228</td>\n",
              "      <td>58.823529</td>\n",
              "    </tr>\n",
              "    <tr>\n",
              "      <th>2020-01-30</th>\n",
              "      <td>21.80</td>\n",
              "      <td>20.75</td>\n",
              "      <td>21.70</td>\n",
              "      <td>20.75</td>\n",
              "      <td>367640</td>\n",
              "      <td>25.73500</td>\n",
              "      <td>34.952328</td>\n",
              "      <td>0.000000</td>\n",
              "    </tr>\n",
              "    <tr>\n",
              "      <th>2020-01-31</th>\n",
              "      <td>20.50</td>\n",
              "      <td>19.30</td>\n",
              "      <td>20.20</td>\n",
              "      <td>19.30</td>\n",
              "      <td>227110</td>\n",
              "      <td>25.69850</td>\n",
              "      <td>26.424484</td>\n",
              "      <td>0.000000</td>\n",
              "    </tr>\n",
              "    <tr>\n",
              "      <th>2020-02-03</th>\n",
              "      <td>17.95</td>\n",
              "      <td>17.95</td>\n",
              "      <td>17.95</td>\n",
              "      <td>17.95</td>\n",
              "      <td>101040</td>\n",
              "      <td>25.65325</td>\n",
              "      <td>21.230757</td>\n",
              "      <td>0.000000</td>\n",
              "    </tr>\n",
              "    <tr>\n",
              "      <th>2020-02-04</th>\n",
              "      <td>17.50</td>\n",
              "      <td>16.70</td>\n",
              "      <td>16.70</td>\n",
              "      <td>17.15</td>\n",
              "      <td>837110</td>\n",
              "      <td>25.60600</td>\n",
              "      <td>18.864515</td>\n",
              "      <td>7.627119</td>\n",
              "    </tr>\n",
              "  </tbody>\n",
              "</table>\n",
              "</div>"
            ],
            "text/plain": [
              "             High    Low   Open  Close  Volume   SMA_200        RSI      STOCH\n",
              "Date                                                                          \n",
              "2020-01-22  22.30  22.00  22.05  22.30  136750  25.77025  51.426228  58.823529\n",
              "2020-01-30  21.80  20.75  21.70  20.75  367640  25.73500  34.952328   0.000000\n",
              "2020-01-31  20.50  19.30  20.20  19.30  227110  25.69850  26.424484   0.000000\n",
              "2020-02-03  17.95  17.95  17.95  17.95  101040  25.65325  21.230757   0.000000\n",
              "2020-02-04  17.50  16.70  16.70  17.15  837110  25.60600  18.864515   7.627119"
            ]
          },
          "execution_count": 9,
          "metadata": {},
          "output_type": "execute_result"
        }
      ],
      "source": [
        "# Drop all null columns\n",
        "anv_df.dropna(inplace = True)\n",
        "dat_df.dropna(inplace = True)\n",
        "hah_df.dropna(inplace = True)\n",
        "kdc_df.dropna(inplace = True)\n",
        "naf_df.dropna(inplace = True)\n",
        "pvt_df.dropna(inplace = True)\n",
        "\n",
        "# Filter to get only from 2020-01-22 to 2025-01-14\n",
        "anv_df = anv_df[(anv_df['Date'] >= '2020-01-22') & (anv_df['Date'] <= '2025-01-14')]\n",
        "dat_df = dat_df[(dat_df['Date'] >= '2020-01-22') & (dat_df['Date'] <= '2025-01-14')]\n",
        "hah_df = hah_df[(hah_df['Date'] >= '2020-01-22') & (hah_df['Date'] <= '2025-01-14')]\n",
        "kdc_df = kdc_df[(kdc_df['Date'] >= '2020-01-22') & (kdc_df['Date'] <= '2025-01-14')]\n",
        "naf_df = naf_df[(naf_df['Date'] >= '2020-01-22') & (naf_df['Date'] <= '2025-01-14')]\n",
        "pvt_df = pvt_df[(pvt_df['Date'] >= '2020-01-22') & (pvt_df['Date'] <= '2025-01-14')]\n",
        "\n",
        "# And set date to be index\n",
        "anv_df.set_index('Date', inplace = True)\n",
        "dat_df.set_index('Date', inplace = True)\n",
        "hah_df.set_index('Date', inplace = True)\n",
        "kdc_df.set_index('Date', inplace = True)\n",
        "naf_df.set_index('Date', inplace = True)\n",
        "pvt_df.set_index('Date', inplace = True)\n",
        "\n",
        "# View one to check\n",
        "anv_df.head()"
      ]
    },
    {
      "cell_type": "markdown",
      "metadata": {
        "id": "m-Tr_KEov5g3"
      },
      "source": [
        "# **Add more data**"
      ]
    },
    {
      "cell_type": "code",
      "execution_count": 10,
      "metadata": {
        "colab": {
          "base_uri": "https://localhost:8080/",
          "height": 676
        },
        "id": "PNtRGtVIvuzw",
        "outputId": "37899fa3-fee2-4197-bdb4-8056716aa043"
      },
      "outputs": [
        {
          "name": "stderr",
          "output_type": "stream",
          "text": [
            "C:\\Users\\Lien Nhi\\AppData\\Local\\Temp\\ipykernel_12276\\1095963932.py:2: UserWarning: Could not infer format, so each element will be parsed individually, falling back to `dateutil`. To ensure parsing is consistent and as-expected, please specify a format.\n",
            "  gdp = pd.read_csv('gdp.csv', parse_dates=[\"Quarter\"])\n"
          ]
        },
        {
          "data": {
            "application/vnd.microsoft.datawrangler.viewer.v0+json": {
              "columns": [
                {
                  "name": "index",
                  "rawType": "int64",
                  "type": "integer"
                },
                {
                  "name": "Quarter",
                  "rawType": "object",
                  "type": "string"
                },
                {
                  "name": "%Growth",
                  "rawType": "float64",
                  "type": "float"
                }
              ],
              "conversionMethod": "pd.DataFrame",
              "ref": "c3a544d4-4ec4-4706-92ec-669523dbdc8f",
              "rows": [
                [
                  "0",
                  "Q1 2020",
                  "3.21"
                ],
                [
                  "1",
                  "Q2 2020",
                  "0.39"
                ],
                [
                  "2",
                  "Q3 2020",
                  "2.69"
                ],
                [
                  "3",
                  "Q4 2020",
                  "4.48"
                ],
                [
                  "4",
                  "Q1 2021",
                  "4.72"
                ],
                [
                  "5",
                  "Q2 2021",
                  "6.73"
                ],
                [
                  "6",
                  "Q3 2021",
                  "-6.02"
                ],
                [
                  "7",
                  "Q4 2021",
                  "5.22"
                ],
                [
                  "8",
                  "Q1 2022",
                  "5.05"
                ],
                [
                  "9",
                  "Q2 2022",
                  "7.99"
                ],
                [
                  "10",
                  "Q3 2022",
                  "13.71"
                ],
                [
                  "11",
                  "Q4 2022",
                  "5.92"
                ],
                [
                  "12",
                  "Q1 2023",
                  "3.41"
                ],
                [
                  "13",
                  "Q2 2023",
                  "4.25"
                ],
                [
                  "14",
                  "Q3 2023",
                  "5.47"
                ],
                [
                  "15",
                  "Q4 2023",
                  "6.72"
                ],
                [
                  "16",
                  "Q1 2024",
                  "5.98"
                ],
                [
                  "17",
                  "Q2 2024",
                  "7.25"
                ],
                [
                  "18",
                  "Q3 2024",
                  "7.43"
                ],
                [
                  "19",
                  "Q4 2024",
                  "7.55"
                ]
              ],
              "shape": {
                "columns": 2,
                "rows": 20
              }
            },
            "text/html": [
              "<div>\n",
              "<style scoped>\n",
              "    .dataframe tbody tr th:only-of-type {\n",
              "        vertical-align: middle;\n",
              "    }\n",
              "\n",
              "    .dataframe tbody tr th {\n",
              "        vertical-align: top;\n",
              "    }\n",
              "\n",
              "    .dataframe thead th {\n",
              "        text-align: right;\n",
              "    }\n",
              "</style>\n",
              "<table border=\"1\" class=\"dataframe\">\n",
              "  <thead>\n",
              "    <tr style=\"text-align: right;\">\n",
              "      <th></th>\n",
              "      <th>Quarter</th>\n",
              "      <th>%Growth</th>\n",
              "    </tr>\n",
              "  </thead>\n",
              "  <tbody>\n",
              "    <tr>\n",
              "      <th>0</th>\n",
              "      <td>Q1 2020</td>\n",
              "      <td>3.21</td>\n",
              "    </tr>\n",
              "    <tr>\n",
              "      <th>1</th>\n",
              "      <td>Q2 2020</td>\n",
              "      <td>0.39</td>\n",
              "    </tr>\n",
              "    <tr>\n",
              "      <th>2</th>\n",
              "      <td>Q3 2020</td>\n",
              "      <td>2.69</td>\n",
              "    </tr>\n",
              "    <tr>\n",
              "      <th>3</th>\n",
              "      <td>Q4 2020</td>\n",
              "      <td>4.48</td>\n",
              "    </tr>\n",
              "    <tr>\n",
              "      <th>4</th>\n",
              "      <td>Q1 2021</td>\n",
              "      <td>4.72</td>\n",
              "    </tr>\n",
              "    <tr>\n",
              "      <th>5</th>\n",
              "      <td>Q2 2021</td>\n",
              "      <td>6.73</td>\n",
              "    </tr>\n",
              "    <tr>\n",
              "      <th>6</th>\n",
              "      <td>Q3 2021</td>\n",
              "      <td>-6.02</td>\n",
              "    </tr>\n",
              "    <tr>\n",
              "      <th>7</th>\n",
              "      <td>Q4 2021</td>\n",
              "      <td>5.22</td>\n",
              "    </tr>\n",
              "    <tr>\n",
              "      <th>8</th>\n",
              "      <td>Q1 2022</td>\n",
              "      <td>5.05</td>\n",
              "    </tr>\n",
              "    <tr>\n",
              "      <th>9</th>\n",
              "      <td>Q2 2022</td>\n",
              "      <td>7.99</td>\n",
              "    </tr>\n",
              "    <tr>\n",
              "      <th>10</th>\n",
              "      <td>Q3 2022</td>\n",
              "      <td>13.71</td>\n",
              "    </tr>\n",
              "    <tr>\n",
              "      <th>11</th>\n",
              "      <td>Q4 2022</td>\n",
              "      <td>5.92</td>\n",
              "    </tr>\n",
              "    <tr>\n",
              "      <th>12</th>\n",
              "      <td>Q1 2023</td>\n",
              "      <td>3.41</td>\n",
              "    </tr>\n",
              "    <tr>\n",
              "      <th>13</th>\n",
              "      <td>Q2 2023</td>\n",
              "      <td>4.25</td>\n",
              "    </tr>\n",
              "    <tr>\n",
              "      <th>14</th>\n",
              "      <td>Q3 2023</td>\n",
              "      <td>5.47</td>\n",
              "    </tr>\n",
              "    <tr>\n",
              "      <th>15</th>\n",
              "      <td>Q4 2023</td>\n",
              "      <td>6.72</td>\n",
              "    </tr>\n",
              "    <tr>\n",
              "      <th>16</th>\n",
              "      <td>Q1 2024</td>\n",
              "      <td>5.98</td>\n",
              "    </tr>\n",
              "    <tr>\n",
              "      <th>17</th>\n",
              "      <td>Q2 2024</td>\n",
              "      <td>7.25</td>\n",
              "    </tr>\n",
              "    <tr>\n",
              "      <th>18</th>\n",
              "      <td>Q3 2024</td>\n",
              "      <td>7.43</td>\n",
              "    </tr>\n",
              "    <tr>\n",
              "      <th>19</th>\n",
              "      <td>Q4 2024</td>\n",
              "      <td>7.55</td>\n",
              "    </tr>\n",
              "  </tbody>\n",
              "</table>\n",
              "</div>"
            ],
            "text/plain": [
              "    Quarter  %Growth\n",
              "0   Q1 2020     3.21\n",
              "1   Q2 2020     0.39\n",
              "2   Q3 2020     2.69\n",
              "3   Q4 2020     4.48\n",
              "4   Q1 2021     4.72\n",
              "5   Q2 2021     6.73\n",
              "6   Q3 2021    -6.02\n",
              "7   Q4 2021     5.22\n",
              "8   Q1 2022     5.05\n",
              "9   Q2 2022     7.99\n",
              "10  Q3 2022    13.71\n",
              "11  Q4 2022     5.92\n",
              "12  Q1 2023     3.41\n",
              "13  Q2 2023     4.25\n",
              "14  Q3 2023     5.47\n",
              "15  Q4 2023     6.72\n",
              "16  Q1 2024     5.98\n",
              "17  Q2 2024     7.25\n",
              "18  Q3 2024     7.43\n",
              "19  Q4 2024     7.55"
            ]
          },
          "execution_count": 10,
          "metadata": {},
          "output_type": "execute_result"
        }
      ],
      "source": [
        "# Add GDP data in\n",
        "gdp = pd.read_csv('gdp.csv', parse_dates=[\"Quarter\"])\n",
        "gdp"
      ]
    },
    {
      "cell_type": "code",
      "execution_count": 11,
      "metadata": {
        "id": "5tZLGePbwBTV"
      },
      "outputs": [],
      "source": [
        "# Convert quarter of GDP dataset back to datetimelike\n",
        "gdp['Quarter'] = gdp['Quarter'].astype(str)\n",
        "gdp['Quarter'] = gdp['Quarter'].str.replace('Q1', '-01-01', regex=True)\\\n",
        "                                .str.replace('Q2', '-04-01', regex=True)\\\n",
        "                                .str.replace('Q3', '-07-01', regex=True)\\\n",
        "                                .str.replace('Q4', '-10-01', regex=True)"
      ]
    },
    {
      "cell_type": "code",
      "execution_count": 12,
      "metadata": {
        "colab": {
          "base_uri": "https://localhost:8080/",
          "height": 676
        },
        "id": "NeXkChYtw2L7",
        "outputId": "6490b783-34e4-4f5f-a126-6614fa45bd2b"
      },
      "outputs": [
        {
          "data": {
            "application/vnd.microsoft.datawrangler.viewer.v0+json": {
              "columns": [
                {
                  "name": "index",
                  "rawType": "int64",
                  "type": "integer"
                },
                {
                  "name": "Quarter",
                  "rawType": "datetime64[ns]",
                  "type": "datetime"
                },
                {
                  "name": "%Growth",
                  "rawType": "float64",
                  "type": "float"
                }
              ],
              "conversionMethod": "pd.DataFrame",
              "ref": "d4ae3efe-1d1e-407b-ba0a-32e72390f121",
              "rows": [
                [
                  "0",
                  "2020-01-01 00:00:00",
                  "3.21"
                ],
                [
                  "1",
                  "2020-04-01 00:00:00",
                  "0.39"
                ],
                [
                  "2",
                  "2020-07-01 00:00:00",
                  "2.69"
                ],
                [
                  "3",
                  "2020-10-01 00:00:00",
                  "4.48"
                ],
                [
                  "4",
                  "2021-01-01 00:00:00",
                  "4.72"
                ],
                [
                  "5",
                  "2021-04-01 00:00:00",
                  "6.73"
                ],
                [
                  "6",
                  "2021-07-01 00:00:00",
                  "-6.02"
                ],
                [
                  "7",
                  "2021-10-01 00:00:00",
                  "5.22"
                ],
                [
                  "8",
                  "2022-01-01 00:00:00",
                  "5.05"
                ],
                [
                  "9",
                  "2022-04-01 00:00:00",
                  "7.99"
                ],
                [
                  "10",
                  "2022-07-01 00:00:00",
                  "13.71"
                ],
                [
                  "11",
                  "2022-10-01 00:00:00",
                  "5.92"
                ],
                [
                  "12",
                  "2023-01-01 00:00:00",
                  "3.41"
                ],
                [
                  "13",
                  "2023-04-01 00:00:00",
                  "4.25"
                ],
                [
                  "14",
                  "2023-07-01 00:00:00",
                  "5.47"
                ],
                [
                  "15",
                  "2023-10-01 00:00:00",
                  "6.72"
                ],
                [
                  "16",
                  "2024-01-01 00:00:00",
                  "5.98"
                ],
                [
                  "17",
                  "2024-04-01 00:00:00",
                  "7.25"
                ],
                [
                  "18",
                  "2024-07-01 00:00:00",
                  "7.43"
                ],
                [
                  "19",
                  "2024-10-01 00:00:00",
                  "7.55"
                ]
              ],
              "shape": {
                "columns": 2,
                "rows": 20
              }
            },
            "text/html": [
              "<div>\n",
              "<style scoped>\n",
              "    .dataframe tbody tr th:only-of-type {\n",
              "        vertical-align: middle;\n",
              "    }\n",
              "\n",
              "    .dataframe tbody tr th {\n",
              "        vertical-align: top;\n",
              "    }\n",
              "\n",
              "    .dataframe thead th {\n",
              "        text-align: right;\n",
              "    }\n",
              "</style>\n",
              "<table border=\"1\" class=\"dataframe\">\n",
              "  <thead>\n",
              "    <tr style=\"text-align: right;\">\n",
              "      <th></th>\n",
              "      <th>Quarter</th>\n",
              "      <th>%Growth</th>\n",
              "    </tr>\n",
              "  </thead>\n",
              "  <tbody>\n",
              "    <tr>\n",
              "      <th>0</th>\n",
              "      <td>2020-01-01</td>\n",
              "      <td>3.21</td>\n",
              "    </tr>\n",
              "    <tr>\n",
              "      <th>1</th>\n",
              "      <td>2020-04-01</td>\n",
              "      <td>0.39</td>\n",
              "    </tr>\n",
              "    <tr>\n",
              "      <th>2</th>\n",
              "      <td>2020-07-01</td>\n",
              "      <td>2.69</td>\n",
              "    </tr>\n",
              "    <tr>\n",
              "      <th>3</th>\n",
              "      <td>2020-10-01</td>\n",
              "      <td>4.48</td>\n",
              "    </tr>\n",
              "    <tr>\n",
              "      <th>4</th>\n",
              "      <td>2021-01-01</td>\n",
              "      <td>4.72</td>\n",
              "    </tr>\n",
              "    <tr>\n",
              "      <th>5</th>\n",
              "      <td>2021-04-01</td>\n",
              "      <td>6.73</td>\n",
              "    </tr>\n",
              "    <tr>\n",
              "      <th>6</th>\n",
              "      <td>2021-07-01</td>\n",
              "      <td>-6.02</td>\n",
              "    </tr>\n",
              "    <tr>\n",
              "      <th>7</th>\n",
              "      <td>2021-10-01</td>\n",
              "      <td>5.22</td>\n",
              "    </tr>\n",
              "    <tr>\n",
              "      <th>8</th>\n",
              "      <td>2022-01-01</td>\n",
              "      <td>5.05</td>\n",
              "    </tr>\n",
              "    <tr>\n",
              "      <th>9</th>\n",
              "      <td>2022-04-01</td>\n",
              "      <td>7.99</td>\n",
              "    </tr>\n",
              "    <tr>\n",
              "      <th>10</th>\n",
              "      <td>2022-07-01</td>\n",
              "      <td>13.71</td>\n",
              "    </tr>\n",
              "    <tr>\n",
              "      <th>11</th>\n",
              "      <td>2022-10-01</td>\n",
              "      <td>5.92</td>\n",
              "    </tr>\n",
              "    <tr>\n",
              "      <th>12</th>\n",
              "      <td>2023-01-01</td>\n",
              "      <td>3.41</td>\n",
              "    </tr>\n",
              "    <tr>\n",
              "      <th>13</th>\n",
              "      <td>2023-04-01</td>\n",
              "      <td>4.25</td>\n",
              "    </tr>\n",
              "    <tr>\n",
              "      <th>14</th>\n",
              "      <td>2023-07-01</td>\n",
              "      <td>5.47</td>\n",
              "    </tr>\n",
              "    <tr>\n",
              "      <th>15</th>\n",
              "      <td>2023-10-01</td>\n",
              "      <td>6.72</td>\n",
              "    </tr>\n",
              "    <tr>\n",
              "      <th>16</th>\n",
              "      <td>2024-01-01</td>\n",
              "      <td>5.98</td>\n",
              "    </tr>\n",
              "    <tr>\n",
              "      <th>17</th>\n",
              "      <td>2024-04-01</td>\n",
              "      <td>7.25</td>\n",
              "    </tr>\n",
              "    <tr>\n",
              "      <th>18</th>\n",
              "      <td>2024-07-01</td>\n",
              "      <td>7.43</td>\n",
              "    </tr>\n",
              "    <tr>\n",
              "      <th>19</th>\n",
              "      <td>2024-10-01</td>\n",
              "      <td>7.55</td>\n",
              "    </tr>\n",
              "  </tbody>\n",
              "</table>\n",
              "</div>"
            ],
            "text/plain": [
              "      Quarter  %Growth\n",
              "0  2020-01-01     3.21\n",
              "1  2020-04-01     0.39\n",
              "2  2020-07-01     2.69\n",
              "3  2020-10-01     4.48\n",
              "4  2021-01-01     4.72\n",
              "5  2021-04-01     6.73\n",
              "6  2021-07-01    -6.02\n",
              "7  2021-10-01     5.22\n",
              "8  2022-01-01     5.05\n",
              "9  2022-04-01     7.99\n",
              "10 2022-07-01    13.71\n",
              "11 2022-10-01     5.92\n",
              "12 2023-01-01     3.41\n",
              "13 2023-04-01     4.25\n",
              "14 2023-07-01     5.47\n",
              "15 2023-10-01     6.72\n",
              "16 2024-01-01     5.98\n",
              "17 2024-04-01     7.25\n",
              "18 2024-07-01     7.43\n",
              "19 2024-10-01     7.55"
            ]
          },
          "execution_count": 12,
          "metadata": {},
          "output_type": "execute_result"
        }
      ],
      "source": [
        "gdp['Quarter'] = pd.to_datetime(gdp['Quarter'], errors='coerce')\n",
        "gdp"
      ]
    },
    {
      "cell_type": "code",
      "execution_count": 13,
      "metadata": {
        "colab": {
          "base_uri": "https://localhost:8080/",
          "height": 423
        },
        "id": "KCGxkZACxFZ2",
        "outputId": "2f0dfdda-e5f0-4d81-f350-51f446f15d8f"
      },
      "outputs": [
        {
          "data": {
            "application/vnd.microsoft.datawrangler.viewer.v0+json": {
              "columns": [
                {
                  "name": "index",
                  "rawType": "int64",
                  "type": "integer"
                },
                {
                  "name": "Date",
                  "rawType": "datetime64[ns]",
                  "type": "datetime"
                },
                {
                  "name": "Quarter",
                  "rawType": "datetime64[ns]",
                  "type": "datetime"
                },
                {
                  "name": "%Growth",
                  "rawType": "float64",
                  "type": "float"
                },
                {
                  "name": "Daily growth",
                  "rawType": "float64",
                  "type": "float"
                },
                {
                  "name": "GDP_Index",
                  "rawType": "float64",
                  "type": "float"
                }
              ],
              "conversionMethod": "pd.DataFrame",
              "ref": "e9efb6d8-f1fe-4b0d-993e-6014e4447953",
              "rows": [
                [
                  "0",
                  "2020-01-22 00:00:00",
                  null,
                  "0.0039000000000000003",
                  "4.324905239270948e-05",
                  "100.00432499876464"
                ],
                [
                  "1",
                  "2020-01-23 00:00:00",
                  null,
                  "0.0039000000000000003",
                  "4.324905239270948e-05",
                  "100.00865018458545"
                ],
                [
                  "2",
                  "2020-01-24 00:00:00",
                  null,
                  "0.0039000000000000003",
                  "4.324905239270948e-05",
                  "100.01297555747047"
                ],
                [
                  "3",
                  "2020-01-25 00:00:00",
                  null,
                  "0.0039000000000000003",
                  "4.324905239270948e-05",
                  "100.01730111742779"
                ],
                [
                  "4",
                  "2020-01-26 00:00:00",
                  null,
                  "0.0039000000000000003",
                  "4.324905239270948e-05",
                  "100.02162686446556"
                ],
                [
                  "5",
                  "2020-01-27 00:00:00",
                  null,
                  "0.0039000000000000003",
                  "4.324905239270948e-05",
                  "100.02595279859183"
                ],
                [
                  "6",
                  "2020-01-28 00:00:00",
                  null,
                  "0.0039000000000000003",
                  "4.324905239270948e-05",
                  "100.03027891981469"
                ],
                [
                  "7",
                  "2020-01-29 00:00:00",
                  null,
                  "0.0039000000000000003",
                  "4.324905239270948e-05",
                  "100.03460522814225"
                ],
                [
                  "8",
                  "2020-01-30 00:00:00",
                  null,
                  "0.0039000000000000003",
                  "4.324905239270948e-05",
                  "100.03893172358258"
                ],
                [
                  "9",
                  "2020-01-31 00:00:00",
                  null,
                  "0.0039000000000000003",
                  "4.324905239270948e-05",
                  "100.04325840614379"
                ],
                [
                  "10",
                  "2020-02-01 00:00:00",
                  null,
                  "0.0039000000000000003",
                  "4.324905239270948e-05",
                  "100.04758527583397"
                ],
                [
                  "11",
                  "2020-02-02 00:00:00",
                  null,
                  "0.0039000000000000003",
                  "4.324905239270948e-05",
                  "100.05191233266122"
                ],
                [
                  "12",
                  "2020-02-03 00:00:00",
                  null,
                  "0.0039000000000000003",
                  "4.324905239270948e-05",
                  "100.05623957663362"
                ],
                [
                  "13",
                  "2020-02-04 00:00:00",
                  null,
                  "0.0039000000000000003",
                  "4.324905239270948e-05",
                  "100.06056700775925"
                ],
                [
                  "14",
                  "2020-02-05 00:00:00",
                  null,
                  "0.0039000000000000003",
                  "4.324905239270948e-05",
                  "100.06489462604623"
                ],
                [
                  "15",
                  "2020-02-06 00:00:00",
                  null,
                  "0.0039000000000000003",
                  "4.324905239270948e-05",
                  "100.06922243150265"
                ],
                [
                  "16",
                  "2020-02-07 00:00:00",
                  null,
                  "0.0039000000000000003",
                  "4.324905239270948e-05",
                  "100.0735504241366"
                ],
                [
                  "17",
                  "2020-02-08 00:00:00",
                  null,
                  "0.0039000000000000003",
                  "4.324905239270948e-05",
                  "100.07787860395618"
                ],
                [
                  "18",
                  "2020-02-09 00:00:00",
                  null,
                  "0.0039000000000000003",
                  "4.324905239270948e-05",
                  "100.08220697096948"
                ],
                [
                  "19",
                  "2020-02-10 00:00:00",
                  null,
                  "0.0039000000000000003",
                  "4.324905239270948e-05",
                  "100.0865355251846"
                ],
                [
                  "20",
                  "2020-02-11 00:00:00",
                  null,
                  "0.0039000000000000003",
                  "4.324905239270948e-05",
                  "100.09086426660964"
                ],
                [
                  "21",
                  "2020-02-12 00:00:00",
                  null,
                  "0.0039000000000000003",
                  "4.324905239270948e-05",
                  "100.0951931952527"
                ],
                [
                  "22",
                  "2020-02-13 00:00:00",
                  null,
                  "0.0039000000000000003",
                  "4.324905239270948e-05",
                  "100.09952231112187"
                ],
                [
                  "23",
                  "2020-02-14 00:00:00",
                  null,
                  "0.0039000000000000003",
                  "4.324905239270948e-05",
                  "100.10385161422523"
                ],
                [
                  "24",
                  "2020-02-15 00:00:00",
                  null,
                  "0.0039000000000000003",
                  "4.324905239270948e-05",
                  "100.10818110457092"
                ],
                [
                  "25",
                  "2020-02-16 00:00:00",
                  null,
                  "0.0039000000000000003",
                  "4.324905239270948e-05",
                  "100.112510782167"
                ],
                [
                  "26",
                  "2020-02-17 00:00:00",
                  null,
                  "0.0039000000000000003",
                  "4.324905239270948e-05",
                  "100.1168406470216"
                ],
                [
                  "27",
                  "2020-02-18 00:00:00",
                  null,
                  "0.0039000000000000003",
                  "4.324905239270948e-05",
                  "100.12117069914277"
                ],
                [
                  "28",
                  "2020-02-19 00:00:00",
                  null,
                  "0.0039000000000000003",
                  "4.324905239270948e-05",
                  "100.12550093853866"
                ],
                [
                  "29",
                  "2020-02-20 00:00:00",
                  null,
                  "0.0039000000000000003",
                  "4.324905239270948e-05",
                  "100.12983136521736"
                ],
                [
                  "30",
                  "2020-02-21 00:00:00",
                  null,
                  "0.0039000000000000003",
                  "4.324905239270948e-05",
                  "100.13416197918694"
                ],
                [
                  "31",
                  "2020-02-22 00:00:00",
                  null,
                  "0.0039000000000000003",
                  "4.324905239270948e-05",
                  "100.13849278045552"
                ],
                [
                  "32",
                  "2020-02-23 00:00:00",
                  null,
                  "0.0039000000000000003",
                  "4.324905239270948e-05",
                  "100.14282376903121"
                ],
                [
                  "33",
                  "2020-02-24 00:00:00",
                  null,
                  "0.0039000000000000003",
                  "4.324905239270948e-05",
                  "100.14715494492211"
                ],
                [
                  "34",
                  "2020-02-25 00:00:00",
                  null,
                  "0.0039000000000000003",
                  "4.324905239270948e-05",
                  "100.1514863081363"
                ],
                [
                  "35",
                  "2020-02-26 00:00:00",
                  null,
                  "0.0039000000000000003",
                  "4.324905239270948e-05",
                  "100.1558178586819"
                ],
                [
                  "36",
                  "2020-02-27 00:00:00",
                  null,
                  "0.0039000000000000003",
                  "4.324905239270948e-05",
                  "100.16014959656701"
                ],
                [
                  "37",
                  "2020-02-28 00:00:00",
                  null,
                  "0.0039000000000000003",
                  "4.324905239270948e-05",
                  "100.16448152179973"
                ],
                [
                  "38",
                  "2020-02-29 00:00:00",
                  null,
                  "0.0039000000000000003",
                  "4.324905239270948e-05",
                  "100.16881363438816"
                ],
                [
                  "39",
                  "2020-03-01 00:00:00",
                  null,
                  "0.0039000000000000003",
                  "4.324905239270948e-05",
                  "100.17314593434041"
                ],
                [
                  "40",
                  "2020-03-02 00:00:00",
                  null,
                  "0.0039000000000000003",
                  "4.324905239270948e-05",
                  "100.17747842166457"
                ],
                [
                  "41",
                  "2020-03-03 00:00:00",
                  null,
                  "0.0039000000000000003",
                  "4.324905239270948e-05",
                  "100.18181109636876"
                ],
                [
                  "42",
                  "2020-03-04 00:00:00",
                  null,
                  "0.0039000000000000003",
                  "4.324905239270948e-05",
                  "100.18614395846109"
                ],
                [
                  "43",
                  "2020-03-05 00:00:00",
                  null,
                  "0.0039000000000000003",
                  "4.324905239270948e-05",
                  "100.19047700794962"
                ],
                [
                  "44",
                  "2020-03-06 00:00:00",
                  null,
                  "0.0039000000000000003",
                  "4.324905239270948e-05",
                  "100.19481024484251"
                ],
                [
                  "45",
                  "2020-03-07 00:00:00",
                  null,
                  "0.0039000000000000003",
                  "4.324905239270948e-05",
                  "100.19914366914786"
                ],
                [
                  "46",
                  "2020-03-08 00:00:00",
                  null,
                  "0.0039000000000000003",
                  "4.324905239270948e-05",
                  "100.20347728087373"
                ],
                [
                  "47",
                  "2020-03-09 00:00:00",
                  null,
                  "0.0039000000000000003",
                  "4.324905239270948e-05",
                  "100.20781108002825"
                ],
                [
                  "48",
                  "2020-03-10 00:00:00",
                  null,
                  "0.0039000000000000003",
                  "4.324905239270948e-05",
                  "100.21214506661956"
                ],
                [
                  "49",
                  "2020-03-11 00:00:00",
                  null,
                  "0.0039000000000000003",
                  "4.324905239270948e-05",
                  "100.21647924065572"
                ]
              ],
              "shape": {
                "columns": 5,
                "rows": 1820
              }
            },
            "text/html": [
              "<div>\n",
              "<style scoped>\n",
              "    .dataframe tbody tr th:only-of-type {\n",
              "        vertical-align: middle;\n",
              "    }\n",
              "\n",
              "    .dataframe tbody tr th {\n",
              "        vertical-align: top;\n",
              "    }\n",
              "\n",
              "    .dataframe thead th {\n",
              "        text-align: right;\n",
              "    }\n",
              "</style>\n",
              "<table border=\"1\" class=\"dataframe\">\n",
              "  <thead>\n",
              "    <tr style=\"text-align: right;\">\n",
              "      <th></th>\n",
              "      <th>Date</th>\n",
              "      <th>Quarter</th>\n",
              "      <th>%Growth</th>\n",
              "      <th>Daily growth</th>\n",
              "      <th>GDP_Index</th>\n",
              "    </tr>\n",
              "  </thead>\n",
              "  <tbody>\n",
              "    <tr>\n",
              "      <th>0</th>\n",
              "      <td>2020-01-22</td>\n",
              "      <td>NaT</td>\n",
              "      <td>0.0039</td>\n",
              "      <td>0.000043</td>\n",
              "      <td>100.004325</td>\n",
              "    </tr>\n",
              "    <tr>\n",
              "      <th>1</th>\n",
              "      <td>2020-01-23</td>\n",
              "      <td>NaT</td>\n",
              "      <td>0.0039</td>\n",
              "      <td>0.000043</td>\n",
              "      <td>100.008650</td>\n",
              "    </tr>\n",
              "    <tr>\n",
              "      <th>2</th>\n",
              "      <td>2020-01-24</td>\n",
              "      <td>NaT</td>\n",
              "      <td>0.0039</td>\n",
              "      <td>0.000043</td>\n",
              "      <td>100.012976</td>\n",
              "    </tr>\n",
              "    <tr>\n",
              "      <th>3</th>\n",
              "      <td>2020-01-25</td>\n",
              "      <td>NaT</td>\n",
              "      <td>0.0039</td>\n",
              "      <td>0.000043</td>\n",
              "      <td>100.017301</td>\n",
              "    </tr>\n",
              "    <tr>\n",
              "      <th>4</th>\n",
              "      <td>2020-01-26</td>\n",
              "      <td>NaT</td>\n",
              "      <td>0.0039</td>\n",
              "      <td>0.000043</td>\n",
              "      <td>100.021627</td>\n",
              "    </tr>\n",
              "    <tr>\n",
              "      <th>...</th>\n",
              "      <td>...</td>\n",
              "      <td>...</td>\n",
              "      <td>...</td>\n",
              "      <td>...</td>\n",
              "      <td>...</td>\n",
              "    </tr>\n",
              "    <tr>\n",
              "      <th>1815</th>\n",
              "      <td>2025-01-10</td>\n",
              "      <td>NaT</td>\n",
              "      <td>0.0755</td>\n",
              "      <td>0.000809</td>\n",
              "      <td>284.930202</td>\n",
              "    </tr>\n",
              "    <tr>\n",
              "      <th>1816</th>\n",
              "      <td>2025-01-11</td>\n",
              "      <td>NaT</td>\n",
              "      <td>0.0755</td>\n",
              "      <td>0.000809</td>\n",
              "      <td>285.160727</td>\n",
              "    </tr>\n",
              "    <tr>\n",
              "      <th>1817</th>\n",
              "      <td>2025-01-12</td>\n",
              "      <td>NaT</td>\n",
              "      <td>0.0755</td>\n",
              "      <td>0.000809</td>\n",
              "      <td>285.391438</td>\n",
              "    </tr>\n",
              "    <tr>\n",
              "      <th>1818</th>\n",
              "      <td>2025-01-13</td>\n",
              "      <td>NaT</td>\n",
              "      <td>0.0755</td>\n",
              "      <td>0.000809</td>\n",
              "      <td>285.622336</td>\n",
              "    </tr>\n",
              "    <tr>\n",
              "      <th>1819</th>\n",
              "      <td>2025-01-14</td>\n",
              "      <td>NaT</td>\n",
              "      <td>0.0755</td>\n",
              "      <td>0.000809</td>\n",
              "      <td>285.853421</td>\n",
              "    </tr>\n",
              "  </tbody>\n",
              "</table>\n",
              "<p>1820 rows × 5 columns</p>\n",
              "</div>"
            ],
            "text/plain": [
              "           Date Quarter  %Growth  Daily growth   GDP_Index\n",
              "0    2020-01-22     NaT   0.0039      0.000043  100.004325\n",
              "1    2020-01-23     NaT   0.0039      0.000043  100.008650\n",
              "2    2020-01-24     NaT   0.0039      0.000043  100.012976\n",
              "3    2020-01-25     NaT   0.0039      0.000043  100.017301\n",
              "4    2020-01-26     NaT   0.0039      0.000043  100.021627\n",
              "...         ...     ...      ...           ...         ...\n",
              "1815 2025-01-10     NaT   0.0755      0.000809  284.930202\n",
              "1816 2025-01-11     NaT   0.0755      0.000809  285.160727\n",
              "1817 2025-01-12     NaT   0.0755      0.000809  285.391438\n",
              "1818 2025-01-13     NaT   0.0755      0.000809  285.622336\n",
              "1819 2025-01-14     NaT   0.0755      0.000809  285.853421\n",
              "\n",
              "[1820 rows x 5 columns]"
            ]
          },
          "execution_count": 13,
          "metadata": {},
          "output_type": "execute_result"
        }
      ],
      "source": [
        "# Convert quarterly % growth to decimal\n",
        "gdp['%Growth'] = gdp['%Growth'] / 100\n",
        "\n",
        "# Create a full daily date range\n",
        "daily_dates = pd.date_range(start = anv_df.index.min(), end = anv_df.index.max(), freq = 'D')\n",
        "gdp_daily = pd.DataFrame({'Date': daily_dates})\n",
        "\n",
        "# Merge and forward-fill quarterly growth rates\n",
        "gdp_daily = gdp_daily.merge(gdp, left_on = 'Date', right_on = 'Quarter', how = 'left')\n",
        "gdp_daily['%Growth'] = gdp_daily['%Growth'].bfill().ffill()\n",
        "\n",
        "# Calculate daily growth rate assuming continuous compounding\n",
        "gdp_daily['Daily growth'] = np.log(1 + gdp_daily['%Growth']) / 90\n",
        "\n",
        "# Apply cumulative growth from a base value\n",
        "gdp_daily['GDP_Index'] = 100 * np.exp(gdp_daily['Daily growth'].cumsum())\n",
        "\n",
        "gdp_daily"
      ]
    },
    {
      "cell_type": "code",
      "execution_count": 14,
      "metadata": {
        "colab": {
          "base_uri": "https://localhost:8080/",
          "height": 237
        },
        "id": "8HFu2nts1JJ9",
        "outputId": "69775b68-a3de-4d0c-fc09-2f929b4c1ad9"
      },
      "outputs": [
        {
          "data": {
            "application/vnd.microsoft.datawrangler.viewer.v0+json": {
              "columns": [
                {
                  "name": "Date",
                  "rawType": "datetime64[ns]",
                  "type": "datetime"
                },
                {
                  "name": "High",
                  "rawType": "float64",
                  "type": "float"
                },
                {
                  "name": "Low",
                  "rawType": "float64",
                  "type": "float"
                },
                {
                  "name": "Open",
                  "rawType": "float64",
                  "type": "float"
                },
                {
                  "name": "Close",
                  "rawType": "float64",
                  "type": "float"
                },
                {
                  "name": "Volume",
                  "rawType": "int64",
                  "type": "integer"
                },
                {
                  "name": "SMA_200",
                  "rawType": "float64",
                  "type": "float"
                },
                {
                  "name": "RSI",
                  "rawType": "float64",
                  "type": "float"
                },
                {
                  "name": "STOCH",
                  "rawType": "float64",
                  "type": "float"
                },
                {
                  "name": "GDP_Index",
                  "rawType": "float64",
                  "type": "float"
                }
              ],
              "conversionMethod": "pd.DataFrame",
              "ref": "e65ce4dd-0052-4a99-897a-cf57625e3c9e",
              "rows": [
                [
                  "2020-01-22 00:00:00",
                  "22.3",
                  "22.0",
                  "22.05",
                  "22.3",
                  "136750",
                  "25.77025",
                  "51.42622771703288",
                  "58.82352941176473",
                  "100.00432499876464"
                ],
                [
                  "2020-01-30 00:00:00",
                  "21.8",
                  "20.75",
                  "21.7",
                  "20.75",
                  "367640",
                  "25.735",
                  "34.952327922738164",
                  "0.0",
                  "100.03893172358258"
                ],
                [
                  "2020-01-31 00:00:00",
                  "20.5",
                  "19.3",
                  "20.2",
                  "19.3",
                  "227110",
                  "25.698500000000003",
                  "26.424483836245443",
                  "0.0",
                  "100.04325840614379"
                ],
                [
                  "2020-02-03 00:00:00",
                  "17.95",
                  "17.95",
                  "17.95",
                  "17.95",
                  "101040",
                  "25.653250000000003",
                  "21.23075728509413",
                  "0.0",
                  "100.05623957663362"
                ],
                [
                  "2020-02-04 00:00:00",
                  "17.5",
                  "16.7",
                  "16.7",
                  "17.15",
                  "837110",
                  "25.605999999999998",
                  "18.864515471525195",
                  "7.627118644067782",
                  "100.06056700775925"
                ]
              ],
              "shape": {
                "columns": 9,
                "rows": 5
              }
            },
            "text/html": [
              "<div>\n",
              "<style scoped>\n",
              "    .dataframe tbody tr th:only-of-type {\n",
              "        vertical-align: middle;\n",
              "    }\n",
              "\n",
              "    .dataframe tbody tr th {\n",
              "        vertical-align: top;\n",
              "    }\n",
              "\n",
              "    .dataframe thead th {\n",
              "        text-align: right;\n",
              "    }\n",
              "</style>\n",
              "<table border=\"1\" class=\"dataframe\">\n",
              "  <thead>\n",
              "    <tr style=\"text-align: right;\">\n",
              "      <th></th>\n",
              "      <th>High</th>\n",
              "      <th>Low</th>\n",
              "      <th>Open</th>\n",
              "      <th>Close</th>\n",
              "      <th>Volume</th>\n",
              "      <th>SMA_200</th>\n",
              "      <th>RSI</th>\n",
              "      <th>STOCH</th>\n",
              "      <th>GDP_Index</th>\n",
              "    </tr>\n",
              "    <tr>\n",
              "      <th>Date</th>\n",
              "      <th></th>\n",
              "      <th></th>\n",
              "      <th></th>\n",
              "      <th></th>\n",
              "      <th></th>\n",
              "      <th></th>\n",
              "      <th></th>\n",
              "      <th></th>\n",
              "      <th></th>\n",
              "    </tr>\n",
              "  </thead>\n",
              "  <tbody>\n",
              "    <tr>\n",
              "      <th>2020-01-22</th>\n",
              "      <td>22.30</td>\n",
              "      <td>22.00</td>\n",
              "      <td>22.05</td>\n",
              "      <td>22.30</td>\n",
              "      <td>136750</td>\n",
              "      <td>25.77025</td>\n",
              "      <td>51.426228</td>\n",
              "      <td>58.823529</td>\n",
              "      <td>100.004325</td>\n",
              "    </tr>\n",
              "    <tr>\n",
              "      <th>2020-01-30</th>\n",
              "      <td>21.80</td>\n",
              "      <td>20.75</td>\n",
              "      <td>21.70</td>\n",
              "      <td>20.75</td>\n",
              "      <td>367640</td>\n",
              "      <td>25.73500</td>\n",
              "      <td>34.952328</td>\n",
              "      <td>0.000000</td>\n",
              "      <td>100.038932</td>\n",
              "    </tr>\n",
              "    <tr>\n",
              "      <th>2020-01-31</th>\n",
              "      <td>20.50</td>\n",
              "      <td>19.30</td>\n",
              "      <td>20.20</td>\n",
              "      <td>19.30</td>\n",
              "      <td>227110</td>\n",
              "      <td>25.69850</td>\n",
              "      <td>26.424484</td>\n",
              "      <td>0.000000</td>\n",
              "      <td>100.043258</td>\n",
              "    </tr>\n",
              "    <tr>\n",
              "      <th>2020-02-03</th>\n",
              "      <td>17.95</td>\n",
              "      <td>17.95</td>\n",
              "      <td>17.95</td>\n",
              "      <td>17.95</td>\n",
              "      <td>101040</td>\n",
              "      <td>25.65325</td>\n",
              "      <td>21.230757</td>\n",
              "      <td>0.000000</td>\n",
              "      <td>100.056240</td>\n",
              "    </tr>\n",
              "    <tr>\n",
              "      <th>2020-02-04</th>\n",
              "      <td>17.50</td>\n",
              "      <td>16.70</td>\n",
              "      <td>16.70</td>\n",
              "      <td>17.15</td>\n",
              "      <td>837110</td>\n",
              "      <td>25.60600</td>\n",
              "      <td>18.864515</td>\n",
              "      <td>7.627119</td>\n",
              "      <td>100.060567</td>\n",
              "    </tr>\n",
              "  </tbody>\n",
              "</table>\n",
              "</div>"
            ],
            "text/plain": [
              "             High    Low   Open  Close  Volume   SMA_200        RSI  \\\n",
              "Date                                                                  \n",
              "2020-01-22  22.30  22.00  22.05  22.30  136750  25.77025  51.426228   \n",
              "2020-01-30  21.80  20.75  21.70  20.75  367640  25.73500  34.952328   \n",
              "2020-01-31  20.50  19.30  20.20  19.30  227110  25.69850  26.424484   \n",
              "2020-02-03  17.95  17.95  17.95  17.95  101040  25.65325  21.230757   \n",
              "2020-02-04  17.50  16.70  16.70  17.15  837110  25.60600  18.864515   \n",
              "\n",
              "                STOCH   GDP_Index  \n",
              "Date                               \n",
              "2020-01-22  58.823529  100.004325  \n",
              "2020-01-30   0.000000  100.038932  \n",
              "2020-01-31   0.000000  100.043258  \n",
              "2020-02-03   0.000000  100.056240  \n",
              "2020-02-04   7.627119  100.060567  "
            ]
          },
          "execution_count": 14,
          "metadata": {},
          "output_type": "execute_result"
        }
      ],
      "source": [
        "# We use GDP index\n",
        "gdp_daily = gdp_daily[['Date', 'GDP_Index']]\n",
        "gdp_daily.set_index('Date', inplace = True)\n",
        "\n",
        "# Merge this with 6 datasets\n",
        "anv_df = anv_df.merge(gdp_daily, left_index = True, right_index = True)\n",
        "dat_df = dat_df.merge(gdp_daily, left_index = True, right_index = True)\n",
        "hah_df = hah_df.merge(gdp_daily, left_index = True, right_index = True)\n",
        "kdc_df = kdc_df.merge(gdp_daily, left_index = True, right_index = True)\n",
        "naf_df = naf_df.merge(gdp_daily, left_index = True, right_index = True)\n",
        "pvt_df = pvt_df.merge(gdp_daily, left_index = True, right_index = True)\n",
        "\n",
        "# View one to check\n",
        "anv_df.head()"
      ]
    },
    {
      "cell_type": "markdown",
      "metadata": {
        "id": "0qTGiKmh6P15"
      },
      "source": [
        "## **Interest rates**"
      ]
    },
    {
      "cell_type": "code",
      "execution_count": 15,
      "metadata": {
        "colab": {
          "base_uri": "https://localhost:8080/",
          "height": 206
        },
        "id": "OpeVMnB06LD3",
        "outputId": "1dd4ff84-3eaf-41db-9816-0c59ffd2eefc"
      },
      "outputs": [
        {
          "data": {
            "application/vnd.microsoft.datawrangler.viewer.v0+json": {
              "columns": [
                {
                  "name": "index",
                  "rawType": "int64",
                  "type": "integer"
                },
                {
                  "name": "Date",
                  "rawType": "datetime64[ns]",
                  "type": "datetime"
                },
                {
                  "name": "%",
                  "rawType": "float64",
                  "type": "float"
                }
              ],
              "conversionMethod": "pd.DataFrame",
              "ref": "f064f398-4611-4352-bbfa-0fe30ec6ef91",
              "rows": [
                [
                  "0",
                  "2020-01-31 00:00:00",
                  "6.0"
                ],
                [
                  "1",
                  "2020-02-29 00:00:00",
                  "6.0"
                ],
                [
                  "2",
                  "2020-03-17 00:00:00",
                  "5.0"
                ],
                [
                  "3",
                  "2020-04-30 00:00:00",
                  "5.0"
                ],
                [
                  "4",
                  "2020-05-12 00:00:00",
                  "4.5"
                ]
              ],
              "shape": {
                "columns": 2,
                "rows": 5
              }
            },
            "text/html": [
              "<div>\n",
              "<style scoped>\n",
              "    .dataframe tbody tr th:only-of-type {\n",
              "        vertical-align: middle;\n",
              "    }\n",
              "\n",
              "    .dataframe tbody tr th {\n",
              "        vertical-align: top;\n",
              "    }\n",
              "\n",
              "    .dataframe thead th {\n",
              "        text-align: right;\n",
              "    }\n",
              "</style>\n",
              "<table border=\"1\" class=\"dataframe\">\n",
              "  <thead>\n",
              "    <tr style=\"text-align: right;\">\n",
              "      <th></th>\n",
              "      <th>Date</th>\n",
              "      <th>%</th>\n",
              "    </tr>\n",
              "  </thead>\n",
              "  <tbody>\n",
              "    <tr>\n",
              "      <th>0</th>\n",
              "      <td>2020-01-31</td>\n",
              "      <td>6.0</td>\n",
              "    </tr>\n",
              "    <tr>\n",
              "      <th>1</th>\n",
              "      <td>2020-02-29</td>\n",
              "      <td>6.0</td>\n",
              "    </tr>\n",
              "    <tr>\n",
              "      <th>2</th>\n",
              "      <td>2020-03-17</td>\n",
              "      <td>5.0</td>\n",
              "    </tr>\n",
              "    <tr>\n",
              "      <th>3</th>\n",
              "      <td>2020-04-30</td>\n",
              "      <td>5.0</td>\n",
              "    </tr>\n",
              "    <tr>\n",
              "      <th>4</th>\n",
              "      <td>2020-05-12</td>\n",
              "      <td>4.5</td>\n",
              "    </tr>\n",
              "  </tbody>\n",
              "</table>\n",
              "</div>"
            ],
            "text/plain": [
              "        Date    %\n",
              "0 2020-01-31  6.0\n",
              "1 2020-02-29  6.0\n",
              "2 2020-03-17  5.0\n",
              "3 2020-04-30  5.0\n",
              "4 2020-05-12  4.5"
            ]
          },
          "execution_count": 15,
          "metadata": {},
          "output_type": "execute_result"
        }
      ],
      "source": [
        "ir = pd.read_excel('ir.xlsx')\n",
        "ir.head()"
      ]
    },
    {
      "cell_type": "code",
      "execution_count": 16,
      "metadata": {
        "colab": {
          "base_uri": "https://localhost:8080/",
          "height": 478
        },
        "id": "E4rCdRpu7e6D",
        "outputId": "531dd580-7bb3-4d47-851b-e8bf0674ee8f"
      },
      "outputs": [
        {
          "name": "stderr",
          "output_type": "stream",
          "text": [
            "C:\\Users\\Lien Nhi\\AppData\\Local\\Temp\\ipykernel_12276\\3549173806.py:12: FutureWarning: Series.fillna with 'method' is deprecated and will raise in a future version. Use obj.ffill() or obj.bfill() instead.\n",
            "  daily_ir['Interest rates'] = daily_ir['Interest rates'].fillna(method = 'bfill')\n"
          ]
        },
        {
          "data": {
            "application/vnd.microsoft.datawrangler.viewer.v0+json": {
              "columns": [
                {
                  "name": "index",
                  "rawType": "int64",
                  "type": "integer"
                },
                {
                  "name": "Date",
                  "rawType": "datetime64[ns]",
                  "type": "datetime"
                },
                {
                  "name": "Interest rates",
                  "rawType": "float64",
                  "type": "float"
                }
              ],
              "conversionMethod": "pd.DataFrame",
              "ref": "35584356-2aaa-499c-8ffb-c7602d2ab475",
              "rows": [
                [
                  "0",
                  "2020-01-22 00:00:00",
                  "6.0"
                ],
                [
                  "1",
                  "2020-01-23 00:00:00",
                  "6.0"
                ],
                [
                  "2",
                  "2020-01-24 00:00:00",
                  "6.0"
                ],
                [
                  "3",
                  "2020-01-25 00:00:00",
                  "6.0"
                ],
                [
                  "4",
                  "2020-01-26 00:00:00",
                  "6.0"
                ],
                [
                  "5",
                  "2020-01-27 00:00:00",
                  "6.0"
                ],
                [
                  "6",
                  "2020-01-28 00:00:00",
                  "6.0"
                ],
                [
                  "7",
                  "2020-01-29 00:00:00",
                  "6.0"
                ],
                [
                  "8",
                  "2020-01-30 00:00:00",
                  "6.0"
                ],
                [
                  "9",
                  "2020-01-31 00:00:00",
                  "6.0"
                ],
                [
                  "10",
                  "2020-02-01 00:00:00",
                  "6.0"
                ],
                [
                  "11",
                  "2020-02-02 00:00:00",
                  "6.0"
                ],
                [
                  "12",
                  "2020-02-03 00:00:00",
                  "6.0"
                ],
                [
                  "13",
                  "2020-02-04 00:00:00",
                  "6.0"
                ],
                [
                  "14",
                  "2020-02-05 00:00:00",
                  "6.0"
                ],
                [
                  "15",
                  "2020-02-06 00:00:00",
                  "6.0"
                ],
                [
                  "16",
                  "2020-02-07 00:00:00",
                  "6.0"
                ],
                [
                  "17",
                  "2020-02-08 00:00:00",
                  "6.0"
                ],
                [
                  "18",
                  "2020-02-09 00:00:00",
                  "6.0"
                ],
                [
                  "19",
                  "2020-02-10 00:00:00",
                  "6.0"
                ],
                [
                  "20",
                  "2020-02-11 00:00:00",
                  "6.0"
                ],
                [
                  "21",
                  "2020-02-12 00:00:00",
                  "6.0"
                ],
                [
                  "22",
                  "2020-02-13 00:00:00",
                  "6.0"
                ],
                [
                  "23",
                  "2020-02-14 00:00:00",
                  "6.0"
                ],
                [
                  "24",
                  "2020-02-15 00:00:00",
                  "6.0"
                ],
                [
                  "25",
                  "2020-02-16 00:00:00",
                  "6.0"
                ],
                [
                  "26",
                  "2020-02-17 00:00:00",
                  "6.0"
                ],
                [
                  "27",
                  "2020-02-18 00:00:00",
                  "6.0"
                ],
                [
                  "28",
                  "2020-02-19 00:00:00",
                  "6.0"
                ],
                [
                  "29",
                  "2020-02-20 00:00:00",
                  "6.0"
                ],
                [
                  "30",
                  "2020-02-21 00:00:00",
                  "6.0"
                ],
                [
                  "31",
                  "2020-02-22 00:00:00",
                  "6.0"
                ],
                [
                  "32",
                  "2020-02-23 00:00:00",
                  "6.0"
                ],
                [
                  "33",
                  "2020-02-24 00:00:00",
                  "6.0"
                ],
                [
                  "34",
                  "2020-02-25 00:00:00",
                  "6.0"
                ],
                [
                  "35",
                  "2020-02-26 00:00:00",
                  "6.0"
                ],
                [
                  "36",
                  "2020-02-27 00:00:00",
                  "6.0"
                ],
                [
                  "37",
                  "2020-02-28 00:00:00",
                  "6.0"
                ],
                [
                  "38",
                  "2020-02-29 00:00:00",
                  "6.0"
                ],
                [
                  "39",
                  "2020-03-01 00:00:00",
                  "5.9411764705882355"
                ],
                [
                  "40",
                  "2020-03-02 00:00:00",
                  "5.882352941176471"
                ],
                [
                  "41",
                  "2020-03-03 00:00:00",
                  "5.823529411764706"
                ],
                [
                  "42",
                  "2020-03-04 00:00:00",
                  "5.764705882352941"
                ],
                [
                  "43",
                  "2020-03-05 00:00:00",
                  "5.705882352941177"
                ],
                [
                  "44",
                  "2020-03-06 00:00:00",
                  "5.647058823529412"
                ],
                [
                  "45",
                  "2020-03-07 00:00:00",
                  "5.588235294117647"
                ],
                [
                  "46",
                  "2020-03-08 00:00:00",
                  "5.529411764705882"
                ],
                [
                  "47",
                  "2020-03-09 00:00:00",
                  "5.470588235294118"
                ],
                [
                  "48",
                  "2020-03-10 00:00:00",
                  "5.411764705882353"
                ],
                [
                  "49",
                  "2020-03-11 00:00:00",
                  "5.352941176470588"
                ]
              ],
              "shape": {
                "columns": 2,
                "rows": 1820
              }
            },
            "text/html": [
              "<div>\n",
              "<style scoped>\n",
              "    .dataframe tbody tr th:only-of-type {\n",
              "        vertical-align: middle;\n",
              "    }\n",
              "\n",
              "    .dataframe tbody tr th {\n",
              "        vertical-align: top;\n",
              "    }\n",
              "\n",
              "    .dataframe thead th {\n",
              "        text-align: right;\n",
              "    }\n",
              "</style>\n",
              "<table border=\"1\" class=\"dataframe\">\n",
              "  <thead>\n",
              "    <tr style=\"text-align: right;\">\n",
              "      <th></th>\n",
              "      <th>Date</th>\n",
              "      <th>Interest rates</th>\n",
              "    </tr>\n",
              "  </thead>\n",
              "  <tbody>\n",
              "    <tr>\n",
              "      <th>0</th>\n",
              "      <td>2020-01-22</td>\n",
              "      <td>6.0</td>\n",
              "    </tr>\n",
              "    <tr>\n",
              "      <th>1</th>\n",
              "      <td>2020-01-23</td>\n",
              "      <td>6.0</td>\n",
              "    </tr>\n",
              "    <tr>\n",
              "      <th>2</th>\n",
              "      <td>2020-01-24</td>\n",
              "      <td>6.0</td>\n",
              "    </tr>\n",
              "    <tr>\n",
              "      <th>3</th>\n",
              "      <td>2020-01-25</td>\n",
              "      <td>6.0</td>\n",
              "    </tr>\n",
              "    <tr>\n",
              "      <th>4</th>\n",
              "      <td>2020-01-26</td>\n",
              "      <td>6.0</td>\n",
              "    </tr>\n",
              "    <tr>\n",
              "      <th>...</th>\n",
              "      <td>...</td>\n",
              "      <td>...</td>\n",
              "    </tr>\n",
              "    <tr>\n",
              "      <th>1815</th>\n",
              "      <td>2025-01-10</td>\n",
              "      <td>4.5</td>\n",
              "    </tr>\n",
              "    <tr>\n",
              "      <th>1816</th>\n",
              "      <td>2025-01-11</td>\n",
              "      <td>4.5</td>\n",
              "    </tr>\n",
              "    <tr>\n",
              "      <th>1817</th>\n",
              "      <td>2025-01-12</td>\n",
              "      <td>4.5</td>\n",
              "    </tr>\n",
              "    <tr>\n",
              "      <th>1818</th>\n",
              "      <td>2025-01-13</td>\n",
              "      <td>4.5</td>\n",
              "    </tr>\n",
              "    <tr>\n",
              "      <th>1819</th>\n",
              "      <td>2025-01-14</td>\n",
              "      <td>4.5</td>\n",
              "    </tr>\n",
              "  </tbody>\n",
              "</table>\n",
              "<p>1820 rows × 2 columns</p>\n",
              "</div>"
            ],
            "text/plain": [
              "           Date  Interest rates\n",
              "0    2020-01-22             6.0\n",
              "1    2020-01-23             6.0\n",
              "2    2020-01-24             6.0\n",
              "3    2020-01-25             6.0\n",
              "4    2020-01-26             6.0\n",
              "...         ...             ...\n",
              "1815 2025-01-10             4.5\n",
              "1816 2025-01-11             4.5\n",
              "1817 2025-01-12             4.5\n",
              "1818 2025-01-13             4.5\n",
              "1819 2025-01-14             4.5\n",
              "\n",
              "[1820 rows x 2 columns]"
            ]
          },
          "execution_count": 16,
          "metadata": {},
          "output_type": "execute_result"
        }
      ],
      "source": [
        "ir['Date'] = pd.to_datetime(ir['Date'])\n",
        "ir.rename(columns={\"%\": \"Interest rates\"}, inplace=True)\n",
        "# Create a full daily date range from min to max date\n",
        "daily_dates = pd.date_range(start=anv_df.index.min(), end=anv_df.index.max(), freq=\"D\")\n",
        "daily_ir = pd.DataFrame({\"Date\": daily_dates})\n",
        "\n",
        "# Merge and forward-fill quarterly growth rates\n",
        "daily_ir = daily_ir.merge(ir, on = 'Date', how=\"left\")\n",
        "\n",
        "# Calculate daily growth rate assuming continuous compounding\n",
        "daily_ir['Interest rates'] = daily_ir['Interest rates'].interpolate(method = 'linear')\n",
        "daily_ir['Interest rates'] = daily_ir['Interest rates'].fillna(method = 'bfill')\n",
        "\n",
        "daily_ir"
      ]
    },
    {
      "cell_type": "code",
      "execution_count": 17,
      "metadata": {
        "colab": {
          "base_uri": "https://localhost:8080/",
          "height": 237
        },
        "id": "cRXKbwsx8Mxt",
        "outputId": "3f0151ae-6de5-4e52-eebf-70b55bc6ba3e"
      },
      "outputs": [
        {
          "data": {
            "application/vnd.microsoft.datawrangler.viewer.v0+json": {
              "columns": [
                {
                  "name": "Date",
                  "rawType": "datetime64[ns]",
                  "type": "datetime"
                },
                {
                  "name": "High",
                  "rawType": "float64",
                  "type": "float"
                },
                {
                  "name": "Low",
                  "rawType": "float64",
                  "type": "float"
                },
                {
                  "name": "Open",
                  "rawType": "float64",
                  "type": "float"
                },
                {
                  "name": "Close",
                  "rawType": "float64",
                  "type": "float"
                },
                {
                  "name": "Volume",
                  "rawType": "int64",
                  "type": "integer"
                },
                {
                  "name": "SMA_200",
                  "rawType": "float64",
                  "type": "float"
                },
                {
                  "name": "RSI",
                  "rawType": "float64",
                  "type": "float"
                },
                {
                  "name": "STOCH",
                  "rawType": "float64",
                  "type": "float"
                },
                {
                  "name": "GDP_Index",
                  "rawType": "float64",
                  "type": "float"
                },
                {
                  "name": "Interest rates",
                  "rawType": "float64",
                  "type": "float"
                }
              ],
              "conversionMethod": "pd.DataFrame",
              "ref": "5d117efb-77c7-4704-a253-9915522ea057",
              "rows": [
                [
                  "2020-01-22 00:00:00",
                  "22.3",
                  "22.0",
                  "22.05",
                  "22.3",
                  "136750",
                  "25.77025",
                  "51.42622771703288",
                  "58.82352941176473",
                  "100.00432499876464",
                  "6.0"
                ],
                [
                  "2020-01-30 00:00:00",
                  "21.8",
                  "20.75",
                  "21.7",
                  "20.75",
                  "367640",
                  "25.735",
                  "34.952327922738164",
                  "0.0",
                  "100.03893172358258",
                  "6.0"
                ],
                [
                  "2020-01-31 00:00:00",
                  "20.5",
                  "19.3",
                  "20.2",
                  "19.3",
                  "227110",
                  "25.698500000000003",
                  "26.424483836245443",
                  "0.0",
                  "100.04325840614379",
                  "6.0"
                ],
                [
                  "2020-02-03 00:00:00",
                  "17.95",
                  "17.95",
                  "17.95",
                  "17.95",
                  "101040",
                  "25.653250000000003",
                  "21.23075728509413",
                  "0.0",
                  "100.05623957663362",
                  "6.0"
                ],
                [
                  "2020-02-04 00:00:00",
                  "17.5",
                  "16.7",
                  "16.7",
                  "17.15",
                  "837110",
                  "25.605999999999998",
                  "18.864515471525195",
                  "7.627118644067782",
                  "100.06056700775925",
                  "6.0"
                ]
              ],
              "shape": {
                "columns": 10,
                "rows": 5
              }
            },
            "text/html": [
              "<div>\n",
              "<style scoped>\n",
              "    .dataframe tbody tr th:only-of-type {\n",
              "        vertical-align: middle;\n",
              "    }\n",
              "\n",
              "    .dataframe tbody tr th {\n",
              "        vertical-align: top;\n",
              "    }\n",
              "\n",
              "    .dataframe thead th {\n",
              "        text-align: right;\n",
              "    }\n",
              "</style>\n",
              "<table border=\"1\" class=\"dataframe\">\n",
              "  <thead>\n",
              "    <tr style=\"text-align: right;\">\n",
              "      <th></th>\n",
              "      <th>High</th>\n",
              "      <th>Low</th>\n",
              "      <th>Open</th>\n",
              "      <th>Close</th>\n",
              "      <th>Volume</th>\n",
              "      <th>SMA_200</th>\n",
              "      <th>RSI</th>\n",
              "      <th>STOCH</th>\n",
              "      <th>GDP_Index</th>\n",
              "      <th>Interest rates</th>\n",
              "    </tr>\n",
              "    <tr>\n",
              "      <th>Date</th>\n",
              "      <th></th>\n",
              "      <th></th>\n",
              "      <th></th>\n",
              "      <th></th>\n",
              "      <th></th>\n",
              "      <th></th>\n",
              "      <th></th>\n",
              "      <th></th>\n",
              "      <th></th>\n",
              "      <th></th>\n",
              "    </tr>\n",
              "  </thead>\n",
              "  <tbody>\n",
              "    <tr>\n",
              "      <th>2020-01-22</th>\n",
              "      <td>22.30</td>\n",
              "      <td>22.00</td>\n",
              "      <td>22.05</td>\n",
              "      <td>22.30</td>\n",
              "      <td>136750</td>\n",
              "      <td>25.77025</td>\n",
              "      <td>51.426228</td>\n",
              "      <td>58.823529</td>\n",
              "      <td>100.004325</td>\n",
              "      <td>6.0</td>\n",
              "    </tr>\n",
              "    <tr>\n",
              "      <th>2020-01-30</th>\n",
              "      <td>21.80</td>\n",
              "      <td>20.75</td>\n",
              "      <td>21.70</td>\n",
              "      <td>20.75</td>\n",
              "      <td>367640</td>\n",
              "      <td>25.73500</td>\n",
              "      <td>34.952328</td>\n",
              "      <td>0.000000</td>\n",
              "      <td>100.038932</td>\n",
              "      <td>6.0</td>\n",
              "    </tr>\n",
              "    <tr>\n",
              "      <th>2020-01-31</th>\n",
              "      <td>20.50</td>\n",
              "      <td>19.30</td>\n",
              "      <td>20.20</td>\n",
              "      <td>19.30</td>\n",
              "      <td>227110</td>\n",
              "      <td>25.69850</td>\n",
              "      <td>26.424484</td>\n",
              "      <td>0.000000</td>\n",
              "      <td>100.043258</td>\n",
              "      <td>6.0</td>\n",
              "    </tr>\n",
              "    <tr>\n",
              "      <th>2020-02-03</th>\n",
              "      <td>17.95</td>\n",
              "      <td>17.95</td>\n",
              "      <td>17.95</td>\n",
              "      <td>17.95</td>\n",
              "      <td>101040</td>\n",
              "      <td>25.65325</td>\n",
              "      <td>21.230757</td>\n",
              "      <td>0.000000</td>\n",
              "      <td>100.056240</td>\n",
              "      <td>6.0</td>\n",
              "    </tr>\n",
              "    <tr>\n",
              "      <th>2020-02-04</th>\n",
              "      <td>17.50</td>\n",
              "      <td>16.70</td>\n",
              "      <td>16.70</td>\n",
              "      <td>17.15</td>\n",
              "      <td>837110</td>\n",
              "      <td>25.60600</td>\n",
              "      <td>18.864515</td>\n",
              "      <td>7.627119</td>\n",
              "      <td>100.060567</td>\n",
              "      <td>6.0</td>\n",
              "    </tr>\n",
              "  </tbody>\n",
              "</table>\n",
              "</div>"
            ],
            "text/plain": [
              "             High    Low   Open  Close  Volume   SMA_200        RSI  \\\n",
              "Date                                                                  \n",
              "2020-01-22  22.30  22.00  22.05  22.30  136750  25.77025  51.426228   \n",
              "2020-01-30  21.80  20.75  21.70  20.75  367640  25.73500  34.952328   \n",
              "2020-01-31  20.50  19.30  20.20  19.30  227110  25.69850  26.424484   \n",
              "2020-02-03  17.95  17.95  17.95  17.95  101040  25.65325  21.230757   \n",
              "2020-02-04  17.50  16.70  16.70  17.15  837110  25.60600  18.864515   \n",
              "\n",
              "                STOCH   GDP_Index  Interest rates  \n",
              "Date                                               \n",
              "2020-01-22  58.823529  100.004325             6.0  \n",
              "2020-01-30   0.000000  100.038932             6.0  \n",
              "2020-01-31   0.000000  100.043258             6.0  \n",
              "2020-02-03   0.000000  100.056240             6.0  \n",
              "2020-02-04   7.627119  100.060567             6.0  "
            ]
          },
          "execution_count": 17,
          "metadata": {},
          "output_type": "execute_result"
        }
      ],
      "source": [
        "# Merge with 6 datasets\n",
        "daily_ir.set_index('Date', inplace = True)\n",
        "anv_df = anv_df.merge(daily_ir, left_index = True, right_index = True)\n",
        "dat_df = dat_df.merge(daily_ir, left_index = True, right_index = True)\n",
        "hah_df = hah_df.merge(daily_ir, left_index = True, right_index = True)\n",
        "kdc_df = kdc_df.merge(daily_ir, left_index = True, right_index = True)\n",
        "naf_df = naf_df.merge(daily_ir, left_index = True, right_index = True)\n",
        "pvt_df = pvt_df.merge(daily_ir, left_index = True, right_index = True)\n",
        "\n",
        "# View one to see\n",
        "anv_df.head()"
      ]
    },
    {
      "cell_type": "code",
      "execution_count": 18,
      "metadata": {
        "colab": {
          "base_uri": "https://localhost:8080/",
          "height": 237
        },
        "id": "QboUYvnI-V6l",
        "outputId": "3e583600-2017-4378-bcd1-fe11fa20b26b"
      },
      "outputs": [
        {
          "data": {
            "application/vnd.microsoft.datawrangler.viewer.v0+json": {
              "columns": [
                {
                  "name": "Date",
                  "rawType": "datetime64[ns]",
                  "type": "datetime"
                },
                {
                  "name": "Close",
                  "rawType": "float64",
                  "type": "float"
                },
                {
                  "name": "SMA_200",
                  "rawType": "float64",
                  "type": "float"
                },
                {
                  "name": "RSI",
                  "rawType": "float64",
                  "type": "float"
                },
                {
                  "name": "STOCH",
                  "rawType": "float64",
                  "type": "float"
                },
                {
                  "name": "GDP_Index",
                  "rawType": "float64",
                  "type": "float"
                },
                {
                  "name": "Interest rates",
                  "rawType": "float64",
                  "type": "float"
                }
              ],
              "conversionMethod": "pd.DataFrame",
              "ref": "9395c959-3901-4c73-aca4-e0fb72c3f832",
              "rows": [
                [
                  "2020-01-22 00:00:00",
                  "22.3",
                  "25.77025",
                  "51.42622771703288",
                  "58.82352941176473",
                  "100.00432499876464",
                  "6.0"
                ],
                [
                  "2020-01-30 00:00:00",
                  "20.75",
                  "25.735",
                  "34.952327922738164",
                  "0.0",
                  "100.03893172358258",
                  "6.0"
                ],
                [
                  "2020-01-31 00:00:00",
                  "19.3",
                  "25.698500000000003",
                  "26.424483836245443",
                  "0.0",
                  "100.04325840614379",
                  "6.0"
                ],
                [
                  "2020-02-03 00:00:00",
                  "17.95",
                  "25.653250000000003",
                  "21.23075728509413",
                  "0.0",
                  "100.05623957663362",
                  "6.0"
                ],
                [
                  "2020-02-04 00:00:00",
                  "17.15",
                  "25.605999999999998",
                  "18.864515471525195",
                  "7.627118644067782",
                  "100.06056700775925",
                  "6.0"
                ]
              ],
              "shape": {
                "columns": 6,
                "rows": 5
              }
            },
            "text/html": [
              "<div>\n",
              "<style scoped>\n",
              "    .dataframe tbody tr th:only-of-type {\n",
              "        vertical-align: middle;\n",
              "    }\n",
              "\n",
              "    .dataframe tbody tr th {\n",
              "        vertical-align: top;\n",
              "    }\n",
              "\n",
              "    .dataframe thead th {\n",
              "        text-align: right;\n",
              "    }\n",
              "</style>\n",
              "<table border=\"1\" class=\"dataframe\">\n",
              "  <thead>\n",
              "    <tr style=\"text-align: right;\">\n",
              "      <th></th>\n",
              "      <th>Close</th>\n",
              "      <th>SMA_200</th>\n",
              "      <th>RSI</th>\n",
              "      <th>STOCH</th>\n",
              "      <th>GDP_Index</th>\n",
              "      <th>Interest rates</th>\n",
              "    </tr>\n",
              "    <tr>\n",
              "      <th>Date</th>\n",
              "      <th></th>\n",
              "      <th></th>\n",
              "      <th></th>\n",
              "      <th></th>\n",
              "      <th></th>\n",
              "      <th></th>\n",
              "    </tr>\n",
              "  </thead>\n",
              "  <tbody>\n",
              "    <tr>\n",
              "      <th>2020-01-22</th>\n",
              "      <td>22.30</td>\n",
              "      <td>25.77025</td>\n",
              "      <td>51.426228</td>\n",
              "      <td>58.823529</td>\n",
              "      <td>100.004325</td>\n",
              "      <td>6.0</td>\n",
              "    </tr>\n",
              "    <tr>\n",
              "      <th>2020-01-30</th>\n",
              "      <td>20.75</td>\n",
              "      <td>25.73500</td>\n",
              "      <td>34.952328</td>\n",
              "      <td>0.000000</td>\n",
              "      <td>100.038932</td>\n",
              "      <td>6.0</td>\n",
              "    </tr>\n",
              "    <tr>\n",
              "      <th>2020-01-31</th>\n",
              "      <td>19.30</td>\n",
              "      <td>25.69850</td>\n",
              "      <td>26.424484</td>\n",
              "      <td>0.000000</td>\n",
              "      <td>100.043258</td>\n",
              "      <td>6.0</td>\n",
              "    </tr>\n",
              "    <tr>\n",
              "      <th>2020-02-03</th>\n",
              "      <td>17.95</td>\n",
              "      <td>25.65325</td>\n",
              "      <td>21.230757</td>\n",
              "      <td>0.000000</td>\n",
              "      <td>100.056240</td>\n",
              "      <td>6.0</td>\n",
              "    </tr>\n",
              "    <tr>\n",
              "      <th>2020-02-04</th>\n",
              "      <td>17.15</td>\n",
              "      <td>25.60600</td>\n",
              "      <td>18.864515</td>\n",
              "      <td>7.627119</td>\n",
              "      <td>100.060567</td>\n",
              "      <td>6.0</td>\n",
              "    </tr>\n",
              "  </tbody>\n",
              "</table>\n",
              "</div>"
            ],
            "text/plain": [
              "            Close   SMA_200        RSI      STOCH   GDP_Index  Interest rates\n",
              "Date                                                                         \n",
              "2020-01-22  22.30  25.77025  51.426228  58.823529  100.004325             6.0\n",
              "2020-01-30  20.75  25.73500  34.952328   0.000000  100.038932             6.0\n",
              "2020-01-31  19.30  25.69850  26.424484   0.000000  100.043258             6.0\n",
              "2020-02-03  17.95  25.65325  21.230757   0.000000  100.056240             6.0\n",
              "2020-02-04  17.15  25.60600  18.864515   7.627119  100.060567             6.0"
            ]
          },
          "execution_count": 18,
          "metadata": {},
          "output_type": "execute_result"
        }
      ],
      "source": [
        "# Drop unnecessary columns\n",
        "anv_df.drop(['High', 'Low', 'Open', 'Volume'], axis = 1, inplace = True)\n",
        "dat_df.drop(['High', 'Low', 'Open', 'Volume'], axis = 1, inplace = True)\n",
        "hah_df.drop(['High', 'Low', 'Open', 'Volume'], axis = 1, inplace = True)\n",
        "kdc_df.drop(['High', 'Low', 'Open', 'Volume'], axis = 1, inplace = True)\n",
        "naf_df.drop(['High', 'Low', 'Open', 'Volume'], axis = 1, inplace = True)\n",
        "pvt_df.drop(['High', 'Low', 'Open', 'Volume'], axis = 1, inplace = True)\n",
        "\n",
        "anv_df.head()"
      ]
    },
    {
      "cell_type": "markdown",
      "metadata": {
        "id": "Nj6rQcmD-i2G"
      },
      "source": [
        "# **LSTM models**"
      ]
    },
    {
      "cell_type": "code",
      "execution_count": 19,
      "metadata": {
        "id": "KLSbyQIw-cp6"
      },
      "outputs": [],
      "source": [
        "import tensorflow as tf\n",
        "from sklearn.metrics import mean_squared_error\n",
        "\n",
        "class LSTMModel(tf.keras.Model):\n",
        "    def __init__(self, num_layers, size_layer, output_size):\n",
        "        super(LSTMModel, self).__init__()\n",
        "        self.lstm_layers = [tf.keras.layers.LSTM(size_layer, return_sequences=True) if i < num_layers - 1\n",
        "                            else tf.keras.layers.LSTM(size_layer) for i in range(num_layers)]\n",
        "        self.dense = tf.keras.layers.Dense(output_size)\n",
        "\n",
        "    def call(self, inputs):\n",
        "        x = inputs\n",
        "        for layer in self.lstm_layers:\n",
        "            x = layer(x)\n",
        "        return self.dense(x)\n",
        "\n",
        "def calculate_accuracy(real, predict):\n",
        "    real = np.array(real) + 1\n",
        "    predict = np.array(predict) + 1\n",
        "    percentage = 1 - np.sqrt(np.mean(np.square((real - predict) / real)))\n",
        "    mse = mean_squared_error(real, predict)\n",
        "    rmse = np.sqrt(mse)\n",
        "    return round(percentage*100, 2), round(mse, 2), round(rmse, 2)\n",
        "\n",
        "def anchor(signal, weight):\n",
        "    buffer = []\n",
        "    last = signal[0]\n",
        "    for i in signal:\n",
        "        smoothed_val = last * weight + (1 - weight) * i\n",
        "        buffer.append(smoothed_val)\n",
        "        last = smoothed_val\n",
        "    return buffer"
      ]
    },
    {
      "cell_type": "code",
      "execution_count": 20,
      "metadata": {
        "id": "eR4UhMbCHtjT"
      },
      "outputs": [],
      "source": [
        "# Training function\n",
        "def train_model(model, x_train, y_train, x_val, y_val, epochs=100, batch_size=32):\n",
        "    history = model.fit(x_train, y_train, validation_data=(x_val, y_val),\n",
        "                        epochs=epochs, batch_size=batch_size)\n",
        "    return history\n",
        "\n",
        "# Forecast results\n",
        "def forecast(model, x_input):\n",
        "    predictions = model.predict(x_input)\n",
        "    return predictions.squeeze()  # Removes extra dimensions if present\n",
        "\n",
        "# Evaluate the model using metrics\n",
        "def evaluate_model(model, x_test, y_test, scaler_y):\n",
        "    predictions = forecast(model, x_test)\n",
        "\n",
        "    # Ensure predictions and y_test are properly shaped\n",
        "    predictions = np.array(predictions).reshape(-1, 1)\n",
        "    y_test = np.array(y_test).reshape(-1, 1)\n",
        "\n",
        "    # Rescale to original values\n",
        "    predictions_rescaled = scaler_y.inverse_transform(predictions)\n",
        "    y_test_rescaled = scaler_y.inverse_transform(y_test)\n",
        "\n",
        "    # Calculate metrics\n",
        "    accuracy, mse, rmse = calculate_accuracy(y_test_rescaled, predictions_rescaled)\n",
        "\n",
        "    print(f'Accuracy: {accuracy:.2f}%')\n",
        "    print(f'Mean Squared Error (MSE): {mse:.2f}')\n",
        "    print(f'Root Mean Squared Error (RMSE): {rmse:.2f}')\n",
        "\n",
        "    return predictions_rescaled, accuracy, mse, rmse"
      ]
    },
    {
      "cell_type": "code",
      "execution_count": 21,
      "metadata": {
        "colab": {
          "base_uri": "https://localhost:8080/",
          "height": 1000
        },
        "id": "8Np02BmY13YV",
        "outputId": "9005a882-ec3a-4476-dd16-6c63eb11505a"
      },
      "outputs": [
        {
          "name": "stdout",
          "output_type": "stream",
          "text": [
            "Processing dataset: ANV\n",
            "Epoch 1/50\n",
            "\u001b[1m55/55\u001b[0m \u001b[32m━━━━━━━━━━━━━━━━━━━━\u001b[0m\u001b[37m\u001b[0m \u001b[1m4s\u001b[0m 7ms/step - loss: 0.0999 - val_loss: 0.0047\n",
            "Epoch 2/50\n",
            "\u001b[1m55/55\u001b[0m \u001b[32m━━━━━━━━━━━━━━━━━━━━\u001b[0m\u001b[37m\u001b[0m \u001b[1m0s\u001b[0m 2ms/step - loss: 0.0250 - val_loss: 0.0056\n",
            "Epoch 3/50\n",
            "\u001b[1m55/55\u001b[0m \u001b[32m━━━━━━━━━━━━━━━━━━━━\u001b[0m\u001b[37m\u001b[0m \u001b[1m0s\u001b[0m 2ms/step - loss: 0.0094 - val_loss: 0.0275\n",
            "Epoch 4/50\n",
            "\u001b[1m55/55\u001b[0m \u001b[32m━━━━━━━━━━━━━━━━━━━━\u001b[0m\u001b[37m\u001b[0m \u001b[1m0s\u001b[0m 2ms/step - loss: 0.0046 - val_loss: 0.0243\n",
            "Epoch 5/50\n",
            "\u001b[1m55/55\u001b[0m \u001b[32m━━━━━━━━━━━━━━━━━━━━\u001b[0m\u001b[37m\u001b[0m \u001b[1m0s\u001b[0m 2ms/step - loss: 0.0045 - val_loss: 0.0247\n",
            "Epoch 6/50\n",
            "\u001b[1m55/55\u001b[0m \u001b[32m━━━━━━━━━━━━━━━━━━━━\u001b[0m\u001b[37m\u001b[0m \u001b[1m0s\u001b[0m 2ms/step - loss: 0.0039 - val_loss: 0.0211\n",
            "Epoch 7/50\n",
            "\u001b[1m55/55\u001b[0m \u001b[32m━━━━━━━━━━━━━━━━━━━━\u001b[0m\u001b[37m\u001b[0m \u001b[1m0s\u001b[0m 2ms/step - loss: 0.0042 - val_loss: 0.0188\n",
            "Epoch 8/50\n",
            "\u001b[1m55/55\u001b[0m \u001b[32m━━━━━━━━━━━━━━━━━━━━\u001b[0m\u001b[37m\u001b[0m \u001b[1m0s\u001b[0m 4ms/step - loss: 0.0037 - val_loss: 0.0209\n",
            "Epoch 9/50\n",
            "\u001b[1m55/55\u001b[0m \u001b[32m━━━━━━━━━━━━━━━━━━━━\u001b[0m\u001b[37m\u001b[0m \u001b[1m0s\u001b[0m 2ms/step - loss: 0.0043 - val_loss: 0.0168\n",
            "Epoch 10/50\n",
            "\u001b[1m55/55\u001b[0m \u001b[32m━━━━━━━━━━━━━━━━━━━━\u001b[0m\u001b[37m\u001b[0m \u001b[1m0s\u001b[0m 2ms/step - loss: 0.0040 - val_loss: 0.0203\n",
            "Epoch 11/50\n",
            "\u001b[1m55/55\u001b[0m \u001b[32m━━━━━━━━━━━━━━━━━━━━\u001b[0m\u001b[37m\u001b[0m \u001b[1m0s\u001b[0m 3ms/step - loss: 0.0035 - val_loss: 0.0207\n",
            "Epoch 12/50\n",
            "\u001b[1m55/55\u001b[0m \u001b[32m━━━━━━━━━━━━━━━━━━━━\u001b[0m\u001b[37m\u001b[0m \u001b[1m0s\u001b[0m 3ms/step - loss: 0.0038 - val_loss: 0.0175\n",
            "Epoch 13/50\n",
            "\u001b[1m55/55\u001b[0m \u001b[32m━━━━━━━━━━━━━━━━━━━━\u001b[0m\u001b[37m\u001b[0m \u001b[1m0s\u001b[0m 2ms/step - loss: 0.0038 - val_loss: 0.0132\n",
            "Epoch 14/50\n",
            "\u001b[1m55/55\u001b[0m \u001b[32m━━━━━━━━━━━━━━━━━━━━\u001b[0m\u001b[37m\u001b[0m \u001b[1m0s\u001b[0m 2ms/step - loss: 0.0035 - val_loss: 0.0172\n",
            "Epoch 15/50\n",
            "\u001b[1m55/55\u001b[0m \u001b[32m━━━━━━━━━━━━━━━━━━━━\u001b[0m\u001b[37m\u001b[0m \u001b[1m0s\u001b[0m 2ms/step - loss: 0.0038 - val_loss: 0.0161\n",
            "Epoch 16/50\n",
            "\u001b[1m55/55\u001b[0m \u001b[32m━━━━━━━━━━━━━━━━━━━━\u001b[0m\u001b[37m\u001b[0m \u001b[1m0s\u001b[0m 2ms/step - loss: 0.0035 - val_loss: 0.0189\n",
            "Epoch 17/50\n",
            "\u001b[1m55/55\u001b[0m \u001b[32m━━━━━━━━━━━━━━━━━━━━\u001b[0m\u001b[37m\u001b[0m \u001b[1m0s\u001b[0m 2ms/step - loss: 0.0038 - val_loss: 0.0139\n",
            "Epoch 18/50\n",
            "\u001b[1m55/55\u001b[0m \u001b[32m━━━━━━━━━━━━━━━━━━━━\u001b[0m\u001b[37m\u001b[0m \u001b[1m0s\u001b[0m 2ms/step - loss: 0.0036 - val_loss: 0.0203\n",
            "Epoch 19/50\n",
            "\u001b[1m55/55\u001b[0m \u001b[32m━━━━━━━━━━━━━━━━━━━━\u001b[0m\u001b[37m\u001b[0m \u001b[1m0s\u001b[0m 2ms/step - loss: 0.0036 - val_loss: 0.0147\n",
            "Epoch 20/50\n",
            "\u001b[1m55/55\u001b[0m \u001b[32m━━━━━━━━━━━━━━━━━━━━\u001b[0m\u001b[37m\u001b[0m \u001b[1m0s\u001b[0m 3ms/step - loss: 0.0037 - val_loss: 0.0194\n",
            "Epoch 21/50\n",
            "\u001b[1m55/55\u001b[0m \u001b[32m━━━━━━━━━━━━━━━━━━━━\u001b[0m\u001b[37m\u001b[0m \u001b[1m0s\u001b[0m 2ms/step - loss: 0.0038 - val_loss: 0.0165\n",
            "Epoch 22/50\n",
            "\u001b[1m55/55\u001b[0m \u001b[32m━━━━━━━━━━━━━━━━━━━━\u001b[0m\u001b[37m\u001b[0m \u001b[1m0s\u001b[0m 2ms/step - loss: 0.0033 - val_loss: 0.0107\n",
            "Epoch 23/50\n",
            "\u001b[1m55/55\u001b[0m \u001b[32m━━━━━━━━━━━━━━━━━━━━\u001b[0m\u001b[37m\u001b[0m \u001b[1m0s\u001b[0m 2ms/step - loss: 0.0036 - val_loss: 0.0185\n",
            "Epoch 24/50\n",
            "\u001b[1m55/55\u001b[0m \u001b[32m━━━━━━━━━━━━━━━━━━━━\u001b[0m\u001b[37m\u001b[0m \u001b[1m0s\u001b[0m 2ms/step - loss: 0.0034 - val_loss: 0.0200\n",
            "Epoch 25/50\n",
            "\u001b[1m55/55\u001b[0m \u001b[32m━━━━━━━━━━━━━━━━━━━━\u001b[0m\u001b[37m\u001b[0m \u001b[1m0s\u001b[0m 2ms/step - loss: 0.0040 - val_loss: 0.0140\n",
            "Epoch 26/50\n",
            "\u001b[1m55/55\u001b[0m \u001b[32m━━━━━━━━━━━━━━━━━━━━\u001b[0m\u001b[37m\u001b[0m \u001b[1m0s\u001b[0m 3ms/step - loss: 0.0032 - val_loss: 0.0192\n",
            "Epoch 27/50\n",
            "\u001b[1m55/55\u001b[0m \u001b[32m━━━━━━━━━━━━━━━━━━━━\u001b[0m\u001b[37m\u001b[0m \u001b[1m0s\u001b[0m 2ms/step - loss: 0.0037 - val_loss: 0.0188\n",
            "Epoch 28/50\n",
            "\u001b[1m55/55\u001b[0m \u001b[32m━━━━━━━━━━━━━━━━━━━━\u001b[0m\u001b[37m\u001b[0m \u001b[1m0s\u001b[0m 2ms/step - loss: 0.0038 - val_loss: 0.0144\n",
            "Epoch 29/50\n",
            "\u001b[1m55/55\u001b[0m \u001b[32m━━━━━━━━━━━━━━━━━━━━\u001b[0m\u001b[37m\u001b[0m \u001b[1m0s\u001b[0m 3ms/step - loss: 0.0035 - val_loss: 0.0117\n",
            "Epoch 30/50\n",
            "\u001b[1m55/55\u001b[0m \u001b[32m━━━━━━━━━━━━━━━━━━━━\u001b[0m\u001b[37m\u001b[0m \u001b[1m0s\u001b[0m 2ms/step - loss: 0.0036 - val_loss: 0.0163\n",
            "Epoch 31/50\n",
            "\u001b[1m55/55\u001b[0m \u001b[32m━━━━━━━━━━━━━━━━━━━━\u001b[0m\u001b[37m\u001b[0m \u001b[1m0s\u001b[0m 2ms/step - loss: 0.0038 - val_loss: 0.0114\n",
            "Epoch 32/50\n",
            "\u001b[1m55/55\u001b[0m \u001b[32m━━━━━━━━━━━━━━━━━━━━\u001b[0m\u001b[37m\u001b[0m \u001b[1m0s\u001b[0m 2ms/step - loss: 0.0034 - val_loss: 0.0181\n",
            "Epoch 33/50\n",
            "\u001b[1m55/55\u001b[0m \u001b[32m━━━━━━━━━━━━━━━━━━━━\u001b[0m\u001b[37m\u001b[0m \u001b[1m0s\u001b[0m 2ms/step - loss: 0.0033 - val_loss: 0.0153\n",
            "Epoch 34/50\n",
            "\u001b[1m55/55\u001b[0m \u001b[32m━━━━━━━━━━━━━━━━━━━━\u001b[0m\u001b[37m\u001b[0m \u001b[1m0s\u001b[0m 2ms/step - loss: 0.0035 - val_loss: 0.0097\n",
            "Epoch 35/50\n",
            "\u001b[1m55/55\u001b[0m \u001b[32m━━━━━━━━━━━━━━━━━━━━\u001b[0m\u001b[37m\u001b[0m \u001b[1m0s\u001b[0m 2ms/step - loss: 0.0039 - val_loss: 0.0221\n",
            "Epoch 36/50\n",
            "\u001b[1m55/55\u001b[0m \u001b[32m━━━━━━━━━━━━━━━━━━━━\u001b[0m\u001b[37m\u001b[0m \u001b[1m0s\u001b[0m 2ms/step - loss: 0.0035 - val_loss: 0.0193\n",
            "Epoch 37/50\n",
            "\u001b[1m55/55\u001b[0m \u001b[32m━━━━━━━━━━━━━━━━━━━━\u001b[0m\u001b[37m\u001b[0m \u001b[1m0s\u001b[0m 2ms/step - loss: 0.0035 - val_loss: 0.0126\n",
            "Epoch 38/50\n",
            "\u001b[1m55/55\u001b[0m \u001b[32m━━━━━━━━━━━━━━━━━━━━\u001b[0m\u001b[37m\u001b[0m \u001b[1m0s\u001b[0m 2ms/step - loss: 0.0037 - val_loss: 0.0160\n",
            "Epoch 39/50\n",
            "\u001b[1m55/55\u001b[0m \u001b[32m━━━━━━━━━━━━━━━━━━━━\u001b[0m\u001b[37m\u001b[0m \u001b[1m0s\u001b[0m 2ms/step - loss: 0.0030 - val_loss: 0.0200\n",
            "Epoch 40/50\n",
            "\u001b[1m55/55\u001b[0m \u001b[32m━━━━━━━━━━━━━━━━━━━━\u001b[0m\u001b[37m\u001b[0m \u001b[1m0s\u001b[0m 2ms/step - loss: 0.0033 - val_loss: 0.0182\n",
            "Epoch 41/50\n",
            "\u001b[1m55/55\u001b[0m \u001b[32m━━━━━━━━━━━━━━━━━━━━\u001b[0m\u001b[37m\u001b[0m \u001b[1m0s\u001b[0m 2ms/step - loss: 0.0033 - val_loss: 0.0154\n",
            "Epoch 42/50\n",
            "\u001b[1m55/55\u001b[0m \u001b[32m━━━━━━━━━━━━━━━━━━━━\u001b[0m\u001b[37m\u001b[0m \u001b[1m0s\u001b[0m 2ms/step - loss: 0.0035 - val_loss: 0.0171\n",
            "Epoch 43/50\n",
            "\u001b[1m55/55\u001b[0m \u001b[32m━━━━━━━━━━━━━━━━━━━━\u001b[0m\u001b[37m\u001b[0m \u001b[1m0s\u001b[0m 3ms/step - loss: 0.0034 - val_loss: 0.0110\n",
            "Epoch 44/50\n",
            "\u001b[1m55/55\u001b[0m \u001b[32m━━━━━━━━━━━━━━━━━━━━\u001b[0m\u001b[37m\u001b[0m \u001b[1m0s\u001b[0m 3ms/step - loss: 0.0036 - val_loss: 0.0165\n",
            "Epoch 45/50\n",
            "\u001b[1m55/55\u001b[0m \u001b[32m━━━━━━━━━━━━━━━━━━━━\u001b[0m\u001b[37m\u001b[0m \u001b[1m0s\u001b[0m 3ms/step - loss: 0.0031 - val_loss: 0.0123\n",
            "Epoch 46/50\n",
            "\u001b[1m55/55\u001b[0m \u001b[32m━━━━━━━━━━━━━━━━━━━━\u001b[0m\u001b[37m\u001b[0m \u001b[1m0s\u001b[0m 2ms/step - loss: 0.0034 - val_loss: 0.0174\n",
            "Epoch 47/50\n",
            "\u001b[1m55/55\u001b[0m \u001b[32m━━━━━━━━━━━━━━━━━━━━\u001b[0m\u001b[37m\u001b[0m \u001b[1m0s\u001b[0m 3ms/step - loss: 0.0031 - val_loss: 0.0169\n",
            "Epoch 48/50\n",
            "\u001b[1m55/55\u001b[0m \u001b[32m━━━━━━━━━━━━━━━━━━━━\u001b[0m\u001b[37m\u001b[0m \u001b[1m0s\u001b[0m 3ms/step - loss: 0.0038 - val_loss: 0.0168\n",
            "Epoch 49/50\n",
            "\u001b[1m55/55\u001b[0m \u001b[32m━━━━━━━━━━━━━━━━━━━━\u001b[0m\u001b[37m\u001b[0m \u001b[1m0s\u001b[0m 3ms/step - loss: 0.0034 - val_loss: 0.0142\n",
            "Epoch 50/50\n",
            "\u001b[1m55/55\u001b[0m \u001b[32m━━━━━━━━━━━━━━━━━━━━\u001b[0m\u001b[37m\u001b[0m \u001b[1m0s\u001b[0m 3ms/step - loss: 0.0033 - val_loss: 0.0190\n"
          ]
        },
        {
          "data": {
            "image/png": "[encoded data removed]",
            "text/plain": [
              "<Figure size 640x480 with 1 Axes>"
            ]
          },
          "metadata": {},
          "output_type": "display_data"
        },
        {
          "name": "stdout",
          "output_type": "stream",
          "text": [
            "\u001b[1m6/6\u001b[0m \u001b[32m━━━━━━━━━━━━━━━━━━━━\u001b[0m\u001b[37m\u001b[0m \u001b[1m1s\u001b[0m 78ms/step\n",
            "Accuracy: 55.61%\n",
            "Mean Squared Error (MSE): 114.59\n",
            "Root Mean Squared Error (RMSE): 10.70\n"
          ]
        },
        {
          "data": {
            "image/png": "[encoded data removed]",
            "text/plain": [
              "<Figure size 1000x500 with 1 Axes>"
            ]
          },
          "metadata": {},
          "output_type": "display_data"
        },
        {
          "name": "stdout",
          "output_type": "stream",
          "text": [
            "Processing dataset: DAT\n",
            "Epoch 1/50\n",
            "\u001b[1m55/55\u001b[0m \u001b[32m━━━━━━━━━━━━━━━━━━━━\u001b[0m\u001b[37m\u001b[0m \u001b[1m4s\u001b[0m 11ms/step - loss: 0.0262 - val_loss: 0.0092\n",
            "Epoch 2/50\n",
            "\u001b[1m55/55\u001b[0m \u001b[32m━━━━━━━━━━━━━━━━━━━━\u001b[0m\u001b[37m\u001b[0m \u001b[1m0s\u001b[0m 4ms/step - loss: 0.0114 - val_loss: 0.0042\n",
            "Epoch 3/50\n",
            "\u001b[1m55/55\u001b[0m \u001b[32m━━━━━━━━━━━━━━━━━━━━\u001b[0m\u001b[37m\u001b[0m \u001b[1m0s\u001b[0m 3ms/step - loss: 0.0091 - val_loss: 6.1885e-04\n",
            "Epoch 4/50\n",
            "\u001b[1m55/55\u001b[0m \u001b[32m━━━━━━━━━━━━━━━━━━━━\u001b[0m\u001b[37m\u001b[0m \u001b[1m0s\u001b[0m 3ms/step - loss: 0.0111 - val_loss: 2.3508e-04\n",
            "Epoch 5/50\n",
            "\u001b[1m55/55\u001b[0m \u001b[32m━━━━━━━━━━━━━━━━━━━━\u001b[0m\u001b[37m\u001b[0m \u001b[1m0s\u001b[0m 4ms/step - loss: 0.0104 - val_loss: 0.0011\n",
            "Epoch 6/50\n",
            "\u001b[1m55/55\u001b[0m \u001b[32m━━━━━━━━━━━━━━━━━━━━\u001b[0m\u001b[37m\u001b[0m \u001b[1m0s\u001b[0m 4ms/step - loss: 0.0069 - val_loss: 0.0014\n",
            "Epoch 7/50\n",
            "\u001b[1m55/55\u001b[0m \u001b[32m━━━━━━━━━━━━━━━━━━━━\u001b[0m\u001b[37m\u001b[0m \u001b[1m0s\u001b[0m 3ms/step - loss: 0.0073 - val_loss: 0.0020\n",
            "Epoch 8/50\n",
            "\u001b[1m55/55\u001b[0m \u001b[32m━━━━━━━━━━━━━━━━━━━━\u001b[0m\u001b[37m\u001b[0m \u001b[1m0s\u001b[0m 4ms/step - loss: 0.0087 - val_loss: 0.0021\n",
            "Epoch 9/50\n",
            "\u001b[1m55/55\u001b[0m \u001b[32m━━━━━━━━━━━━━━━━━━━━\u001b[0m\u001b[37m\u001b[0m \u001b[1m0s\u001b[0m 4ms/step - loss: 0.0074 - val_loss: 0.0019\n",
            "Epoch 10/50\n",
            "\u001b[1m55/55\u001b[0m \u001b[32m━━━━━━━━━━━━━━━━━━━━\u001b[0m\u001b[37m\u001b[0m \u001b[1m0s\u001b[0m 3ms/step - loss: 0.0129 - val_loss: 0.0013\n",
            "Epoch 11/50\n",
            "\u001b[1m55/55\u001b[0m \u001b[32m━━━━━━━━━━━━━━━━━━━━\u001b[0m\u001b[37m\u001b[0m \u001b[1m0s\u001b[0m 3ms/step - loss: 0.0081 - val_loss: 0.0013\n",
            "Epoch 12/50\n",
            "\u001b[1m55/55\u001b[0m \u001b[32m━━━━━━━━━━━━━━━━━━━━\u001b[0m\u001b[37m\u001b[0m \u001b[1m0s\u001b[0m 3ms/step - loss: 0.0070 - val_loss: 0.0015\n",
            "Epoch 13/50\n",
            "\u001b[1m55/55\u001b[0m \u001b[32m━━━━━━━━━━━━━━━━━━━━\u001b[0m\u001b[37m\u001b[0m \u001b[1m0s\u001b[0m 4ms/step - loss: 0.0092 - val_loss: 0.0012\n",
            "Epoch 14/50\n",
            "\u001b[1m55/55\u001b[0m \u001b[32m━━━━━━━━━━━━━━━━━━━━\u001b[0m\u001b[37m\u001b[0m \u001b[1m0s\u001b[0m 3ms/step - loss: 0.0065 - val_loss: 0.0033\n",
            "Epoch 15/50\n",
            "\u001b[1m55/55\u001b[0m \u001b[32m━━━━━━━━━━━━━━━━━━━━\u001b[0m\u001b[37m\u001b[0m \u001b[1m0s\u001b[0m 3ms/step - loss: 0.0076 - val_loss: 0.0015\n",
            "Epoch 16/50\n",
            "\u001b[1m55/55\u001b[0m \u001b[32m━━━━━━━━━━━━━━━━━━━━\u001b[0m\u001b[37m\u001b[0m \u001b[1m0s\u001b[0m 4ms/step - loss: 0.0064 - val_loss: 0.0016\n",
            "Epoch 17/50\n",
            "\u001b[1m55/55\u001b[0m \u001b[32m━━━━━━━━━━━━━━━━━━━━\u001b[0m\u001b[37m\u001b[0m \u001b[1m0s\u001b[0m 3ms/step - loss: 0.0064 - val_loss: 0.0021\n",
            "Epoch 18/50\n",
            "\u001b[1m55/55\u001b[0m \u001b[32m━━━━━━━━━━━━━━━━━━━━\u001b[0m\u001b[37m\u001b[0m \u001b[1m0s\u001b[0m 3ms/step - loss: 0.0073 - val_loss: 5.0669e-04\n",
            "Epoch 19/50\n",
            "\u001b[1m55/55\u001b[0m \u001b[32m━━━━━━━━━━━━━━━━━━━━\u001b[0m\u001b[37m\u001b[0m \u001b[1m0s\u001b[0m 3ms/step - loss: 0.0085 - val_loss: 0.0019\n",
            "Epoch 20/50\n",
            "\u001b[1m55/55\u001b[0m \u001b[32m━━━━━━━━━━━━━━━━━━━━\u001b[0m\u001b[37m\u001b[0m \u001b[1m0s\u001b[0m 4ms/step - loss: 0.0063 - val_loss: 9.4049e-04\n",
            "Epoch 21/50\n",
            "\u001b[1m55/55\u001b[0m \u001b[32m━━━━━━━━━━━━━━━━━━━━\u001b[0m\u001b[37m\u001b[0m \u001b[1m0s\u001b[0m 2ms/step - loss: 0.0083 - val_loss: 0.0014\n",
            "Epoch 22/50\n",
            "\u001b[1m55/55\u001b[0m \u001b[32m━━━━━━━━━━━━━━━━━━━━\u001b[0m\u001b[37m\u001b[0m \u001b[1m0s\u001b[0m 3ms/step - loss: 0.0080 - val_loss: 0.0014\n",
            "Epoch 23/50\n",
            "\u001b[1m55/55\u001b[0m \u001b[32m━━━━━━━━━━━━━━━━━━━━\u001b[0m\u001b[37m\u001b[0m \u001b[1m0s\u001b[0m 2ms/step - loss: 0.0073 - val_loss: 0.0017\n",
            "Epoch 24/50\n",
            "\u001b[1m55/55\u001b[0m \u001b[32m━━━━━━━━━━━━━━━━━━━━\u001b[0m\u001b[37m\u001b[0m \u001b[1m0s\u001b[0m 3ms/step - loss: 0.0075 - val_loss: 0.0021\n",
            "Epoch 25/50\n",
            "\u001b[1m55/55\u001b[0m \u001b[32m━━━━━━━━━━━━━━━━━━━━\u001b[0m\u001b[37m\u001b[0m \u001b[1m0s\u001b[0m 3ms/step - loss: 0.0069 - val_loss: 0.0022\n",
            "Epoch 26/50\n",
            "\u001b[1m55/55\u001b[0m \u001b[32m━━━━━━━━━━━━━━━━━━━━\u001b[0m\u001b[37m\u001b[0m \u001b[1m0s\u001b[0m 3ms/step - loss: 0.0069 - val_loss: 0.0013\n",
            "Epoch 27/50\n",
            "\u001b[1m55/55\u001b[0m \u001b[32m━━━━━━━━━━━━━━━━━━━━\u001b[0m\u001b[37m\u001b[0m \u001b[1m0s\u001b[0m 3ms/step - loss: 0.0070 - val_loss: 8.9502e-04\n",
            "Epoch 28/50\n",
            "\u001b[1m55/55\u001b[0m \u001b[32m━━━━━━━━━━━━━━━━━━━━\u001b[0m\u001b[37m\u001b[0m \u001b[1m0s\u001b[0m 3ms/step - loss: 0.0070 - val_loss: 3.6916e-04\n",
            "Epoch 29/50\n",
            "\u001b[1m55/55\u001b[0m \u001b[32m━━━━━━━━━━━━━━━━━━━━\u001b[0m\u001b[37m\u001b[0m \u001b[1m0s\u001b[0m 4ms/step - loss: 0.0063 - val_loss: 0.0013\n",
            "Epoch 30/50\n",
            "\u001b[1m55/55\u001b[0m \u001b[32m━━━━━━━━━━━━━━━━━━━━\u001b[0m\u001b[37m\u001b[0m \u001b[1m0s\u001b[0m 3ms/step - loss: 0.0065 - val_loss: 6.0058e-04\n",
            "Epoch 31/50\n",
            "\u001b[1m55/55\u001b[0m \u001b[32m━━━━━━━━━━━━━━━━━━━━\u001b[0m\u001b[37m\u001b[0m \u001b[1m0s\u001b[0m 3ms/step - loss: 0.0080 - val_loss: 0.0011\n",
            "Epoch 32/50\n",
            "\u001b[1m55/55\u001b[0m \u001b[32m━━━━━━━━━━━━━━━━━━━━\u001b[0m\u001b[37m\u001b[0m \u001b[1m0s\u001b[0m 3ms/step - loss: 0.0076 - val_loss: 9.7996e-04\n",
            "Epoch 33/50\n",
            "\u001b[1m55/55\u001b[0m \u001b[32m━━━━━━━━━━━━━━━━━━━━\u001b[0m\u001b[37m\u001b[0m \u001b[1m0s\u001b[0m 4ms/step - loss: 0.0065 - val_loss: 0.0020\n",
            "Epoch 34/50\n",
            "\u001b[1m55/55\u001b[0m \u001b[32m━━━━━━━━━━━━━━━━━━━━\u001b[0m\u001b[37m\u001b[0m \u001b[1m0s\u001b[0m 4ms/step - loss: 0.0063 - val_loss: 0.0014\n",
            "Epoch 35/50\n",
            "\u001b[1m55/55\u001b[0m \u001b[32m━━━━━━━━━━━━━━━━━━━━\u001b[0m\u001b[37m\u001b[0m \u001b[1m0s\u001b[0m 3ms/step - loss: 0.0067 - val_loss: 3.5797e-04\n",
            "Epoch 36/50\n",
            "\u001b[1m55/55\u001b[0m \u001b[32m━━━━━━━━━━━━━━━━━━━━\u001b[0m\u001b[37m\u001b[0m \u001b[1m0s\u001b[0m 3ms/step - loss: 0.0065 - val_loss: 4.5696e-04\n",
            "Epoch 37/50\n",
            "\u001b[1m55/55\u001b[0m \u001b[32m━━━━━━━━━━━━━━━━━━━━\u001b[0m\u001b[37m\u001b[0m \u001b[1m0s\u001b[0m 5ms/step - loss: 0.0079 - val_loss: 3.7474e-04\n",
            "Epoch 38/50\n",
            "\u001b[1m55/55\u001b[0m \u001b[32m━━━━━━━━━━━━━━━━━━━━\u001b[0m\u001b[37m\u001b[0m \u001b[1m0s\u001b[0m 2ms/step - loss: 0.0058 - val_loss: 3.9531e-04\n",
            "Epoch 39/50\n",
            "\u001b[1m55/55\u001b[0m \u001b[32m━━━━━━━━━━━━━━━━━━━━\u001b[0m\u001b[37m\u001b[0m \u001b[1m0s\u001b[0m 3ms/step - loss: 0.0068 - val_loss: 8.2071e-04\n",
            "Epoch 40/50\n",
            "\u001b[1m55/55\u001b[0m \u001b[32m━━━━━━━━━━━━━━━━━━━━\u001b[0m\u001b[37m\u001b[0m \u001b[1m0s\u001b[0m 2ms/step - loss: 0.0076 - val_loss: 5.7553e-04\n",
            "Epoch 41/50\n",
            "\u001b[1m55/55\u001b[0m \u001b[32m━━━━━━━━━━━━━━━━━━━━\u001b[0m\u001b[37m\u001b[0m \u001b[1m0s\u001b[0m 2ms/step - loss: 0.0063 - val_loss: 3.3391e-04\n",
            "Epoch 42/50\n",
            "\u001b[1m55/55\u001b[0m \u001b[32m━━━━━━━━━━━━━━━━━━━━\u001b[0m\u001b[37m\u001b[0m \u001b[1m0s\u001b[0m 3ms/step - loss: 0.0049 - val_loss: 9.1179e-04\n",
            "Epoch 43/50\n",
            "\u001b[1m55/55\u001b[0m \u001b[32m━━━━━━━━━━━━━━━━━━━━\u001b[0m\u001b[37m\u001b[0m \u001b[1m0s\u001b[0m 2ms/step - loss: 0.0048 - val_loss: 2.4637e-04\n",
            "Epoch 44/50\n",
            "\u001b[1m55/55\u001b[0m \u001b[32m━━━━━━━━━━━━━━━━━━━━\u001b[0m\u001b[37m\u001b[0m \u001b[1m0s\u001b[0m 3ms/step - loss: 0.0044 - val_loss: 0.0015\n",
            "Epoch 45/50\n",
            "\u001b[1m55/55\u001b[0m \u001b[32m━━━━━━━━━━━━━━━━━━━━\u001b[0m\u001b[37m\u001b[0m \u001b[1m0s\u001b[0m 2ms/step - loss: 0.0057 - val_loss: 7.8075e-04\n",
            "Epoch 46/50\n",
            "\u001b[1m55/55\u001b[0m \u001b[32m━━━━━━━━━━━━━━━━━━━━\u001b[0m\u001b[37m\u001b[0m \u001b[1m0s\u001b[0m 3ms/step - loss: 0.0053 - val_loss: 7.6019e-04\n",
            "Epoch 47/50\n",
            "\u001b[1m55/55\u001b[0m \u001b[32m━━━━━━━━━━━━━━━━━━━━\u001b[0m\u001b[37m\u001b[0m \u001b[1m0s\u001b[0m 4ms/step - loss: 0.0053 - val_loss: 9.5250e-04\n",
            "Epoch 48/50\n",
            "\u001b[1m55/55\u001b[0m \u001b[32m━━━━━━━━━━━━━━━━━━━━\u001b[0m\u001b[37m\u001b[0m \u001b[1m0s\u001b[0m 4ms/step - loss: 0.0069 - val_loss: 5.1590e-04\n",
            "Epoch 49/50\n",
            "\u001b[1m55/55\u001b[0m \u001b[32m━━━━━━━━━━━━━━━━━━━━\u001b[0m\u001b[37m\u001b[0m \u001b[1m0s\u001b[0m 2ms/step - loss: 0.0050 - val_loss: 9.5401e-04\n",
            "Epoch 50/50\n",
            "\u001b[1m55/55\u001b[0m \u001b[32m━━━━━━━━━━━━━━━━━━━━\u001b[0m\u001b[37m\u001b[0m \u001b[1m0s\u001b[0m 2ms/step - loss: 0.0046 - val_loss: 3.5357e-04\n"
          ]
        },
        {
          "data": {
            "image/png": "[encoded data removed]",
            "text/plain": [
              "<Figure size 640x480 with 1 Axes>"
            ]
          },
          "metadata": {},
          "output_type": "display_data"
        },
        {
          "name": "stdout",
          "output_type": "stream",
          "text": [
            "\u001b[1m6/6\u001b[0m \u001b[32m━━━━━━━━━━━━━━━━━━━━\u001b[0m\u001b[37m\u001b[0m \u001b[1m1s\u001b[0m 87ms/step\n",
            "Accuracy: 72.58%\n",
            "Mean Squared Error (MSE): 6.25\n",
            "Root Mean Squared Error (RMSE): 2.50\n"
          ]
        },
        {
          "data": {
            "image/png": "[encoded data removed]",
            "text/plain": [
              "<Figure size 1000x500 with 1 Axes>"
            ]
          },
          "metadata": {},
          "output_type": "display_data"
        },
        {
          "name": "stdout",
          "output_type": "stream",
          "text": [
            "Processing dataset: HAH\n",
            "Epoch 1/50\n",
            "\u001b[1m55/55\u001b[0m \u001b[32m━━━━━━━━━━━━━━━━━━━━\u001b[0m\u001b[37m\u001b[0m \u001b[1m5s\u001b[0m 9ms/step - loss: 0.1214 - val_loss: 0.0116\n",
            "Epoch 2/50\n",
            "\u001b[1m55/55\u001b[0m \u001b[32m━━━━━━━━━━━━━━━━━━━━\u001b[0m\u001b[37m\u001b[0m \u001b[1m0s\u001b[0m 2ms/step - loss: 0.0358 - val_loss: 0.0172\n",
            "Epoch 3/50\n",
            "\u001b[1m55/55\u001b[0m \u001b[32m━━━━━━━━━━━━━━━━━━━━\u001b[0m\u001b[37m\u001b[0m \u001b[1m0s\u001b[0m 2ms/step - loss: 0.0143 - val_loss: 0.0097\n",
            "Epoch 4/50\n",
            "\u001b[1m55/55\u001b[0m \u001b[32m━━━━━━━━━━━━━━━━━━━━\u001b[0m\u001b[37m\u001b[0m \u001b[1m0s\u001b[0m 3ms/step - loss: 0.0132 - val_loss: 0.0072\n",
            "Epoch 5/50\n",
            "\u001b[1m55/55\u001b[0m \u001b[32m━━━━━━━━━━━━━━━━━━━━\u001b[0m\u001b[37m\u001b[0m \u001b[1m0s\u001b[0m 3ms/step - loss: 0.0119 - val_loss: 0.0073\n",
            "Epoch 6/50\n",
            "\u001b[1m55/55\u001b[0m \u001b[32m━━━━━━━━━━━━━━━━━━━━\u001b[0m\u001b[37m\u001b[0m \u001b[1m0s\u001b[0m 5ms/step - loss: 0.0106 - val_loss: 0.0024\n",
            "Epoch 7/50\n",
            "\u001b[1m55/55\u001b[0m \u001b[32m━━━━━━━━━━━━━━━━━━━━\u001b[0m\u001b[37m\u001b[0m \u001b[1m0s\u001b[0m 3ms/step - loss: 0.0100 - val_loss: 0.0011\n",
            "Epoch 8/50\n",
            "\u001b[1m55/55\u001b[0m \u001b[32m━━━━━━━━━━━━━━━━━━━━\u001b[0m\u001b[37m\u001b[0m \u001b[1m0s\u001b[0m 2ms/step - loss: 0.0089 - val_loss: 0.0012\n",
            "Epoch 9/50\n",
            "\u001b[1m55/55\u001b[0m \u001b[32m━━━━━━━━━━━━━━━━━━━━\u001b[0m\u001b[37m\u001b[0m \u001b[1m0s\u001b[0m 2ms/step - loss: 0.0077 - val_loss: 0.0014\n",
            "Epoch 10/50\n",
            "\u001b[1m55/55\u001b[0m \u001b[32m━━━━━━━━━━━━━━━━━━━━\u001b[0m\u001b[37m\u001b[0m \u001b[1m0s\u001b[0m 2ms/step - loss: 0.0075 - val_loss: 0.0013\n",
            "Epoch 11/50\n",
            "\u001b[1m55/55\u001b[0m \u001b[32m━━━━━━━━━━━━━━━━━━━━\u001b[0m\u001b[37m\u001b[0m \u001b[1m0s\u001b[0m 2ms/step - loss: 0.0067 - val_loss: 0.0013\n",
            "Epoch 12/50\n",
            "\u001b[1m55/55\u001b[0m \u001b[32m━━━━━━━━━━━━━━━━━━━━\u001b[0m\u001b[37m\u001b[0m \u001b[1m0s\u001b[0m 4ms/step - loss: 0.0058 - val_loss: 0.0012\n",
            "Epoch 13/50\n",
            "\u001b[1m55/55\u001b[0m \u001b[32m━━━━━━━━━━━━━━━━━━━━\u001b[0m\u001b[37m\u001b[0m \u001b[1m0s\u001b[0m 2ms/step - loss: 0.0055 - val_loss: 0.0012\n",
            "Epoch 14/50\n",
            "\u001b[1m55/55\u001b[0m \u001b[32m━━━━━━━━━━━━━━━━━━━━\u001b[0m\u001b[37m\u001b[0m \u001b[1m0s\u001b[0m 3ms/step - loss: 0.0043 - val_loss: 0.0016\n",
            "Epoch 15/50\n",
            "\u001b[1m55/55\u001b[0m \u001b[32m━━━━━━━━━━━━━━━━━━━━\u001b[0m\u001b[37m\u001b[0m \u001b[1m0s\u001b[0m 2ms/step - loss: 0.0039 - val_loss: 0.0024\n",
            "Epoch 16/50\n",
            "\u001b[1m55/55\u001b[0m \u001b[32m━━━━━━━━━━━━━━━━━━━━\u001b[0m\u001b[37m\u001b[0m \u001b[1m0s\u001b[0m 2ms/step - loss: 0.0036 - val_loss: 0.0012\n",
            "Epoch 17/50\n",
            "\u001b[1m55/55\u001b[0m \u001b[32m━━━━━━━━━━━━━━━━━━━━\u001b[0m\u001b[37m\u001b[0m \u001b[1m0s\u001b[0m 2ms/step - loss: 0.0037 - val_loss: 0.0012\n",
            "Epoch 18/50\n",
            "\u001b[1m55/55\u001b[0m \u001b[32m━━━━━━━━━━━━━━━━━━━━\u001b[0m\u001b[37m\u001b[0m \u001b[1m0s\u001b[0m 2ms/step - loss: 0.0031 - val_loss: 0.0013\n",
            "Epoch 19/50\n",
            "\u001b[1m55/55\u001b[0m \u001b[32m━━━━━━━━━━━━━━━━━━━━\u001b[0m\u001b[37m\u001b[0m \u001b[1m0s\u001b[0m 2ms/step - loss: 0.0027 - val_loss: 0.0021\n",
            "Epoch 20/50\n",
            "\u001b[1m55/55\u001b[0m \u001b[32m━━━━━━━━━━━━━━━━━━━━\u001b[0m\u001b[37m\u001b[0m \u001b[1m0s\u001b[0m 3ms/step - loss: 0.0030 - val_loss: 0.0010\n",
            "Epoch 21/50\n",
            "\u001b[1m55/55\u001b[0m \u001b[32m━━━━━━━━━━━━━━━━━━━━\u001b[0m\u001b[37m\u001b[0m \u001b[1m0s\u001b[0m 2ms/step - loss: 0.0024 - val_loss: 0.0011\n",
            "Epoch 22/50\n",
            "\u001b[1m55/55\u001b[0m \u001b[32m━━━━━━━━━━━━━━━━━━━━\u001b[0m\u001b[37m\u001b[0m \u001b[1m0s\u001b[0m 3ms/step - loss: 0.0023 - val_loss: 9.9896e-04\n",
            "Epoch 23/50\n",
            "\u001b[1m55/55\u001b[0m \u001b[32m━━━━━━━━━━━━━━━━━━━━\u001b[0m\u001b[37m\u001b[0m \u001b[1m0s\u001b[0m 3ms/step - loss: 0.0025 - val_loss: 0.0011\n",
            "Epoch 24/50\n",
            "\u001b[1m55/55\u001b[0m \u001b[32m━━━━━━━━━━━━━━━━━━━━\u001b[0m\u001b[37m\u001b[0m \u001b[1m0s\u001b[0m 3ms/step - loss: 0.0021 - val_loss: 9.8818e-04\n",
            "Epoch 25/50\n",
            "\u001b[1m55/55\u001b[0m \u001b[32m━━━━━━━━━━━━━━━━━━━━\u001b[0m\u001b[37m\u001b[0m \u001b[1m0s\u001b[0m 3ms/step - loss: 0.0022 - val_loss: 9.8332e-04\n",
            "Epoch 26/50\n",
            "\u001b[1m55/55\u001b[0m \u001b[32m━━━━━━━━━━━━━━━━━━━━\u001b[0m\u001b[37m\u001b[0m \u001b[1m0s\u001b[0m 2ms/step - loss: 0.0022 - val_loss: 9.9729e-04\n",
            "Epoch 27/50\n",
            "\u001b[1m55/55\u001b[0m \u001b[32m━━━━━━━━━━━━━━━━━━━━\u001b[0m\u001b[37m\u001b[0m \u001b[1m0s\u001b[0m 3ms/step - loss: 0.0019 - val_loss: 9.9870e-04\n",
            "Epoch 28/50\n",
            "\u001b[1m55/55\u001b[0m \u001b[32m━━━━━━━━━━━━━━━━━━━━\u001b[0m\u001b[37m\u001b[0m \u001b[1m0s\u001b[0m 5ms/step - loss: 0.0019 - val_loss: 0.0012\n",
            "Epoch 29/50\n",
            "\u001b[1m55/55\u001b[0m \u001b[32m━━━━━━━━━━━━━━━━━━━━\u001b[0m\u001b[37m\u001b[0m \u001b[1m0s\u001b[0m 4ms/step - loss: 0.0019 - val_loss: 0.0013\n",
            "Epoch 30/50\n",
            "\u001b[1m55/55\u001b[0m \u001b[32m━━━━━━━━━━━━━━━━━━━━\u001b[0m\u001b[37m\u001b[0m \u001b[1m0s\u001b[0m 3ms/step - loss: 0.0026 - val_loss: 0.0010\n",
            "Epoch 31/50\n",
            "\u001b[1m55/55\u001b[0m \u001b[32m━━━━━━━━━━━━━━━━━━━━\u001b[0m\u001b[37m\u001b[0m \u001b[1m0s\u001b[0m 4ms/step - loss: 0.0020 - val_loss: 0.0012\n",
            "Epoch 32/50\n",
            "\u001b[1m55/55\u001b[0m \u001b[32m━━━━━━━━━━━━━━━━━━━━\u001b[0m\u001b[37m\u001b[0m \u001b[1m0s\u001b[0m 4ms/step - loss: 0.0023 - val_loss: 0.0010\n",
            "Epoch 33/50\n",
            "\u001b[1m55/55\u001b[0m \u001b[32m━━━━━━━━━━━━━━━━━━━━\u001b[0m\u001b[37m\u001b[0m \u001b[1m0s\u001b[0m 3ms/step - loss: 0.0021 - val_loss: 0.0010\n",
            "Epoch 34/50\n",
            "\u001b[1m55/55\u001b[0m \u001b[32m━━━━━━━━━━━━━━━━━━━━\u001b[0m\u001b[37m\u001b[0m \u001b[1m0s\u001b[0m 4ms/step - loss: 0.0020 - val_loss: 0.0010\n",
            "Epoch 35/50\n",
            "\u001b[1m55/55\u001b[0m \u001b[32m━━━━━━━━━━━━━━━━━━━━\u001b[0m\u001b[37m\u001b[0m \u001b[1m0s\u001b[0m 3ms/step - loss: 0.0022 - val_loss: 0.0010\n",
            "Epoch 36/50\n",
            "\u001b[1m55/55\u001b[0m \u001b[32m━━━━━━━━━━━━━━━━━━━━\u001b[0m\u001b[37m\u001b[0m \u001b[1m0s\u001b[0m 6ms/step - loss: 0.0018 - val_loss: 0.0010\n",
            "Epoch 37/50\n",
            "\u001b[1m55/55\u001b[0m \u001b[32m━━━━━━━━━━━━━━━━━━━━\u001b[0m\u001b[37m\u001b[0m \u001b[1m0s\u001b[0m 6ms/step - loss: 0.0019 - val_loss: 0.0010\n",
            "Epoch 38/50\n",
            "\u001b[1m55/55\u001b[0m \u001b[32m━━━━━━━━━━━━━━━━━━━━\u001b[0m\u001b[37m\u001b[0m \u001b[1m0s\u001b[0m 6ms/step - loss: 0.0019 - val_loss: 0.0010\n",
            "Epoch 39/50\n",
            "\u001b[1m55/55\u001b[0m \u001b[32m━━━━━━━━━━━━━━━━━━━━\u001b[0m\u001b[37m\u001b[0m \u001b[1m0s\u001b[0m 6ms/step - loss: 0.0023 - val_loss: 0.0013\n",
            "Epoch 40/50\n",
            "\u001b[1m55/55\u001b[0m \u001b[32m━━━━━━━━━━━━━━━━━━━━\u001b[0m\u001b[37m\u001b[0m \u001b[1m0s\u001b[0m 5ms/step - loss: 0.0020 - val_loss: 0.0011\n",
            "Epoch 41/50\n",
            "\u001b[1m55/55\u001b[0m \u001b[32m━━━━━━━━━━━━━━━━━━━━\u001b[0m\u001b[37m\u001b[0m \u001b[1m0s\u001b[0m 4ms/step - loss: 0.0017 - val_loss: 0.0011\n",
            "Epoch 42/50\n",
            "\u001b[1m55/55\u001b[0m \u001b[32m━━━━━━━━━━━━━━━━━━━━\u001b[0m\u001b[37m\u001b[0m \u001b[1m0s\u001b[0m 5ms/step - loss: 0.0019 - val_loss: 0.0013\n",
            "Epoch 43/50\n",
            "\u001b[1m55/55\u001b[0m \u001b[32m━━━━━━━━━━━━━━━━━━━━\u001b[0m\u001b[37m\u001b[0m \u001b[1m0s\u001b[0m 5ms/step - loss: 0.0019 - val_loss: 0.0016\n",
            "Epoch 44/50\n",
            "\u001b[1m55/55\u001b[0m \u001b[32m━━━━━━━━━━━━━━━━━━━━\u001b[0m\u001b[37m\u001b[0m \u001b[1m0s\u001b[0m 4ms/step - loss: 0.0019 - val_loss: 0.0012\n",
            "Epoch 45/50\n",
            "\u001b[1m55/55\u001b[0m \u001b[32m━━━━━━━━━━━━━━━━━━━━\u001b[0m\u001b[37m\u001b[0m \u001b[1m0s\u001b[0m 4ms/step - loss: 0.0019 - val_loss: 0.0011\n",
            "Epoch 46/50\n",
            "\u001b[1m55/55\u001b[0m \u001b[32m━━━━━━━━━━━━━━━━━━━━\u001b[0m\u001b[37m\u001b[0m \u001b[1m0s\u001b[0m 4ms/step - loss: 0.0019 - val_loss: 0.0010\n",
            "Epoch 47/50\n",
            "\u001b[1m55/55\u001b[0m \u001b[32m━━━━━━━━━━━━━━━━━━━━\u001b[0m\u001b[37m\u001b[0m \u001b[1m0s\u001b[0m 3ms/step - loss: 0.0020 - val_loss: 0.0011\n",
            "Epoch 48/50\n",
            "\u001b[1m55/55\u001b[0m \u001b[32m━━━━━━━━━━━━━━━━━━━━\u001b[0m\u001b[37m\u001b[0m \u001b[1m0s\u001b[0m 4ms/step - loss: 0.0019 - val_loss: 0.0010\n",
            "Epoch 49/50\n",
            "\u001b[1m55/55\u001b[0m \u001b[32m━━━━━━━━━━━━━━━━━━━━\u001b[0m\u001b[37m\u001b[0m \u001b[1m0s\u001b[0m 2ms/step - loss: 0.0020 - val_loss: 0.0011\n",
            "Epoch 50/50\n",
            "\u001b[1m55/55\u001b[0m \u001b[32m━━━━━━━━━━━━━━━━━━━━\u001b[0m\u001b[37m\u001b[0m \u001b[1m0s\u001b[0m 2ms/step - loss: 0.0022 - val_loss: 0.0014\n"
          ]
        },
        {
          "data": {
            "image/png": "[encoded data removed]",
            "text/plain": [
              "<Figure size 640x480 with 1 Axes>"
            ]
          },
          "metadata": {},
          "output_type": "display_data"
        },
        {
          "name": "stdout",
          "output_type": "stream",
          "text": [
            "WARNING:tensorflow:5 out of the last 13 calls to <function TensorFlowTrainer.make_predict_function.<locals>.one_step_on_data_distributed at 0x000001E03D6684A0> triggered tf.function retracing. Tracing is expensive and the excessive number of tracings could be due to (1) creating @tf.function repeatedly in a loop, (2) passing tensors with different shapes, (3) passing Python objects instead of tensors. For (1), please define your @tf.function outside of the loop. For (2), @tf.function has reduce_retracing=True option that can avoid unnecessary retracing. For (3), please refer to https://www.tensorflow.org/guide/function#controlling_retracing and https://www.tensorflow.org/api_docs/python/tf/function for  more details.\n",
            "\u001b[1m6/6\u001b[0m \u001b[32m━━━━━━━━━━━━━━━━━━━━\u001b[0m\u001b[37m\u001b[0m \u001b[1m1s\u001b[0m 51ms/step\n",
            "Accuracy: 68.12%\n",
            "Mean Squared Error (MSE): 214.13\n",
            "Root Mean Squared Error (RMSE): 14.63\n"
          ]
        },
        {
          "data": {
            "image/png": "[encoded data removed]",
            "text/plain": [
              "<Figure size 1000x500 with 1 Axes>"
            ]
          },
          "metadata": {},
          "output_type": "display_data"
        },
        {
          "name": "stdout",
          "output_type": "stream",
          "text": [
            "Processing dataset: KDC\n",
            "Epoch 1/50\n",
            "\u001b[1m55/55\u001b[0m \u001b[32m━━━━━━━━━━━━━━━━━━━━\u001b[0m\u001b[37m\u001b[0m \u001b[1m4s\u001b[0m 12ms/step - loss: 0.3408 - val_loss: 0.0078\n",
            "Epoch 2/50\n",
            "\u001b[1m55/55\u001b[0m \u001b[32m━━━━━━━━━━━━━━━━━━━━\u001b[0m\u001b[37m\u001b[0m \u001b[1m0s\u001b[0m 3ms/step - loss: 0.0382 - val_loss: 0.0046\n",
            "Epoch 3/50\n",
            "\u001b[1m55/55\u001b[0m \u001b[32m━━━━━━━━━━━━━━━━━━━━\u001b[0m\u001b[37m\u001b[0m \u001b[1m0s\u001b[0m 3ms/step - loss: 0.0174 - val_loss: 0.0141\n",
            "Epoch 4/50\n",
            "\u001b[1m55/55\u001b[0m \u001b[32m━━━━━━━━━━━━━━━━━━━━\u001b[0m\u001b[37m\u001b[0m \u001b[1m0s\u001b[0m 3ms/step - loss: 0.0108 - val_loss: 0.0248\n",
            "Epoch 5/50\n",
            "\u001b[1m55/55\u001b[0m \u001b[32m━━━━━━━━━━━━━━━━━━━━\u001b[0m\u001b[37m\u001b[0m \u001b[1m0s\u001b[0m 3ms/step - loss: 0.0094 - val_loss: 0.0185\n",
            "Epoch 6/50\n",
            "\u001b[1m55/55\u001b[0m \u001b[32m━━━━━━━━━━━━━━━━━━━━\u001b[0m\u001b[37m\u001b[0m \u001b[1m0s\u001b[0m 3ms/step - loss: 0.0082 - val_loss: 0.0204\n",
            "Epoch 7/50\n",
            "\u001b[1m55/55\u001b[0m \u001b[32m━━━━━━━━━━━━━━━━━━━━\u001b[0m\u001b[37m\u001b[0m \u001b[1m0s\u001b[0m 3ms/step - loss: 0.0085 - val_loss: 0.0158\n",
            "Epoch 8/50\n",
            "\u001b[1m55/55\u001b[0m \u001b[32m━━━━━━━━━━━━━━━━━━━━\u001b[0m\u001b[37m\u001b[0m \u001b[1m0s\u001b[0m 3ms/step - loss: 0.0079 - val_loss: 0.0124\n",
            "Epoch 9/50\n",
            "\u001b[1m55/55\u001b[0m \u001b[32m━━━━━━━━━━━━━━━━━━━━\u001b[0m\u001b[37m\u001b[0m \u001b[1m0s\u001b[0m 3ms/step - loss: 0.0075 - val_loss: 0.0144\n",
            "Epoch 10/50\n",
            "\u001b[1m55/55\u001b[0m \u001b[32m━━━━━━━━━━━━━━━━━━━━\u001b[0m\u001b[37m\u001b[0m \u001b[1m0s\u001b[0m 3ms/step - loss: 0.0068 - val_loss: 0.0146\n",
            "Epoch 11/50\n",
            "\u001b[1m55/55\u001b[0m \u001b[32m━━━━━━━━━━━━━━━━━━━━\u001b[0m\u001b[37m\u001b[0m \u001b[1m0s\u001b[0m 3ms/step - loss: 0.0060 - val_loss: 0.0078\n",
            "Epoch 12/50\n",
            "\u001b[1m55/55\u001b[0m \u001b[32m━━━━━━━━━━━━━━━━━━━━\u001b[0m\u001b[37m\u001b[0m \u001b[1m0s\u001b[0m 3ms/step - loss: 0.0063 - val_loss: 0.0091\n",
            "Epoch 13/50\n",
            "\u001b[1m55/55\u001b[0m \u001b[32m━━━━━━━━━━━━━━━━━━━━\u001b[0m\u001b[37m\u001b[0m \u001b[1m0s\u001b[0m 3ms/step - loss: 0.0059 - val_loss: 0.0063\n",
            "Epoch 14/50\n",
            "\u001b[1m55/55\u001b[0m \u001b[32m━━━━━━━━━━━━━━━━━━━━\u001b[0m\u001b[37m\u001b[0m \u001b[1m0s\u001b[0m 2ms/step - loss: 0.0056 - val_loss: 0.0046\n",
            "Epoch 15/50\n",
            "\u001b[1m55/55\u001b[0m \u001b[32m━━━━━━━━━━━━━━━━━━━━\u001b[0m\u001b[37m\u001b[0m \u001b[1m0s\u001b[0m 3ms/step - loss: 0.0053 - val_loss: 0.0045\n",
            "Epoch 16/50\n",
            "\u001b[1m55/55\u001b[0m \u001b[32m━━━━━━━━━━━━━━━━━━━━\u001b[0m\u001b[37m\u001b[0m \u001b[1m0s\u001b[0m 3ms/step - loss: 0.0054 - val_loss: 0.0027\n",
            "Epoch 17/50\n",
            "\u001b[1m55/55\u001b[0m \u001b[32m━━━━━━━━━━━━━━━━━━━━\u001b[0m\u001b[37m\u001b[0m \u001b[1m0s\u001b[0m 3ms/step - loss: 0.0054 - val_loss: 0.0021\n",
            "Epoch 18/50\n",
            "\u001b[1m55/55\u001b[0m \u001b[32m━━━━━━━━━━━━━━━━━━━━\u001b[0m\u001b[37m\u001b[0m \u001b[1m0s\u001b[0m 2ms/step - loss: 0.0050 - val_loss: 0.0013\n",
            "Epoch 19/50\n",
            "\u001b[1m55/55\u001b[0m \u001b[32m━━━━━━━━━━━━━━━━━━━━\u001b[0m\u001b[37m\u001b[0m \u001b[1m0s\u001b[0m 2ms/step - loss: 0.0053 - val_loss: 9.8709e-04\n",
            "Epoch 20/50\n",
            "\u001b[1m55/55\u001b[0m \u001b[32m━━━━━━━━━━━━━━━━━━━━\u001b[0m\u001b[37m\u001b[0m \u001b[1m0s\u001b[0m 2ms/step - loss: 0.0050 - val_loss: 8.7565e-04\n",
            "Epoch 21/50\n",
            "\u001b[1m55/55\u001b[0m \u001b[32m━━━━━━━━━━━━━━━━━━━━\u001b[0m\u001b[37m\u001b[0m \u001b[1m0s\u001b[0m 2ms/step - loss: 0.0047 - val_loss: 9.9122e-04\n",
            "Epoch 22/50\n",
            "\u001b[1m55/55\u001b[0m \u001b[32m━━━━━━━━━━━━━━━━━━━━\u001b[0m\u001b[37m\u001b[0m \u001b[1m0s\u001b[0m 2ms/step - loss: 0.0050 - val_loss: 9.2443e-04\n",
            "Epoch 23/50\n",
            "\u001b[1m55/55\u001b[0m \u001b[32m━━━━━━━━━━━━━━━━━━━━\u001b[0m\u001b[37m\u001b[0m \u001b[1m0s\u001b[0m 4ms/step - loss: 0.0047 - val_loss: 8.9159e-04\n",
            "Epoch 24/50\n",
            "\u001b[1m55/55\u001b[0m \u001b[32m━━━━━━━━━━━━━━━━━━━━\u001b[0m\u001b[37m\u001b[0m \u001b[1m0s\u001b[0m 3ms/step - loss: 0.0049 - val_loss: 0.0011\n",
            "Epoch 25/50\n",
            "\u001b[1m55/55\u001b[0m \u001b[32m━━━━━━━━━━━━━━━━━━━━\u001b[0m\u001b[37m\u001b[0m \u001b[1m0s\u001b[0m 3ms/step - loss: 0.0046 - val_loss: 8.3655e-04\n",
            "Epoch 26/50\n",
            "\u001b[1m55/55\u001b[0m \u001b[32m━━━━━━━━━━━━━━━━━━━━\u001b[0m\u001b[37m\u001b[0m \u001b[1m0s\u001b[0m 3ms/step - loss: 0.0048 - val_loss: 8.1219e-04\n",
            "Epoch 27/50\n",
            "\u001b[1m55/55\u001b[0m \u001b[32m━━━━━━━━━━━━━━━━━━━━\u001b[0m\u001b[37m\u001b[0m \u001b[1m0s\u001b[0m 3ms/step - loss: 0.0047 - val_loss: 9.7636e-04\n",
            "Epoch 28/50\n",
            "\u001b[1m55/55\u001b[0m \u001b[32m━━━━━━━━━━━━━━━━━━━━\u001b[0m\u001b[37m\u001b[0m \u001b[1m0s\u001b[0m 3ms/step - loss: 0.0048 - val_loss: 0.0045\n",
            "Epoch 29/50\n",
            "\u001b[1m55/55\u001b[0m \u001b[32m━━━━━━━━━━━━━━━━━━━━\u001b[0m\u001b[37m\u001b[0m \u001b[1m0s\u001b[0m 2ms/step - loss: 0.0050 - val_loss: 7.7456e-04\n",
            "Epoch 30/50\n",
            "\u001b[1m55/55\u001b[0m \u001b[32m━━━━━━━━━━━━━━━━━━━━\u001b[0m\u001b[37m\u001b[0m \u001b[1m0s\u001b[0m 3ms/step - loss: 0.0045 - val_loss: 7.8488e-04\n",
            "Epoch 31/50\n",
            "\u001b[1m55/55\u001b[0m \u001b[32m━━━━━━━━━━━━━━━━━━━━\u001b[0m\u001b[37m\u001b[0m \u001b[1m0s\u001b[0m 3ms/step - loss: 0.0043 - val_loss: 0.0013\n",
            "Epoch 32/50\n",
            "\u001b[1m55/55\u001b[0m \u001b[32m━━━━━━━━━━━━━━━━━━━━\u001b[0m\u001b[37m\u001b[0m \u001b[1m0s\u001b[0m 4ms/step - loss: 0.0043 - val_loss: 0.0014\n",
            "Epoch 33/50\n",
            "\u001b[1m55/55\u001b[0m \u001b[32m━━━━━━━━━━━━━━━━━━━━\u001b[0m\u001b[37m\u001b[0m \u001b[1m0s\u001b[0m 3ms/step - loss: 0.0044 - val_loss: 0.0023\n",
            "Epoch 34/50\n",
            "\u001b[1m55/55\u001b[0m \u001b[32m━━━━━━━━━━━━━━━━━━━━\u001b[0m\u001b[37m\u001b[0m \u001b[1m0s\u001b[0m 2ms/step - loss: 0.0045 - val_loss: 0.0016\n",
            "Epoch 35/50\n",
            "\u001b[1m55/55\u001b[0m \u001b[32m━━━━━━━━━━━━━━━━━━━━\u001b[0m\u001b[37m\u001b[0m \u001b[1m0s\u001b[0m 2ms/step - loss: 0.0042 - val_loss: 0.0020\n",
            "Epoch 36/50\n",
            "\u001b[1m55/55\u001b[0m \u001b[32m━━━━━━━━━━━━━━━━━━━━\u001b[0m\u001b[37m\u001b[0m \u001b[1m0s\u001b[0m 3ms/step - loss: 0.0041 - val_loss: 7.6555e-04\n",
            "Epoch 37/50\n",
            "\u001b[1m55/55\u001b[0m \u001b[32m━━━━━━━━━━━━━━━━━━━━\u001b[0m\u001b[37m\u001b[0m \u001b[1m0s\u001b[0m 3ms/step - loss: 0.0044 - val_loss: 0.0013\n",
            "Epoch 38/50\n",
            "\u001b[1m55/55\u001b[0m \u001b[32m━━━━━━━━━━━━━━━━━━━━\u001b[0m\u001b[37m\u001b[0m \u001b[1m0s\u001b[0m 3ms/step - loss: 0.0040 - val_loss: 0.0011\n",
            "Epoch 39/50\n",
            "\u001b[1m55/55\u001b[0m \u001b[32m━━━━━━━━━━━━━━━━━━━━\u001b[0m\u001b[37m\u001b[0m \u001b[1m0s\u001b[0m 3ms/step - loss: 0.0041 - val_loss: 8.4049e-04\n",
            "Epoch 40/50\n",
            "\u001b[1m55/55\u001b[0m \u001b[32m━━━━━━━━━━━━━━━━━━━━\u001b[0m\u001b[37m\u001b[0m \u001b[1m0s\u001b[0m 3ms/step - loss: 0.0042 - val_loss: 7.6353e-04\n",
            "Epoch 41/50\n",
            "\u001b[1m55/55\u001b[0m \u001b[32m━━━━━━━━━━━━━━━━━━━━\u001b[0m\u001b[37m\u001b[0m \u001b[1m0s\u001b[0m 2ms/step - loss: 0.0041 - val_loss: 6.9206e-04\n",
            "Epoch 42/50\n",
            "\u001b[1m55/55\u001b[0m \u001b[32m━━━━━━━━━━━━━━━━━━━━\u001b[0m\u001b[37m\u001b[0m \u001b[1m0s\u001b[0m 2ms/step - loss: 0.0042 - val_loss: 0.0010\n",
            "Epoch 43/50\n",
            "\u001b[1m55/55\u001b[0m \u001b[32m━━━━━━━━━━━━━━━━━━━━\u001b[0m\u001b[37m\u001b[0m \u001b[1m0s\u001b[0m 2ms/step - loss: 0.0041 - val_loss: 0.0012\n",
            "Epoch 44/50\n",
            "\u001b[1m55/55\u001b[0m \u001b[32m━━━━━━━━━━━━━━━━━━━━\u001b[0m\u001b[37m\u001b[0m \u001b[1m0s\u001b[0m 3ms/step - loss: 0.0038 - val_loss: 9.1315e-04\n",
            "Epoch 45/50\n",
            "\u001b[1m55/55\u001b[0m \u001b[32m━━━━━━━━━━━━━━━━━━━━\u001b[0m\u001b[37m\u001b[0m \u001b[1m0s\u001b[0m 3ms/step - loss: 0.0039 - val_loss: 0.0022\n",
            "Epoch 46/50\n",
            "\u001b[1m55/55\u001b[0m \u001b[32m━━━━━━━━━━━━━━━━━━━━\u001b[0m\u001b[37m\u001b[0m \u001b[1m0s\u001b[0m 3ms/step - loss: 0.0042 - val_loss: 0.0011\n",
            "Epoch 47/50\n",
            "\u001b[1m55/55\u001b[0m \u001b[32m━━━━━━━━━━━━━━━━━━━━\u001b[0m\u001b[37m\u001b[0m \u001b[1m0s\u001b[0m 2ms/step - loss: 0.0039 - val_loss: 8.8664e-04\n",
            "Epoch 48/50\n",
            "\u001b[1m55/55\u001b[0m \u001b[32m━━━━━━━━━━━━━━━━━━━━\u001b[0m\u001b[37m\u001b[0m \u001b[1m0s\u001b[0m 3ms/step - loss: 0.0041 - val_loss: 8.4704e-04\n",
            "Epoch 49/50\n",
            "\u001b[1m55/55\u001b[0m \u001b[32m━━━━━━━━━━━━━━━━━━━━\u001b[0m\u001b[37m\u001b[0m \u001b[1m0s\u001b[0m 5ms/step - loss: 0.0040 - val_loss: 0.0015\n",
            "Epoch 50/50\n",
            "\u001b[1m55/55\u001b[0m \u001b[32m━━━━━━━━━━━━━━━━━━━━\u001b[0m\u001b[37m\u001b[0m \u001b[1m0s\u001b[0m 4ms/step - loss: 0.0043 - val_loss: 0.0012\n"
          ]
        },
        {
          "data": {
            "image/png": "[encoded data removed]",
            "text/plain": [
              "<Figure size 640x480 with 1 Axes>"
            ]
          },
          "metadata": {},
          "output_type": "display_data"
        },
        {
          "name": "stdout",
          "output_type": "stream",
          "text": [
            "WARNING:tensorflow:5 out of the last 13 calls to <function TensorFlowTrainer.make_predict_function.<locals>.one_step_on_data_distributed at 0x000001E041F3FA60> triggered tf.function retracing. Tracing is expensive and the excessive number of tracings could be due to (1) creating @tf.function repeatedly in a loop, (2) passing tensors with different shapes, (3) passing Python objects instead of tensors. For (1), please define your @tf.function outside of the loop. For (2), @tf.function has reduce_retracing=True option that can avoid unnecessary retracing. For (3), please refer to https://www.tensorflow.org/guide/function#controlling_retracing and https://www.tensorflow.org/api_docs/python/tf/function for  more details.\n",
            "\u001b[1m6/6\u001b[0m \u001b[32m━━━━━━━━━━━━━━━━━━━━\u001b[0m\u001b[37m\u001b[0m \u001b[1m1s\u001b[0m 72ms/step\n",
            "Accuracy: 86.97%\n",
            "Mean Squared Error (MSE): 48.22\n",
            "Root Mean Squared Error (RMSE): 6.94\n"
          ]
        },
        {
          "data": {
            "image/png": "[encoded data removed]",
            "text/plain": [
              "<Figure size 1000x500 with 1 Axes>"
            ]
          },
          "metadata": {},
          "output_type": "display_data"
        },
        {
          "name": "stdout",
          "output_type": "stream",
          "text": [
            "Processing dataset: NAF\n",
            "Epoch 1/50\n",
            "\u001b[1m55/55\u001b[0m \u001b[32m━━━━━━━━━━━━━━━━━━━━\u001b[0m\u001b[37m\u001b[0m \u001b[1m4s\u001b[0m 8ms/step - loss: 0.1999 - val_loss: 0.0153\n",
            "Epoch 2/50\n",
            "\u001b[1m55/55\u001b[0m \u001b[32m━━━━━━━━━━━━━━━━━━━━\u001b[0m\u001b[37m\u001b[0m \u001b[1m0s\u001b[0m 3ms/step - loss: 0.0396 - val_loss: 0.0058\n",
            "Epoch 3/50\n",
            "\u001b[1m55/55\u001b[0m \u001b[32m━━━━━━━━━━━━━━━━━━━━\u001b[0m\u001b[37m\u001b[0m \u001b[1m0s\u001b[0m 2ms/step - loss: 0.0209 - val_loss: 0.0182\n",
            "Epoch 4/50\n",
            "\u001b[1m55/55\u001b[0m \u001b[32m━━━━━━━━━━━━━━━━━━━━\u001b[0m\u001b[37m\u001b[0m \u001b[1m0s\u001b[0m 2ms/step - loss: 0.0186 - val_loss: 0.0416\n",
            "Epoch 5/50\n",
            "\u001b[1m55/55\u001b[0m \u001b[32m━━━━━━━━━━━━━━━━━━━━\u001b[0m\u001b[37m\u001b[0m \u001b[1m0s\u001b[0m 2ms/step - loss: 0.0174 - val_loss: 0.0472\n",
            "Epoch 6/50\n",
            "\u001b[1m55/55\u001b[0m \u001b[32m━━━━━━━━━━━━━━━━━━━━\u001b[0m\u001b[37m\u001b[0m \u001b[1m0s\u001b[0m 2ms/step - loss: 0.0152 - val_loss: 0.0689\n",
            "Epoch 7/50\n",
            "\u001b[1m55/55\u001b[0m \u001b[32m━━━━━━━━━━━━━━━━━━━━\u001b[0m\u001b[37m\u001b[0m \u001b[1m0s\u001b[0m 3ms/step - loss: 0.0136 - val_loss: 0.0724\n",
            "Epoch 8/50\n",
            "\u001b[1m55/55\u001b[0m \u001b[32m━━━━━━━━━━━━━━━━━━━━\u001b[0m\u001b[37m\u001b[0m \u001b[1m0s\u001b[0m 2ms/step - loss: 0.0138 - val_loss: 0.0797\n",
            "Epoch 9/50\n",
            "\u001b[1m55/55\u001b[0m \u001b[32m━━━━━━━━━━━━━━━━━━━━\u001b[0m\u001b[37m\u001b[0m \u001b[1m0s\u001b[0m 2ms/step - loss: 0.0125 - val_loss: 0.0784\n",
            "Epoch 10/50\n",
            "\u001b[1m55/55\u001b[0m \u001b[32m━━━━━━━━━━━━━━━━━━━━\u001b[0m\u001b[37m\u001b[0m \u001b[1m0s\u001b[0m 3ms/step - loss: 0.0118 - val_loss: 0.0828\n",
            "Epoch 11/50\n",
            "\u001b[1m55/55\u001b[0m \u001b[32m━━━━━━━━━━━━━━━━━━━━\u001b[0m\u001b[37m\u001b[0m \u001b[1m0s\u001b[0m 3ms/step - loss: 0.0116 - val_loss: 0.0923\n",
            "Epoch 12/50\n",
            "\u001b[1m55/55\u001b[0m \u001b[32m━━━━━━━━━━━━━━━━━━━━\u001b[0m\u001b[37m\u001b[0m \u001b[1m0s\u001b[0m 4ms/step - loss: 0.0111 - val_loss: 0.0855\n",
            "Epoch 13/50\n",
            "\u001b[1m55/55\u001b[0m \u001b[32m━━━━━━━━━━━━━━━━━━━━\u001b[0m\u001b[37m\u001b[0m \u001b[1m0s\u001b[0m 3ms/step - loss: 0.0112 - val_loss: 0.0735\n",
            "Epoch 14/50\n",
            "\u001b[1m55/55\u001b[0m \u001b[32m━━━━━━━━━━━━━━━━━━━━\u001b[0m\u001b[37m\u001b[0m \u001b[1m0s\u001b[0m 3ms/step - loss: 0.0108 - val_loss: 0.0917\n",
            "Epoch 15/50\n",
            "\u001b[1m55/55\u001b[0m \u001b[32m━━━━━━━━━━━━━━━━━━━━\u001b[0m\u001b[37m\u001b[0m \u001b[1m0s\u001b[0m 3ms/step - loss: 0.0122 - val_loss: 0.0976\n",
            "Epoch 16/50\n",
            "\u001b[1m55/55\u001b[0m \u001b[32m━━━━━━━━━━━━━━━━━━━━\u001b[0m\u001b[37m\u001b[0m \u001b[1m0s\u001b[0m 3ms/step - loss: 0.0110 - val_loss: 0.0848\n",
            "Epoch 17/50\n",
            "\u001b[1m55/55\u001b[0m \u001b[32m━━━━━━━━━━━━━━━━━━━━\u001b[0m\u001b[37m\u001b[0m \u001b[1m0s\u001b[0m 2ms/step - loss: 0.0103 - val_loss: 0.0918\n",
            "Epoch 18/50\n",
            "\u001b[1m55/55\u001b[0m \u001b[32m━━━━━━━━━━━━━━━━━━━━\u001b[0m\u001b[37m\u001b[0m \u001b[1m0s\u001b[0m 2ms/step - loss: 0.0115 - val_loss: 0.0912\n",
            "Epoch 19/50\n",
            "\u001b[1m55/55\u001b[0m \u001b[32m━━━━━━━━━━━━━━━━━━━━\u001b[0m\u001b[37m\u001b[0m \u001b[1m0s\u001b[0m 2ms/step - loss: 0.0106 - val_loss: 0.0826\n",
            "Epoch 20/50\n",
            "\u001b[1m55/55\u001b[0m \u001b[32m━━━━━━━━━━━━━━━━━━━━\u001b[0m\u001b[37m\u001b[0m \u001b[1m0s\u001b[0m 2ms/step - loss: 0.0101 - val_loss: 0.0868\n",
            "Epoch 21/50\n",
            "\u001b[1m55/55\u001b[0m \u001b[32m━━━━━━━━━━━━━━━━━━━━\u001b[0m\u001b[37m\u001b[0m \u001b[1m0s\u001b[0m 2ms/step - loss: 0.0108 - val_loss: 0.0953\n",
            "Epoch 22/50\n",
            "\u001b[1m55/55\u001b[0m \u001b[32m━━━━━━━━━━━━━━━━━━━━\u001b[0m\u001b[37m\u001b[0m \u001b[1m0s\u001b[0m 2ms/step - loss: 0.0101 - val_loss: 0.0860\n",
            "Epoch 23/50\n",
            "\u001b[1m55/55\u001b[0m \u001b[32m━━━━━━━━━━━━━━━━━━━━\u001b[0m\u001b[37m\u001b[0m \u001b[1m0s\u001b[0m 2ms/step - loss: 0.0105 - val_loss: 0.0936\n",
            "Epoch 24/50\n",
            "\u001b[1m55/55\u001b[0m \u001b[32m━━━━━━━━━━━━━━━━━━━━\u001b[0m\u001b[37m\u001b[0m \u001b[1m0s\u001b[0m 3ms/step - loss: 0.0094 - val_loss: 0.1010\n",
            "Epoch 25/50\n",
            "\u001b[1m55/55\u001b[0m \u001b[32m━━━━━━━━━━━━━━━━━━━━\u001b[0m\u001b[37m\u001b[0m \u001b[1m0s\u001b[0m 2ms/step - loss: 0.0099 - val_loss: 0.0827\n",
            "Epoch 26/50\n",
            "\u001b[1m55/55\u001b[0m \u001b[32m━━━━━━━━━━━━━━━━━━━━\u001b[0m\u001b[37m\u001b[0m \u001b[1m0s\u001b[0m 3ms/step - loss: 0.0104 - val_loss: 0.0900\n",
            "Epoch 27/50\n",
            "\u001b[1m55/55\u001b[0m \u001b[32m━━━━━━━━━━━━━━━━━━━━\u001b[0m\u001b[37m\u001b[0m \u001b[1m0s\u001b[0m 2ms/step - loss: 0.0106 - val_loss: 0.0853\n",
            "Epoch 28/50\n",
            "\u001b[1m55/55\u001b[0m \u001b[32m━━━━━━━━━━━━━━━━━━━━\u001b[0m\u001b[37m\u001b[0m \u001b[1m0s\u001b[0m 2ms/step - loss: 0.0093 - val_loss: 0.0816\n",
            "Epoch 29/50\n",
            "\u001b[1m55/55\u001b[0m \u001b[32m━━━━━━━━━━━━━━━━━━━━\u001b[0m\u001b[37m\u001b[0m \u001b[1m0s\u001b[0m 2ms/step - loss: 0.0092 - val_loss: 0.0855\n",
            "Epoch 30/50\n",
            "\u001b[1m55/55\u001b[0m \u001b[32m━━━━━━━━━━━━━━━━━━━━\u001b[0m\u001b[37m\u001b[0m \u001b[1m0s\u001b[0m 3ms/step - loss: 0.0094 - val_loss: 0.0789\n",
            "Epoch 31/50\n",
            "\u001b[1m55/55\u001b[0m \u001b[32m━━━━━━━━━━━━━━━━━━━━\u001b[0m\u001b[37m\u001b[0m \u001b[1m0s\u001b[0m 3ms/step - loss: 0.0091 - val_loss: 0.0914\n",
            "Epoch 32/50\n",
            "\u001b[1m55/55\u001b[0m \u001b[32m━━━━━━━━━━━━━━━━━━━━\u001b[0m\u001b[37m\u001b[0m \u001b[1m0s\u001b[0m 2ms/step - loss: 0.0095 - val_loss: 0.0832\n",
            "Epoch 33/50\n",
            "\u001b[1m55/55\u001b[0m \u001b[32m━━━━━━━━━━━━━━━━━━━━\u001b[0m\u001b[37m\u001b[0m \u001b[1m0s\u001b[0m 4ms/step - loss: 0.0096 - val_loss: 0.0810\n",
            "Epoch 34/50\n",
            "\u001b[1m55/55\u001b[0m \u001b[32m━━━━━━━━━━━━━━━━━━━━\u001b[0m\u001b[37m\u001b[0m \u001b[1m0s\u001b[0m 3ms/step - loss: 0.0094 - val_loss: 0.0829\n",
            "Epoch 35/50\n",
            "\u001b[1m55/55\u001b[0m \u001b[32m━━━━━━━━━━━━━━━━━━━━\u001b[0m\u001b[37m\u001b[0m \u001b[1m0s\u001b[0m 3ms/step - loss: 0.0094 - val_loss: 0.0741\n",
            "Epoch 36/50\n",
            "\u001b[1m55/55\u001b[0m \u001b[32m━━━━━━━━━━━━━━━━━━━━\u001b[0m\u001b[37m\u001b[0m \u001b[1m0s\u001b[0m 3ms/step - loss: 0.0091 - val_loss: 0.0789\n",
            "Epoch 37/50\n",
            "\u001b[1m55/55\u001b[0m \u001b[32m━━━━━━━━━━━━━━━━━━━━\u001b[0m\u001b[37m\u001b[0m \u001b[1m0s\u001b[0m 2ms/step - loss: 0.0091 - val_loss: 0.0753\n",
            "Epoch 38/50\n",
            "\u001b[1m55/55\u001b[0m \u001b[32m━━━━━━━━━━━━━━━━━━━━\u001b[0m\u001b[37m\u001b[0m \u001b[1m0s\u001b[0m 3ms/step - loss: 0.0085 - val_loss: 0.0842\n",
            "Epoch 39/50\n",
            "\u001b[1m55/55\u001b[0m \u001b[32m━━━━━━━━━━━━━━━━━━━━\u001b[0m\u001b[37m\u001b[0m \u001b[1m0s\u001b[0m 2ms/step - loss: 0.0100 - val_loss: 0.0782\n",
            "Epoch 40/50\n",
            "\u001b[1m55/55\u001b[0m \u001b[32m━━━━━━━━━━━━━━━━━━━━\u001b[0m\u001b[37m\u001b[0m \u001b[1m0s\u001b[0m 2ms/step - loss: 0.0089 - val_loss: 0.0769\n",
            "Epoch 41/50\n",
            "\u001b[1m55/55\u001b[0m \u001b[32m━━━━━━━━━━━━━━━━━━━━\u001b[0m\u001b[37m\u001b[0m \u001b[1m0s\u001b[0m 2ms/step - loss: 0.0091 - val_loss: 0.0723\n",
            "Epoch 42/50\n",
            "\u001b[1m55/55\u001b[0m \u001b[32m━━━━━━━━━━━━━━━━━━━━\u001b[0m\u001b[37m\u001b[0m \u001b[1m0s\u001b[0m 2ms/step - loss: 0.0084 - val_loss: 0.0747\n",
            "Epoch 43/50\n",
            "\u001b[1m55/55\u001b[0m \u001b[32m━━━━━━━━━━━━━━━━━━━━\u001b[0m\u001b[37m\u001b[0m \u001b[1m0s\u001b[0m 2ms/step - loss: 0.0097 - val_loss: 0.0667\n",
            "Epoch 44/50\n",
            "\u001b[1m55/55\u001b[0m \u001b[32m━━━━━━━━━━━━━━━━━━━━\u001b[0m\u001b[37m\u001b[0m \u001b[1m0s\u001b[0m 2ms/step - loss: 0.0092 - val_loss: 0.0803\n",
            "Epoch 45/50\n",
            "\u001b[1m55/55\u001b[0m \u001b[32m━━━━━━━━━━━━━━━━━━━━\u001b[0m\u001b[37m\u001b[0m \u001b[1m0s\u001b[0m 2ms/step - loss: 0.0097 - val_loss: 0.0773\n",
            "Epoch 46/50\n",
            "\u001b[1m55/55\u001b[0m \u001b[32m━━━━━━━━━━━━━━━━━━━━\u001b[0m\u001b[37m\u001b[0m \u001b[1m0s\u001b[0m 2ms/step - loss: 0.0084 - val_loss: 0.0727\n",
            "Epoch 47/50\n",
            "\u001b[1m55/55\u001b[0m \u001b[32m━━━━━━━━━━━━━━━━━━━━\u001b[0m\u001b[37m\u001b[0m \u001b[1m0s\u001b[0m 3ms/step - loss: 0.0081 - val_loss: 0.0799\n",
            "Epoch 48/50\n",
            "\u001b[1m55/55\u001b[0m \u001b[32m━━━━━━━━━━━━━━━━━━━━\u001b[0m\u001b[37m\u001b[0m \u001b[1m0s\u001b[0m 2ms/step - loss: 0.0083 - val_loss: 0.0674\n",
            "Epoch 49/50\n",
            "\u001b[1m55/55\u001b[0m \u001b[32m━━━━━━━━━━━━━━━━━━━━\u001b[0m\u001b[37m\u001b[0m \u001b[1m0s\u001b[0m 3ms/step - loss: 0.0081 - val_loss: 0.0716\n",
            "Epoch 50/50\n",
            "\u001b[1m55/55\u001b[0m \u001b[32m━━━━━━━━━━━━━━━━━━━━\u001b[0m\u001b[37m\u001b[0m \u001b[1m0s\u001b[0m 2ms/step - loss: 0.0091 - val_loss: 0.0756\n"
          ]
        },
        {
          "data": {
            "image/png": "[encoded data removed]",
            "text/plain": [
              "<Figure size 640x480 with 1 Axes>"
            ]
          },
          "metadata": {},
          "output_type": "display_data"
        },
        {
          "name": "stdout",
          "output_type": "stream",
          "text": [
            "\u001b[1m6/6\u001b[0m \u001b[32m━━━━━━━━━━━━━━━━━━━━\u001b[0m\u001b[37m\u001b[0m \u001b[1m1s\u001b[0m 81ms/step\n",
            "Accuracy: 25.48%\n",
            "Mean Squared Error (MSE): 230.91\n",
            "Root Mean Squared Error (RMSE): 15.20\n"
          ]
        },
        {
          "data": {
            "image/png": "[encoded data removed]",
            "text/plain": [
              "<Figure size 1000x500 with 1 Axes>"
            ]
          },
          "metadata": {},
          "output_type": "display_data"
        },
        {
          "name": "stdout",
          "output_type": "stream",
          "text": [
            "Processing dataset: PVT\n",
            "Epoch 1/50\n",
            "\u001b[1m55/55\u001b[0m \u001b[32m━━━━━━━━━━━━━━━━━━━━\u001b[0m\u001b[37m\u001b[0m \u001b[1m6s\u001b[0m 9ms/step - loss: 0.1507 - val_loss: 0.0302\n",
            "Epoch 2/50\n",
            "\u001b[1m55/55\u001b[0m \u001b[32m━━━━━━━━━━━━━━━━━━━━\u001b[0m\u001b[37m\u001b[0m \u001b[1m0s\u001b[0m 2ms/step - loss: 0.0302 - val_loss: 0.0246\n",
            "Epoch 3/50\n",
            "\u001b[1m55/55\u001b[0m \u001b[32m━━━━━━━━━━━━━━━━━━━━\u001b[0m\u001b[37m\u001b[0m \u001b[1m0s\u001b[0m 2ms/step - loss: 0.0179 - val_loss: 0.0027\n",
            "Epoch 4/50\n",
            "\u001b[1m55/55\u001b[0m \u001b[32m━━━━━━━━━━━━━━━━━━━━\u001b[0m\u001b[37m\u001b[0m \u001b[1m0s\u001b[0m 3ms/step - loss: 0.0127 - val_loss: 0.0024\n",
            "Epoch 5/50\n",
            "\u001b[1m55/55\u001b[0m \u001b[32m━━━━━━━━━━━━━━━━━━━━\u001b[0m\u001b[37m\u001b[0m \u001b[1m0s\u001b[0m 3ms/step - loss: 0.0108 - val_loss: 0.0029\n",
            "Epoch 6/50\n",
            "\u001b[1m55/55\u001b[0m \u001b[32m━━━━━━━━━━━━━━━━━━━━\u001b[0m\u001b[37m\u001b[0m \u001b[1m0s\u001b[0m 3ms/step - loss: 0.0112 - val_loss: 0.0052\n",
            "Epoch 7/50\n",
            "\u001b[1m55/55\u001b[0m \u001b[32m━━━━━━━━━━━━━━━━━━━━\u001b[0m\u001b[37m\u001b[0m \u001b[1m0s\u001b[0m 2ms/step - loss: 0.0112 - val_loss: 0.0022\n",
            "Epoch 8/50\n",
            "\u001b[1m55/55\u001b[0m \u001b[32m━━━━━━━━━━━━━━━━━━━━\u001b[0m\u001b[37m\u001b[0m \u001b[1m0s\u001b[0m 2ms/step - loss: 0.0105 - val_loss: 0.0023\n",
            "Epoch 9/50\n",
            "\u001b[1m55/55\u001b[0m \u001b[32m━━━━━━━━━━━━━━━━━━━━\u001b[0m\u001b[37m\u001b[0m \u001b[1m0s\u001b[0m 2ms/step - loss: 0.0099 - val_loss: 0.0019\n",
            "Epoch 10/50\n",
            "\u001b[1m55/55\u001b[0m \u001b[32m━━━━━━━━━━━━━━━━━━━━\u001b[0m\u001b[37m\u001b[0m \u001b[1m0s\u001b[0m 2ms/step - loss: 0.0101 - val_loss: 0.0088\n",
            "Epoch 11/50\n",
            "\u001b[1m55/55\u001b[0m \u001b[32m━━━━━━━━━━━━━━━━━━━━\u001b[0m\u001b[37m\u001b[0m \u001b[1m0s\u001b[0m 2ms/step - loss: 0.0110 - val_loss: 0.0037\n",
            "Epoch 12/50\n",
            "\u001b[1m55/55\u001b[0m \u001b[32m━━━━━━━━━━━━━━━━━━━━\u001b[0m\u001b[37m\u001b[0m \u001b[1m0s\u001b[0m 3ms/step - loss: 0.0099 - val_loss: 0.0036\n",
            "Epoch 13/50\n",
            "\u001b[1m55/55\u001b[0m \u001b[32m━━━━━━━━━━━━━━━━━━━━\u001b[0m\u001b[37m\u001b[0m \u001b[1m0s\u001b[0m 3ms/step - loss: 0.0094 - val_loss: 0.0055\n",
            "Epoch 14/50\n",
            "\u001b[1m55/55\u001b[0m \u001b[32m━━━━━━━━━━━━━━━━━━━━\u001b[0m\u001b[37m\u001b[0m \u001b[1m0s\u001b[0m 4ms/step - loss: 0.0092 - val_loss: 0.0057\n",
            "Epoch 15/50\n",
            "\u001b[1m55/55\u001b[0m \u001b[32m━━━━━━━━━━━━━━━━━━━━\u001b[0m\u001b[37m\u001b[0m \u001b[1m0s\u001b[0m 2ms/step - loss: 0.0088 - val_loss: 0.0129\n",
            "Epoch 16/50\n",
            "\u001b[1m55/55\u001b[0m \u001b[32m━━━━━━━━━━━━━━━━━━━━\u001b[0m\u001b[37m\u001b[0m \u001b[1m0s\u001b[0m 2ms/step - loss: 0.0087 - val_loss: 0.0046\n",
            "Epoch 17/50\n",
            "\u001b[1m55/55\u001b[0m \u001b[32m━━━━━━━━━━━━━━━━━━━━\u001b[0m\u001b[37m\u001b[0m \u001b[1m0s\u001b[0m 5ms/step - loss: 0.0079 - val_loss: 0.0128\n",
            "Epoch 18/50\n",
            "\u001b[1m55/55\u001b[0m \u001b[32m━━━━━━━━━━━━━━━━━━━━\u001b[0m\u001b[37m\u001b[0m \u001b[1m0s\u001b[0m 3ms/step - loss: 0.0075 - val_loss: 0.0126\n",
            "Epoch 19/50\n",
            "\u001b[1m55/55\u001b[0m \u001b[32m━━━━━━━━━━━━━━━━━━━━\u001b[0m\u001b[37m\u001b[0m \u001b[1m0s\u001b[0m 4ms/step - loss: 0.0073 - val_loss: 0.0140\n",
            "Epoch 20/50\n",
            "\u001b[1m55/55\u001b[0m \u001b[32m━━━━━━━━━━━━━━━━━━━━\u001b[0m\u001b[37m\u001b[0m \u001b[1m0s\u001b[0m 2ms/step - loss: 0.0075 - val_loss: 0.0142\n",
            "Epoch 21/50\n",
            "\u001b[1m55/55\u001b[0m \u001b[32m━━━━━━━━━━━━━━━━━━━━\u001b[0m\u001b[37m\u001b[0m \u001b[1m0s\u001b[0m 2ms/step - loss: 0.0062 - val_loss: 0.0120\n",
            "Epoch 22/50\n",
            "\u001b[1m55/55\u001b[0m \u001b[32m━━━━━━━━━━━━━━━━━━━━\u001b[0m\u001b[37m\u001b[0m \u001b[1m0s\u001b[0m 2ms/step - loss: 0.0062 - val_loss: 0.0182\n",
            "Epoch 23/50\n",
            "\u001b[1m55/55\u001b[0m \u001b[32m━━━━━━━━━━━━━━━━━━━━\u001b[0m\u001b[37m\u001b[0m \u001b[1m0s\u001b[0m 2ms/step - loss: 0.0059 - val_loss: 0.0360\n",
            "Epoch 24/50\n",
            "\u001b[1m55/55\u001b[0m \u001b[32m━━━━━━━━━━━━━━━━━━━━\u001b[0m\u001b[37m\u001b[0m \u001b[1m0s\u001b[0m 3ms/step - loss: 0.0056 - val_loss: 0.0322\n",
            "Epoch 25/50\n",
            "\u001b[1m55/55\u001b[0m \u001b[32m━━━━━━━━━━━━━━━━━━━━\u001b[0m\u001b[37m\u001b[0m \u001b[1m0s\u001b[0m 3ms/step - loss: 0.0052 - val_loss: 0.0303\n",
            "Epoch 26/50\n",
            "\u001b[1m55/55\u001b[0m \u001b[32m━━━━━━━━━━━━━━━━━━━━\u001b[0m\u001b[37m\u001b[0m \u001b[1m0s\u001b[0m 2ms/step - loss: 0.0054 - val_loss: 0.0354\n",
            "Epoch 27/50\n",
            "\u001b[1m55/55\u001b[0m \u001b[32m━━━━━━━━━━━━━━━━━━━━\u001b[0m\u001b[37m\u001b[0m \u001b[1m0s\u001b[0m 3ms/step - loss: 0.0051 - val_loss: 0.0427\n",
            "Epoch 28/50\n",
            "\u001b[1m55/55\u001b[0m \u001b[32m━━━━━━━━━━━━━━━━━━━━\u001b[0m\u001b[37m\u001b[0m \u001b[1m0s\u001b[0m 3ms/step - loss: 0.0050 - val_loss: 0.0439\n",
            "Epoch 29/50\n",
            "\u001b[1m55/55\u001b[0m \u001b[32m━━━━━━━━━━━━━━━━━━━━\u001b[0m\u001b[37m\u001b[0m \u001b[1m0s\u001b[0m 3ms/step - loss: 0.0049 - val_loss: 0.0388\n",
            "Epoch 30/50\n",
            "\u001b[1m55/55\u001b[0m \u001b[32m━━━━━━━━━━━━━━━━━━━━\u001b[0m\u001b[37m\u001b[0m \u001b[1m0s\u001b[0m 2ms/step - loss: 0.0049 - val_loss: 0.0554\n",
            "Epoch 31/50\n",
            "\u001b[1m55/55\u001b[0m \u001b[32m━━━━━━━━━━━━━━━━━━━━\u001b[0m\u001b[37m\u001b[0m \u001b[1m0s\u001b[0m 2ms/step - loss: 0.0045 - val_loss: 0.0516\n",
            "Epoch 32/50\n",
            "\u001b[1m55/55\u001b[0m \u001b[32m━━━━━━━━━━━━━━━━━━━━\u001b[0m\u001b[37m\u001b[0m \u001b[1m0s\u001b[0m 2ms/step - loss: 0.0041 - val_loss: 0.0600\n",
            "Epoch 33/50\n",
            "\u001b[1m55/55\u001b[0m \u001b[32m━━━━━━━━━━━━━━━━━━━━\u001b[0m\u001b[37m\u001b[0m \u001b[1m0s\u001b[0m 2ms/step - loss: 0.0043 - val_loss: 0.0520\n",
            "Epoch 34/50\n",
            "\u001b[1m55/55\u001b[0m \u001b[32m━━━━━━━━━━━━━━━━━━━━\u001b[0m\u001b[37m\u001b[0m \u001b[1m0s\u001b[0m 2ms/step - loss: 0.0040 - val_loss: 0.0573\n",
            "Epoch 35/50\n",
            "\u001b[1m55/55\u001b[0m \u001b[32m━━━━━━━━━━━━━━━━━━━━\u001b[0m\u001b[37m\u001b[0m \u001b[1m0s\u001b[0m 3ms/step - loss: 0.0038 - val_loss: 0.0664\n",
            "Epoch 36/50\n",
            "\u001b[1m55/55\u001b[0m \u001b[32m━━━━━━━━━━━━━━━━━━━━\u001b[0m\u001b[37m\u001b[0m \u001b[1m0s\u001b[0m 2ms/step - loss: 0.0037 - val_loss: 0.0656\n",
            "Epoch 37/50\n",
            "\u001b[1m55/55\u001b[0m \u001b[32m━━━━━━━━━━━━━━━━━━━━\u001b[0m\u001b[37m\u001b[0m \u001b[1m0s\u001b[0m 2ms/step - loss: 0.0034 - val_loss: 0.0691\n",
            "Epoch 38/50\n",
            "\u001b[1m55/55\u001b[0m \u001b[32m━━━━━━━━━━━━━━━━━━━━\u001b[0m\u001b[37m\u001b[0m \u001b[1m0s\u001b[0m 3ms/step - loss: 0.0034 - val_loss: 0.0727\n",
            "Epoch 39/50\n",
            "\u001b[1m55/55\u001b[0m \u001b[32m━━━━━━━━━━━━━━━━━━━━\u001b[0m\u001b[37m\u001b[0m \u001b[1m0s\u001b[0m 4ms/step - loss: 0.0032 - val_loss: 0.0639\n",
            "Epoch 40/50\n",
            "\u001b[1m55/55\u001b[0m \u001b[32m━━━━━━━━━━━━━━━━━━━━\u001b[0m\u001b[37m\u001b[0m \u001b[1m0s\u001b[0m 3ms/step - loss: 0.0030 - val_loss: 0.0802\n",
            "Epoch 41/50\n",
            "\u001b[1m55/55\u001b[0m \u001b[32m━━━━━━━━━━━━━━━━━━━━\u001b[0m\u001b[37m\u001b[0m \u001b[1m0s\u001b[0m 3ms/step - loss: 0.0030 - val_loss: 0.0881\n",
            "Epoch 42/50\n",
            "\u001b[1m55/55\u001b[0m \u001b[32m━━━━━━━━━━━━━━━━━━━━\u001b[0m\u001b[37m\u001b[0m \u001b[1m0s\u001b[0m 3ms/step - loss: 0.0031 - val_loss: 0.0861\n",
            "Epoch 43/50\n",
            "\u001b[1m55/55\u001b[0m \u001b[32m━━━━━━━━━━━━━━━━━━━━\u001b[0m\u001b[37m\u001b[0m \u001b[1m0s\u001b[0m 2ms/step - loss: 0.0030 - val_loss: 0.0750\n",
            "Epoch 44/50\n",
            "\u001b[1m55/55\u001b[0m \u001b[32m━━━━━━━━━━━━━━━━━━━━\u001b[0m\u001b[37m\u001b[0m \u001b[1m0s\u001b[0m 2ms/step - loss: 0.0029 - val_loss: 0.0725\n",
            "Epoch 45/50\n",
            "\u001b[1m55/55\u001b[0m \u001b[32m━━━━━━━━━━━━━━━━━━━━\u001b[0m\u001b[37m\u001b[0m \u001b[1m0s\u001b[0m 2ms/step - loss: 0.0026 - val_loss: 0.0957\n",
            "Epoch 46/50\n",
            "\u001b[1m55/55\u001b[0m \u001b[32m━━━━━━━━━━━━━━━━━━━━\u001b[0m\u001b[37m\u001b[0m \u001b[1m0s\u001b[0m 2ms/step - loss: 0.0028 - val_loss: 0.0838\n",
            "Epoch 47/50\n",
            "\u001b[1m55/55\u001b[0m \u001b[32m━━━━━━━━━━━━━━━━━━━━\u001b[0m\u001b[37m\u001b[0m \u001b[1m0s\u001b[0m 2ms/step - loss: 0.0025 - val_loss: 0.0907\n",
            "Epoch 48/50\n",
            "\u001b[1m55/55\u001b[0m \u001b[32m━━━━━━━━━━━━━━━━━━━━\u001b[0m\u001b[37m\u001b[0m \u001b[1m0s\u001b[0m 3ms/step - loss: 0.0028 - val_loss: 0.0872\n",
            "Epoch 49/50\n",
            "\u001b[1m55/55\u001b[0m \u001b[32m━━━━━━━━━━━━━━━━━━━━\u001b[0m\u001b[37m\u001b[0m \u001b[1m0s\u001b[0m 2ms/step - loss: 0.0027 - val_loss: 0.1032\n",
            "Epoch 50/50\n",
            "\u001b[1m55/55\u001b[0m \u001b[32m━━━━━━━━━━━━━━━━━━━━\u001b[0m\u001b[37m\u001b[0m \u001b[1m0s\u001b[0m 2ms/step - loss: 0.0029 - val_loss: 0.0816\n"
          ]
        },
        {
          "data": {
            "image/png": "[encoded data removed]",
            "text/plain": [
              "<Figure size 640x480 with 1 Axes>"
            ]
          },
          "metadata": {},
          "output_type": "display_data"
        },
        {
          "name": "stdout",
          "output_type": "stream",
          "text": [
            "\u001b[1m6/6\u001b[0m \u001b[32m━━━━━━━━━━━━━━━━━━━━\u001b[0m\u001b[37m\u001b[0m \u001b[1m1s\u001b[0m 80ms/step\n",
            "Accuracy: 55.32%\n",
            "Mean Squared Error (MSE): 170.53\n",
            "Root Mean Squared Error (RMSE): 13.06\n"
          ]
        },
        {
          "data": {
            "image/png": "[encoded data removed]",
            "text/plain": [
              "<Figure size 1000x500 with 1 Axes>"
            ]
          },
          "metadata": {},
          "output_type": "display_data"
        },
        {
          "name": "stdout",
          "output_type": "stream",
          "text": [
            "All datasets processed successfully!\n"
          ]
        }
      ],
      "source": [
        "# Store datasets in a dictionary\n",
        "datasets = {\n",
        "    \"anv\": anv_df,\n",
        "    \"dat\": dat_df,\n",
        "    \"hah\": hah_df,\n",
        "    \"kdc\": kdc_df,\n",
        "    \"naf\": naf_df,\n",
        "    \"pvt\": pvt_df\n",
        "}\n",
        "\n",
        "# Features and target column\n",
        "features = ['SMA_200', 'RSI', 'STOCH', 'GDP_Index', 'Interest rates']\n",
        "target = 'Close'\n",
        "\n",
        "# Model parameters\n",
        "num_layers = 2\n",
        "size_layer = 50\n",
        "output_size = 1\n",
        "epochs = 50\n",
        "batch_size = 16\n",
        "\n",
        "# Store results\n",
        "models = {}\n",
        "histories = {}\n",
        "predictions_results = {}\n",
        "\n",
        "# Process each dataset\n",
        "for name, df in datasets.items():\n",
        "    print(f\"Processing dataset: {name.upper()}\")\n",
        "\n",
        "    # Normalize Data\n",
        "    scaler_x = MinMaxScaler()\n",
        "    scaler_y = MinMaxScaler()\n",
        "\n",
        "    X = scaler_x.fit_transform(df[features])\n",
        "    y = scaler_y.fit_transform(df[[target]])\n",
        "\n",
        "    # Reshape for LSTM\n",
        "    X = X.reshape((X.shape[0], 1, X.shape[1]))\n",
        "\n",
        "    # Manually Split Data Sequentially\n",
        "    train_size = int(len(X) * 0.7)\n",
        "    val_size = int(len(X) * 0.15)\n",
        "\n",
        "    X_train, y_train = X[:train_size], y[:train_size]\n",
        "    X_val, y_val = X[train_size:train_size + val_size], y[train_size:train_size + val_size]\n",
        "    X_test, y_test = X[train_size + val_size:], y[train_size + val_size:]\n",
        "\n",
        "    # Define Model\n",
        "    model = LSTMModel(num_layers, size_layer, output_size)\n",
        "    model.compile(optimizer='adam', loss='mse')\n",
        "\n",
        "    # Train Model\n",
        "    history = train_model(model, X_train, y_train, X_val, y_val, epochs=epochs, batch_size=batch_size)\n",
        "\n",
        "    # Store trained model and history\n",
        "    models[name] = model\n",
        "    histories[name] = history\n",
        "\n",
        "    # Visualize training vs validation loss\n",
        "    def plot_training_history(history):\n",
        "        plt.plot(history.history['loss'], label='Training Loss', color=\"skyblue\")\n",
        "        plt.plot(history.history['val_loss'], label='Validation Loss', color=\"orange\")\n",
        "        plt.title(f\"Training and Validation Loss - {name.upper()}\")\n",
        "        plt.xlabel('Epochs')\n",
        "        plt.ylabel('Loss')\n",
        "        plt.legend()\n",
        "        plt.show()\n",
        "\n",
        "    # Visualize Training Progress\n",
        "    plot_training_history(history)\n",
        "\n",
        "    # Evaluate Model\n",
        "    predictions_rescaled, accuracy, mse, rmse = evaluate_model(model, X_test, y_test, scaler_y)\n",
        "    y_test_rescaled = scaler_y.inverse_transform(y_test)\n",
        "\n",
        "    # Store predictions\n",
        "    predictions_results[name] = {\n",
        "        \"actual\": y_test_rescaled,\n",
        "        \"predicted\": predictions_rescaled\n",
        "    }\n",
        "\n",
        "    # Plot Actual vs Predicted\n",
        "    plt.figure(figsize=(10, 5))\n",
        "    plt.plot(y_test_rescaled, label=\"Actual\", color=\"skyblue\")\n",
        "    plt.plot(predictions_rescaled, label=\"Predicted\", color=\"orange\", linestyle='dashed')\n",
        "    plt.title(f\"LSTM Stock Price Prediction - {name.upper()}\")\n",
        "    plt.xlabel(\"Time\")\n",
        "    plt.ylabel(\"Close Price\")\n",
        "    plt.legend()\n",
        "    plt.show()\n",
        "\n",
        "print(\"All datasets processed successfully!\")"
      ]
    }
  ],
  "metadata": {
    "colab": {
      "provenance": [],
      "toc_visible": true
    },
    "kernelspec": {
      "display_name": "tensorflow",
      "language": "python",
      "name": "python3"
    },
    "language_info": {
      "codemirror_mode": {
        "name": "ipython",
        "version": 3
      },
      "file_extension": ".py",
      "mimetype": "text/x-python",
      "name": "python",
      "nbconvert_exporter": "python",
      "pygments_lexer": "ipython3",
      "version": "3.12.4"
    }
  },
  "nbformat": 4,
  "nbformat_minor": 0
}
